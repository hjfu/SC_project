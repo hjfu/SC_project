{
  "nbformat": 4,
  "nbformat_minor": 0,
  "metadata": {
    "kernelspec": {
      "display_name": "Python 3",
      "language": "python",
      "name": "python3"
    },
    "language_info": {
      "codemirror_mode": {
        "name": "ipython",
        "version": 3
      },
      "file_extension": ".py",
      "mimetype": "text/x-python",
      "name": "python",
      "nbconvert_exporter": "python",
      "pygments_lexer": "ipython3",
      "version": "3.6.2"
    },
    "colab": {
      "name": "Reserve_Forecast_20190909.ipynb",
      "provenance": [],
      "include_colab_link": true
    }
  },
  "cells": [
    {
      "cell_type": "markdown",
      "metadata": {
        "id": "view-in-github",
        "colab_type": "text"
      },
      "source": [
        "<a href=\"https://colab.research.google.com/github/hjfu/SC_project/blob/master/Reserve_Forecast_ConsumerOther_2019Nov.ipynb\" target=\"_parent\"><img src=\"https://colab.research.google.com/assets/colab-badge.svg\" alt=\"Open In Colab\"/></a>"
      ]
    },
    {
      "cell_type": "code",
      "metadata": {
        "id": "oba9i9gZQMaf",
        "colab_type": "code",
        "colab": {}
      },
      "source": [
        "import sys\n",
        "import os\n",
        "import pandas as pd\n",
        "import dask.dataframe as dd\n",
        "import numpy as np\n",
        "import datetime as dt\n",
        "import collections\n",
        "from pandas.tseries.offsets import MonthEnd\n",
        "import matplotlib.pyplot as plt\n",
        "import matplotlib.dates as mdates\n",
        "import matplotlib.cm as cm\n",
        "\n",
        "#import self written module for vintage calculation and visualization\n",
        "# sys.path.append('C:\\\\Users\\\\Hu09559\\\\Documents\\\\Consumer\\\\Code\\\\Python')\n",
        "# import vintageCal"
      ],
      "execution_count": 0,
      "outputs": []
    },
    {
      "cell_type": "code",
      "metadata": {
        "id": "LAsjFumjQMap",
        "colab_type": "code",
        "colab": {}
      },
      "source": [
        ""
      ],
      "execution_count": 0,
      "outputs": []
    },
    {
      "cell_type": "code",
      "metadata": {
        "id": "XW4Eknq6QMaz",
        "colab_type": "code",
        "colab": {},
        "outputId": "be8e8db1-2b0e-4d58-f367-abefe70464bf"
      },
      "source": [
        "# dataDirectory = 'W:\\\\Corporate\\\\20368\\\\DFAST_Enterprise_Credit_Loss_Stress_Testing_Models\\\\Consumer_Models\\\\SAS_MIP\\\\ConsumerOther\\\\Data\\\\'\n",
        "#dataDirectory = 'C:\\\\Users\\\\Hu09559\\\\Documents\\\\Consumer\\\\Reserve Forecast\\\\'\n",
        "# fileName = ''.join(['cecl_ptf_20190630_consumerother.sas7bdat'])\n",
        "#fileName = ''.join('cecl_ptf_20190630_consumerother.csv')\n",
        "\n",
        "dataDirectory = 'W:\\\\Corporate\\\\20368\\\\DFAST_Enterprise_Credit_Loss_Stress_Testing_Models\\\\Consumer Models\\\\SAS_MIP\\\\data'\n",
        "fileName = ''.join('CECL_PTF_20190930.csv')\n",
        "filePath = os.path.join(dataDirectory, fileName)\n",
        "data_snapshot = pd.read_csv(filePath)\n",
        "print(fileName)\n",
        "# data_snapshot =  pd.read_sas(filePath,format='sas7bdat')\n"
      ],
      "execution_count": 0,
      "outputs": [
        {
          "output_type": "stream",
          "text": [
            "CECL_PTF_20190930.csv\n"
          ],
          "name": "stdout"
        },
        {
          "output_type": "stream",
          "text": [
            "C:\\ProgramData\\Anaconda3\\lib\\site-packages\\IPython\\core\\interactiveshell.py:2698: DtypeWarning: Columns (42,78,82,137,143) have mixed types. Specify dtype option on import or set low_memory=False.\n",
            "  interactivity=interactivity, compiler=compiler, result=result)\n"
          ],
          "name": "stderr"
        }
      ]
    },
    {
      "cell_type": "code",
      "metadata": {
        "id": "ug7mMGQHQMa7",
        "colab_type": "code",
        "colab": {}
      },
      "source": [
        ""
      ],
      "execution_count": 0,
      "outputs": []
    },
    {
      "cell_type": "code",
      "metadata": {
        "id": "KBnIdSnAQMbF",
        "colab_type": "code",
        "colab": {},
        "outputId": "44286015-ed72-4150-9812-fa413aff24a4"
      },
      "source": [
        "#print(data_snapshot.columns[data_snapshot.columns.str.contains('EOM')])\n",
        "# print(data_snapshot.columns[data_snapshot.columns.str.contains('Open')])\n",
        "#print(list(data_snapshot.columns))\n",
        "print(data_snapshot.columns[data_snapshot.columns.str.contains('Seg')])\n",
        "# print(data_snapshot.columns[data_snapshot.columns.str.contains('Due')])\n",
        "print(data_snapshot['SECSegmentDe_YrMo'].unique())"
      ],
      "execution_count": 0,
      "outputs": [
        {
          "output_type": "stream",
          "text": [
            "Index(['SECSegmentDe_Origin', 'Model_Segment', 'SECSegmentNr_YrMo',\n",
            "       'SECSegmentDe_YrMo', 'SECSubSegmentDe_YrMo'],\n",
            "      dtype='object')\n",
            "['Consumer Real Estate' 'Commercial and Industrial' 'Consumer and Other'\n",
            " 'CRE - Owner Occupied' 'CRE - Non Owner Occupied' 'Energy'\n",
            " 'CRE - Construction and Land Development' nan]\n"
          ],
          "name": "stdout"
        }
      ]
    },
    {
      "cell_type": "code",
      "metadata": {
        "id": "c7DUtCJnQMbL",
        "colab_type": "code",
        "colab": {}
      },
      "source": [
        "data_snapshot = data_snapshot.loc[data_snapshot['SECSegmentDe_YrMo'] == 'Consumer and Other',]"
      ],
      "execution_count": 0,
      "outputs": []
    },
    {
      "cell_type": "code",
      "metadata": {
        "id": "TG-MceUKQMbQ",
        "colab_type": "code",
        "colab": {}
      },
      "source": [
        "# define the default loans\n",
        "\n",
        "default_df = data_snapshot.loc[((data_snapshot['DAYS_PAST_DUE_CNT'] >= 90) &(data_snapshot['DAYS_PAST_DUE_CNT'] < 120)) |(data_snapshot['EOMChrgOffDt'].notnull()) | (data_snapshot['RiskCd'] >=12), ] "
      ],
      "execution_count": 0,
      "outputs": []
    },
    {
      "cell_type": "code",
      "metadata": {
        "id": "FO3gErnuQMbX",
        "colab_type": "code",
        "colab": {},
        "outputId": "86284abb-608f-4bab-eac6-0c8fa4f3377f"
      },
      "source": [
        "default_df.shape[0]/data_snapshot.shape[0]"
      ],
      "execution_count": 0,
      "outputs": [
        {
          "output_type": "execute_result",
          "data": {
            "text/plain": [
              "0.0015384615384615385"
            ]
          },
          "metadata": {
            "tags": []
          },
          "execution_count": 14
        }
      ]
    },
    {
      "cell_type": "code",
      "metadata": {
        "id": "vJRY2cDBQMbf",
        "colab_type": "code",
        "colab": {},
        "outputId": "8035c471-ca38-484d-adea-e3f473a10a07"
      },
      "source": [
        "data_snapshot.shape[0]"
      ],
      "execution_count": 0,
      "outputs": [
        {
          "output_type": "execute_result",
          "data": {
            "text/plain": [
              "27950"
            ]
          },
          "metadata": {
            "tags": []
          },
          "execution_count": 15
        }
      ]
    },
    {
      "cell_type": "code",
      "metadata": {
        "id": "GG7VUAc4QMbn",
        "colab_type": "code",
        "colab": {},
        "outputId": "b2675b6d-db0b-4e62-f5ec-8529a4ea9fc8"
      },
      "source": [
        "print(data_snapshot['SECSegmentDe_YrMo'].unique())"
      ],
      "execution_count": 0,
      "outputs": [
        {
          "output_type": "stream",
          "text": [
            "['Consumer and Other']\n"
          ],
          "name": "stdout"
        }
      ]
    },
    {
      "cell_type": "markdown",
      "metadata": {
        "id": "rbvLouC8QMbr",
        "colab_type": "text"
      },
      "source": [
        "Data Cleaning¶"
      ]
    },
    {
      "cell_type": "code",
      "metadata": {
        "id": "EVE_5Q_fQMbt",
        "colab_type": "code",
        "colab": {}
      },
      "source": [
        "# EOMDates = list(data_snapshot.columns[data_snapshot.columns.str.contains('YrMo')])\n",
        "# df_EOMcols = data_snapshot[EOMDates]\n",
        "# print(df_EOMcols)\n",
        "# print(data_snapshot.EOMOpenDt_YrMo.head())\n",
        "# def numConvert2Dates (x):\n",
        "# #     x1 = x.astype(int)\n",
        "#     x2 = x.astype(str)\n",
        "#     x3 = x2[:6]\n",
        "#     return (x3)\n",
        "\n",
        "# data_snapshot[['EOMMaturityDt_YrMo', 'EOMOpenDt_YrMo','YrMo']].apply(numConvert2Dates)\n"
      ],
      "execution_count": 0,
      "outputs": []
    },
    {
      "cell_type": "markdown",
      "metadata": {
        "id": "x7Ehb6imQMb3",
        "colab_type": "text"
      },
      "source": [
        "#### Create a new column named \"Date\" from YrMo as Timestamp and period¶"
      ]
    },
    {
      "cell_type": "code",
      "metadata": {
        "id": "TcwJLOesQMb5",
        "colab_type": "code",
        "colab": {},
        "outputId": "89506fa5-a7b4-430e-e8fe-10b1453effc5"
      },
      "source": [
        "data_snapshot['Date_dt'] = pd.to_datetime(data_snapshot['YrMo'].astype(str), format='%Y%m')\n",
        "data_snapshot['Date_dt'] = data_snapshot['Date_dt'] + MonthEnd()\n",
        "data_snapshot[\"Date_mon\"] = data_snapshot[\"Date_dt\"].dt.to_period(\"M\")\n",
        "print(data_snapshot.EOMMaturityDt_YrMo.head())\n",
        "\n",
        "data_snapshot['MaturityDate_dt'] = pd.to_datetime(data_snapshot['EOMMaturityDt_YrMo'].astype(str), format='%d%b%Y')\n",
        "# data_snapshot['MaturityDate_dt'] = data_snapshot['MaturityDate_dt'] + MonthEnd()\n",
        "data_snapshot[\"MaturityDate_mon\"] = data_snapshot[\"MaturityDate_dt\"].dt.to_period(\"M\")\n",
        "data_snapshot['vintage_year'] = pd.to_datetime(data_snapshot['EOMOpenDt_YrMo'].astype(str), format='%d%b%Y').dt.strftime(\"%Y\")\n",
        "\n",
        "\n",
        "print(data_snapshot['MaturityDate_mon'].head())"
      ],
      "execution_count": 0,
      "outputs": [
        {
          "output_type": "stream",
          "text": [
            "2    31OCT2021\n",
            "4    31MAR2020\n",
            "6    31OCT2021\n",
            "7    31DEC2019\n",
            "9    31OCT2020\n",
            "Name: EOMMaturityDt_YrMo, dtype: object\n",
            "2   2021-10\n",
            "4   2020-03\n",
            "6   2021-10\n",
            "7   2019-12\n",
            "9   2020-10\n",
            "Name: MaturityDate_mon, dtype: object\n"
          ],
          "name": "stdout"
        }
      ]
    },
    {
      "cell_type": "code",
      "metadata": {
        "id": "7smsuk1AQMcB",
        "colab_type": "code",
        "colab": {},
        "outputId": "aa880cfd-6761-4f21-f4ae-2c2ff6447fd5"
      },
      "source": [
        "print(data_snapshot.loc[data_snapshot['INSTID'] == 1113180, 'MaturityDate_dt'])"
      ],
      "execution_count": 0,
      "outputs": [
        {
          "output_type": "stream",
          "text": [
            "Series([], Name: MaturityDate_dt, dtype: datetime64[ns])\n"
          ],
          "name": "stdout"
        }
      ]
    },
    {
      "cell_type": "markdown",
      "metadata": {
        "id": "ZfwNGLtZQMcG",
        "colab_type": "text"
      },
      "source": [
        "#### Create two level segmentation variables (1): segment_level_0"
      ]
    },
    {
      "cell_type": "code",
      "metadata": {
        "collapsed": true,
        "id": "U4g9-XtwQMcI",
        "colab_type": "code",
        "colab": {}
      },
      "source": [
        "# data_snapshot['segment_level_0'] = 5\n",
        "# data_snapshot.loc[(data_snapshot.ProdCd_Origin == 'HEQ')|(data_snapshot.ProdCd_Origin == 'HIM')|\n",
        "#              (data_snapshot.ProdCd_Origin == 'HEL')|(data_snapshot.ProdCd_Origin == 'PM2')|(data_snapshot.ProdCd_Origin == 'R1L')|\n",
        "#              (data_snapshot.ProdCd_Origin == 'RRE')|(data_snapshot.ProdCd_Origin == 'LLO')|(data_snapshot.ProdCd_Origin == 'RIN')|\n",
        "#              (data_snapshot.ProdCd_Origin == 'RAW')|(data_snapshot.ProdCd_Origin == 'RJR')|(data_snapshot.ProdCd_Origin == 'RIV'), \n",
        "#              'segment_level_0'] = 1\n",
        "# data_snapshot.loc[(data_snapshot.ProdCd_Origin == 'AUU')|(data_snapshot.ProdCd_Origin == 'AUN')|\n",
        "#              (data_snapshot.ProdCd_Origin == 'AUC')|(data_snapshot.ProdCd_Origin == 'REC')|(data_snapshot.ProdCd_Origin == 'LVE'), \n",
        "#              'segment_level_0'] = 2\n",
        "# data_snapshot.loc[(data_snapshot.ProdCd_Origin == 'DEP')|(data_snapshot.ProdCd_Origin == 'PLC')|\n",
        "#              (data_snapshot.ProdCd_Origin == 'TRB')|(data_snapshot.ProdCd_Origin == 'LIF')|(data_snapshot.ProdCd_Origin == 'VSI'), \n",
        "#              'segment_level_0'] = 3\n",
        "# data_snapshot.loc[(data_snapshot.ProdCd_Origin == 'IIL')|(data_snapshot.ProdCd_Origin == 'EQP')|\n",
        "#              (data_snapshot.ProdCd_Origin == 'NRE'), \n",
        "#              'segment_level_0'] = 4\n",
        "# data_snapshot.loc[(data_snapshot.ProdCd_Origin == 'PLU')|(data_snapshot.ProdCd_Origin == 'UNS'), \n",
        "#              'segment_level_0'] = 0"
      ],
      "execution_count": 0,
      "outputs": []
    },
    {
      "cell_type": "code",
      "metadata": {
        "collapsed": true,
        "id": "5l4h-lNvQMcO",
        "colab_type": "code",
        "colab": {}
      },
      "source": [
        "data_snapshot['segment_level_0'] = 5\n",
        "data_snapshot.loc[(data_snapshot.ProdCd_YrMo == 'HEQ')|(data_snapshot.ProdCd_YrMo == 'HIM')|\n",
        "             (data_snapshot.ProdCd_YrMo == 'HEL')|(data_snapshot.ProdCd_YrMo == 'PM2')|(data_snapshot.ProdCd_YrMo == 'R1L')|\n",
        "             (data_snapshot.ProdCd_YrMo == 'RRE')|(data_snapshot.ProdCd_YrMo == 'LLO')|(data_snapshot.ProdCd_YrMo == 'RIN')|\n",
        "             (data_snapshot.ProdCd_YrMo == 'RAW')|(data_snapshot.ProdCd_YrMo == 'RJR')|(data_snapshot.ProdCd_YrMo == 'RIV'), \n",
        "             'segment_level_0'] = 1\n",
        "data_snapshot.loc[(data_snapshot.ProdCd_YrMo == 'AUU')|(data_snapshot.ProdCd_YrMo == 'AUN')|\n",
        "             (data_snapshot.ProdCd_YrMo == 'AUC')|(data_snapshot.ProdCd_YrMo == 'REC')|(data_snapshot.ProdCd_YrMo == 'LVE'), \n",
        "             'segment_level_0'] = 2\n",
        "data_snapshot.loc[(data_snapshot.ProdCd_YrMo == 'DEP')|(data_snapshot.ProdCd_YrMo == 'PLC')|\n",
        "             (data_snapshot.ProdCd_YrMo == 'TRB')|(data_snapshot.ProdCd_YrMo == 'LIF')|(data_snapshot.ProdCd_YrMo == 'VSI'), \n",
        "             'segment_level_0'] = 3\n",
        "data_snapshot.loc[(data_snapshot.ProdCd_YrMo == 'IIL')|(data_snapshot.ProdCd_YrMo == 'EQP')|\n",
        "             (data_snapshot.ProdCd_YrMo == 'NRE'), \n",
        "             'segment_level_0'] = 4\n",
        "data_snapshot.loc[(data_snapshot.ProdCd_YrMo == 'PLU')|(data_snapshot.ProdCd_YrMo == 'UNS'), \n",
        "             'segment_level_0'] = 0\n",
        "\n",
        "data_snapshot['segment_level_0'] = data_snapshot['segment_level_0'].astype(int)"
      ],
      "execution_count": 0,
      "outputs": []
    },
    {
      "cell_type": "markdown",
      "metadata": {
        "id": "qAHQ-J20QMcT",
        "colab_type": "text"
      },
      "source": [
        "#### Create two level segment variables (2): segment_level_1"
      ]
    },
    {
      "cell_type": "code",
      "metadata": {
        "collapsed": true,
        "id": "pod9PuWBQMcV",
        "colab_type": "code",
        "colab": {}
      },
      "source": [
        "data_snapshot['segment_level_1'] = 0\n",
        "# data_snapshot.loc[(data_snapshot['segment_level_0'] == 0)&(data_snapshot['ProdCd_YrMo'] == 'UNS'), \n",
        "#                   'segment_level_1'] = 1\n",
        "# data_snapshot.loc[(data_snapshot['segment_level_0'] == 0)&(data_snapshot['ProdCd_YrMo'] == 'PLU'), \n",
        "#                   'segment_level_1'] = 0\n",
        "\n",
        "data_snapshot.loc[(data_snapshot['ProdCd_YrMo'] == 'UNS'), 'segment_level_1'] = 1\n",
        "data_snapshot.loc[(data_snapshot['ProdCd_YrMo'] == 'PLU'), 'segment_level_1'] = 0\n",
        "\n",
        "data_snapshot.loc[(data_snapshot['segment_level_0'] == 3), 'segment_level_1'] = 1\n",
        "data_snapshot.loc[(data_snapshot['segment_level_0'] == 3 )&(data_snapshot['Term_Origin'] <= 15 ), \n",
        "                  'segment_level_1'] = 0\n",
        "data_snapshot.loc[(data_snapshot['segment_level_0'] == 3) &(data_snapshot['Term_Origin'] > 30),\n",
        "                  'segment_level_1'] = 2\n",
        "# data_snapshot['segment_level_1'] = data_snapshot['segment_level_1'].astype(int)"
      ],
      "execution_count": 0,
      "outputs": []
    },
    {
      "cell_type": "markdown",
      "metadata": {
        "id": "BSipdugkQMcg",
        "colab_type": "text"
      },
      "source": [
        "#### Create segment based on secured or not"
      ]
    },
    {
      "cell_type": "code",
      "metadata": {
        "collapsed": true,
        "id": "jsSrPs9oQMcj",
        "colab_type": "code",
        "colab": {}
      },
      "source": [
        "data_snapshot['segment_level_s'] = 'SECURED'\n",
        "data_snapshot.loc[(data_snapshot['ProdCd_YrMo'] == 'UNS'), 'segment_level_s'] = 'UNS'\n",
        "data_snapshot.loc[(data_snapshot['ProdCd_YrMo'] == 'PLU'), 'segment_level_s'] = 'PLU'"
      ],
      "execution_count": 0,
      "outputs": []
    },
    {
      "cell_type": "code",
      "metadata": {
        "scrolled": true,
        "id": "fgWYh_DtQMcr",
        "colab_type": "code",
        "colab": {},
        "outputId": "2cfbaf91-15d1-4476-9dc5-113732e50c78"
      },
      "source": [
        "data_temp = data_snapshot.loc[(data_snapshot['segment_level_s'] == 'UNS'),]\n",
        "print(data_temp.segment_level_1.unique())\n",
        "print(data_temp[['INSTID', 'ProdCd_YrMo', 'segment_level_0', 'segment_level_1', 'Term_Origin']])"
      ],
      "execution_count": 0,
      "outputs": [
        {
          "output_type": "stream",
          "text": [
            "[1]\n",
            "          INSTID ProdCd_YrMo  segment_level_0  segment_level_1  Term_Origin\n",
            "404    101201387         UNS                0                1        180.0\n",
            "488    101500217         UNS                0                1         36.0\n",
            "660    102000280         UNS                0                1         60.0\n",
            "733    102201427         UNS                0                1         36.0\n",
            "941    103502459         UNS                0                1         36.0\n",
            "1130   104401232         UNS                0                1        180.0\n",
            "1270   105103537         UNS                0                1         61.0\n",
            "1698   107502672         UNS                0                1        180.0\n",
            "1786   107902450         UNS                0                1         36.0\n",
            "2752   112215152         UNS                0                1        180.0\n",
            "2761   112216288         UNS                0                1         36.0\n",
            "2916   112401438         UNS                0                1        180.0\n",
            "3109   112515045         UNS                0                1        108.0\n",
            "3126   112516275         UNS                0                1        181.0\n",
            "3344   112713989         UNS                0                1         24.0\n",
            "3515   112903237         UNS                0                1         48.0\n",
            "3572   112910383         UNS                0                1         36.0\n",
            "3655   113006494         UNS                0                1         60.0\n",
            "3693   113011589         UNS                0                1        180.0\n",
            "3750   113103376         UNS                0                1         36.0\n",
            "3877   113205527         UNS                0                1         36.0\n",
            "3888   113206965         UNS                0                1        120.0\n",
            "4083   113401337         UNS                0                1        180.0\n",
            "4085   113401432         UNS                0                1        180.0\n",
            "4495   113714008         UNS                0                1        120.0\n",
            "4759   114002485         UNS                0                1         36.0\n",
            "4844   114012931         UNS                0                1         36.0\n",
            "4862   114015279         UNS                0                1         36.0\n",
            "5054   114210198         UNS                0                1         36.0\n",
            "5193   114314783         UNS                0                1        179.0\n",
            "...          ...         ...              ...              ...          ...\n",
            "61326   69300709         UNS                0                1        180.0\n",
            "62040   71601044         UNS                0                1         36.0\n",
            "62060   71701424         UNS                0                1        180.0\n",
            "62230   72500068         UNS                0                1        120.0\n",
            "62646   77400569         UNS                0                1        180.0\n",
            "63456   82700963         UNS                0                1        181.0\n",
            "63492   82900746         UNS                0                1        180.0\n",
            "63596   83801127         UNS                0                1        180.0\n",
            "63620   83801540         UNS                0                1         36.0\n",
            "63798   84202353         UNS                0                1         36.0\n",
            "64061   85200682         UNS                0                1        180.0\n",
            "64183   85800713         UNS                0                1         59.0\n",
            "64197   85801056         UNS                0                1         61.0\n",
            "64281   85900511         UNS                0                1        180.0\n",
            "64283   85900605         UNS                0                1        120.0\n",
            "64443   88187382         UNS                0                1        180.0\n",
            "64505   88380254         UNS                0                1        121.0\n",
            "64604   88683402         UNS                0                1        120.0\n",
            "64667   88880561         UNS                0                1        180.0\n",
            "64696   88975570         UNS                0                1         60.0\n",
            "64790   89231394         UNS                0                1         36.0\n",
            "64800   89275951         UNS                0                1        180.0\n",
            "64813   89281187         UNS                0                1         61.0\n",
            "64860   89423209         UNS                0                1         36.0\n",
            "65147   90177164         UNS                0                1         60.0\n",
            "65704   92700271         UNS                0                1        120.0\n",
            "65717   92900253         UNS                0                1        120.0\n",
            "65817   95700235         UNS                0                1         60.0\n",
            "65907   98000205         UNS                0                1          6.0\n",
            "65991   99101353         UNS                0                1        179.0\n",
            "\n",
            "[2719 rows x 5 columns]\n"
          ],
          "name": "stdout"
        }
      ]
    },
    {
      "cell_type": "code",
      "metadata": {
        "id": "3U3GuZ7DQMcy",
        "colab_type": "code",
        "colab": {},
        "outputId": "1eaaa9b5-3aa1-485d-b64e-1dc01a2f4c22"
      },
      "source": [
        "data_tmp = data_snapshot.loc[data_snapshot['INSTID'] == 100000158, ['ProdCd_YrMo', 'segment_level_0', 'segment_level_1']]\n",
        "#data_tmp.segment_level_1.unique()\n",
        "print(data_snapshot.loc[data_snapshot['INSTID'] == 100000158, ['ProdCd_YrMo', 'ProdCd_Orig', 'segment_level_0', 'segment_level_1']])\n",
        "#print(data_snapshot.segment_level_0.unique())"
      ],
      "execution_count": 0,
      "outputs": [
        {
          "output_type": "stream",
          "text": [
            "Empty DataFrame\n",
            "Columns: [ProdCd_YrMo, ProdCd_Orig, segment_level_0, segment_level_1]\n",
            "Index: []\n"
          ],
          "name": "stdout"
        }
      ]
    },
    {
      "cell_type": "markdown",
      "metadata": {
        "id": "T_4tZlWoQMdA",
        "colab_type": "text"
      },
      "source": [
        "#### create utilization ratio for revolving loans"
      ]
    },
    {
      "cell_type": "code",
      "metadata": {
        "collapsed": true,
        "id": "37v_sJxlQMdC",
        "colab_type": "code",
        "colab": {}
      },
      "source": [
        "data_snapshot['utilization_rate']=data_snapshot.eval(\"UNPAID_BALANCE_AMT/(UNPAID_BALANCE_AMT + OFF_BALANCE_AMT)\") *100\n",
        "data_snapshot.loc[(data_snapshot.REVOLVING_FLG == 'N')|(data_snapshot.OFF_BALANCE_AMT + data_snapshot.UNPAID_BALANCE_AMT <= 0), 'utilization_rate' ] = 1\n"
      ],
      "execution_count": 0,
      "outputs": []
    },
    {
      "cell_type": "markdown",
      "metadata": {
        "id": "cJYX_Vy6QMdJ",
        "colab_type": "text"
      },
      "source": [
        "#### Create Interest Rate Indicator"
      ]
    },
    {
      "cell_type": "code",
      "metadata": {
        "collapsed": true,
        "id": "dTeR5XrFQMdL",
        "colab_type": "code",
        "colab": {}
      },
      "source": [
        "data_snapshot['IntRt_flag_GE15'] = 0\n",
        "data_snapshot.loc[data_snapshot.EFFECTIVE_INTEREST_RT >= 15, \n",
        "                          \"IntRt_flag_GE15\"] = 1"
      ],
      "execution_count": 0,
      "outputs": []
    },
    {
      "cell_type": "markdown",
      "metadata": {
        "id": "T_4rxNPzQMdR",
        "colab_type": "text"
      },
      "source": [
        "#### Create age , vintage and date columns"
      ]
    },
    {
      "cell_type": "code",
      "metadata": {
        "id": "LJI6AhDZQMdS",
        "colab_type": "code",
        "colab": {},
        "outputId": "f6a15488-d4db-4a62-ae43-fd87328194bc"
      },
      "source": [
        "#print(data_snapshot['EOMOpenDt_YrMo'].head())\n",
        "data_snapshot['OpenDt_Dt'] = pd.to_datetime(data_snapshot['EOMOpenDt_YrMo'].astype(str), format='%d%b%Y')\n",
        "# data_snapshot['OpenDt_Dt'] = data_snapshot['OpenDt_Dt'] + MonthBegin(1)\n",
        "data_snapshot['OpenDt_YrMo'] = data_snapshot['OpenDt_Dt'].dt.to_period(\"M\")\n",
        "data_snapshot[\"Age_mon\"] = data_snapshot['Date_mon'] - data_snapshot['OpenDt_YrMo']\n",
        "#print(data_snapshot.Age_mon.head())\n",
        "# data_snapshot[\"Age_mon\"] = data_snapshot[\"Age_mon\"].astype(int)\n",
        "data_snapshot[\"Vintage_Days\"] = data_snapshot['Date_dt'] - data_snapshot['OpenDt_Dt']\n",
        "data_snapshot['Vintage_Days2day'] = data_snapshot['Vintage_Days'].astype('timedelta64[D]') + 1\n",
        "print(data_snapshot['Age_mon'].head())\n",
        "#data_snapshot[\"vintage_monthToDate\"] = data_snapshot[\"vintage_monthToDate\"].astype(int)"
      ],
      "execution_count": 0,
      "outputs": [
        {
          "output_type": "stream",
          "text": [
            "2     95\n",
            "4     95\n",
            "6     95\n",
            "7     94\n",
            "9    179\n",
            "Name: Age_mon, dtype: object\n"
          ],
          "name": "stdout"
        }
      ]
    },
    {
      "cell_type": "code",
      "metadata": {
        "id": "Sjoh90DBQMdX",
        "colab_type": "code",
        "colab": {},
        "outputId": "7680b573-3fc1-446c-dfeb-1ac5e9ec1d6f"
      },
      "source": [
        "# print(data_snapshot.loc[data_snapshot['EOMOpenDt_YrMo'] == , ])\n",
        "# print(data_snapshot.loc[data_snapshot['OpenDt_Dt'].isnull(), ])\n",
        "data_snapshot['OpenDt_str'] = data_snapshot['OpenDt_YrMo'].astype(str).str.replace(r'-','')\n",
        "print(data_snapshot.loc[data_snapshot.Age_mon == 0,['INSTID','Date_mon','EOMOpenDt_YrMo','OpenDt_YrMo','OpenDt_str','MaturityDate_dt']])"
      ],
      "execution_count": 0,
      "outputs": [
        {
          "output_type": "stream",
          "text": [
            "          INSTID Date_mon EOMOpenDt_YrMo OpenDt_YrMo OpenDt_str  \\\n",
            "51176  176200449  2019-09      30SEP2019     2019-09     201909   \n",
            "51177  176200503  2019-09      30SEP2019     2019-09     201909   \n",
            "51178  176200504  2019-09      30SEP2019     2019-09     201909   \n",
            "51182  176200534  2019-09      30SEP2019     2019-09     201909   \n",
            "51184  176200555  2019-09      30SEP2019     2019-09     201909   \n",
            "51188  176200579  2019-09      30SEP2019     2019-09     201909   \n",
            "51210  176300487  2019-09      30SEP2019     2019-09     201909   \n",
            "51213  176300533  2019-09      30SEP2019     2019-09     201909   \n",
            "51216  176300548  2019-09      30SEP2019     2019-09     201909   \n",
            "51234  176400438  2019-09      30SEP2019     2019-09     201909   \n",
            "51240  176400502  2019-09      30SEP2019     2019-09     201909   \n",
            "51241  176400517  2019-09      30SEP2019     2019-09     201909   \n",
            "51262  176500454  2019-09      30SEP2019     2019-09     201909   \n",
            "51292  176600470  2019-09      30SEP2019     2019-09     201909   \n",
            "51293  176600479  2019-09      30SEP2019     2019-09     201909   \n",
            "51317  176700434  2019-09      30SEP2019     2019-09     201909   \n",
            "51318  176700465  2019-09      30SEP2019     2019-09     201909   \n",
            "51320  176700481  2019-09      30SEP2019     2019-09     201909   \n",
            "51322  176700510  2019-09      30SEP2019     2019-09     201909   \n",
            "51350  176800495  2019-09      30SEP2019     2019-09     201909   \n",
            "51351  176800506  2019-09      30SEP2019     2019-09     201909   \n",
            "51353  176800520  2019-09      30SEP2019     2019-09     201909   \n",
            "51371  176900400  2019-09      30SEP2019     2019-09     201909   \n",
            "51372  176900401  2019-09      30SEP2019     2019-09     201909   \n",
            "51377  176900488  2019-09      30SEP2019     2019-09     201909   \n",
            "51380  176900508  2019-09      30SEP2019     2019-09     201909   \n",
            "51381  176900509  2019-09      30SEP2019     2019-09     201909   \n",
            "51382  176900513  2019-09      30SEP2019     2019-09     201909   \n",
            "51383  176900522  2019-09      30SEP2019     2019-09     201909   \n",
            "51405  177000385  2019-09      30SEP2019     2019-09     201909   \n",
            "...          ...      ...            ...         ...        ...   \n",
            "54123  184300471  2019-09      30SEP2019     2019-09     201909   \n",
            "54124  184300478  2019-09      30SEP2019     2019-09     201909   \n",
            "54126  184300520  2019-09      30SEP2019     2019-09     201909   \n",
            "54153  184400431  2019-09      30SEP2019     2019-09     201909   \n",
            "54154  184400449  2019-09      30SEP2019     2019-09     201909   \n",
            "54159  184400514  2019-09      30SEP2019     2019-09     201909   \n",
            "54181  184500376  2019-09      30SEP2019     2019-09     201909   \n",
            "54183  184500389  2019-09      30SEP2019     2019-09     201909   \n",
            "54187  184500408  2019-09      30SEP2019     2019-09     201909   \n",
            "54194  184500499  2019-09      30SEP2019     2019-09     201909   \n",
            "54217  184600424  2019-09      30SEP2019     2019-09     201909   \n",
            "54221  184600477  2019-09      30SEP2019     2019-09     201909   \n",
            "54225  184600503  2019-09      30SEP2019     2019-09     201909   \n",
            "54257  184700465  2019-09      30SEP2019     2019-09     201909   \n",
            "54258  184700478  2019-09      30SEP2019     2019-09     201909   \n",
            "54261  184700500  2019-09      30SEP2019     2019-09     201909   \n",
            "54263  184700530  2019-09      30SEP2019     2019-09     201909   \n",
            "54264  184700531  2019-09      30SEP2019     2019-09     201909   \n",
            "54284  184800423  2019-09      30SEP2019     2019-09     201909   \n",
            "54288  184800505  2019-09      30SEP2019     2019-09     201909   \n",
            "54311  184900509  2019-09      30SEP2019     2019-09     201909   \n",
            "54315  184900555  2019-09      30SEP2019     2019-09     201909   \n",
            "54316  184900560  2019-09      30SEP2019     2019-09     201909   \n",
            "54318  184900582  2019-09      30SEP2019     2019-09     201909   \n",
            "54322  184900659  2019-09      30SEP2019     2019-09     201909   \n",
            "54323  184900685  2019-09      30SEP2019     2019-09     201909   \n",
            "54346  185000435  2019-09      30SEP2019     2019-09     201909   \n",
            "54348  185000455  2019-09      30SEP2019     2019-09     201909   \n",
            "54349  185000463  2019-09      30SEP2019     2019-09     201909   \n",
            "54353  185000526  2019-09      30SEP2019     2019-09     201909   \n",
            "\n",
            "      MaturityDate_dt  \n",
            "51176      2020-09-30  \n",
            "51177      2021-09-30  \n",
            "51178      2020-06-30  \n",
            "51182      2021-09-30  \n",
            "51184      2021-09-30  \n",
            "51188      2021-09-30  \n",
            "51210      2021-09-30  \n",
            "51213      2021-09-30  \n",
            "51216      2021-09-30  \n",
            "51234      2021-09-30  \n",
            "51240      2021-09-30  \n",
            "51241      2021-09-30  \n",
            "51262      2024-09-30  \n",
            "51292      2022-09-30  \n",
            "51293      2025-09-30  \n",
            "51317      2021-09-30  \n",
            "51318      2020-09-30  \n",
            "51320      2023-09-30  \n",
            "51322      2021-09-30  \n",
            "51350      2021-09-30  \n",
            "51351      2021-09-30  \n",
            "51353      2020-11-30  \n",
            "51371      2021-09-30  \n",
            "51372      2023-09-30  \n",
            "51377      2024-09-30  \n",
            "51380      2024-09-30  \n",
            "51381      2021-09-30  \n",
            "51382      2021-09-30  \n",
            "51383      2020-09-30  \n",
            "51405      2023-09-30  \n",
            "...               ...  \n",
            "54123      2021-09-30  \n",
            "54124      2023-09-30  \n",
            "54126      2021-09-30  \n",
            "54153      2021-09-30  \n",
            "54154      2024-09-30  \n",
            "54159      2021-09-30  \n",
            "54181      2020-09-30  \n",
            "54183      2022-09-30  \n",
            "54187      2021-09-30  \n",
            "54194      2019-12-31  \n",
            "54217      2021-09-30  \n",
            "54221      2021-09-30  \n",
            "54225      2020-09-30  \n",
            "54257      2021-03-31  \n",
            "54258      2021-09-30  \n",
            "54261      2022-09-30  \n",
            "54263      2022-09-30  \n",
            "54264      2020-09-30  \n",
            "54284      2021-09-30  \n",
            "54288      2022-09-30  \n",
            "54311      2021-09-30  \n",
            "54315      2024-09-30  \n",
            "54316      2022-09-30  \n",
            "54318      2021-09-30  \n",
            "54322      2024-09-30  \n",
            "54323      2021-09-30  \n",
            "54346      2024-09-30  \n",
            "54348      2022-09-30  \n",
            "54349      2024-09-30  \n",
            "54353      2022-09-30  \n",
            "\n",
            "[322 rows x 6 columns]\n"
          ],
          "name": "stdout"
        }
      ]
    },
    {
      "cell_type": "code",
      "metadata": {
        "collapsed": true,
        "id": "vw98o05FQMdd",
        "colab_type": "code",
        "colab": {}
      },
      "source": [
        "# print(data_snapshot.loc[data_snapshot.Age_mon == 0,['INSTID','Date_mon','EOMOpenDt_YrMo','OpenDt_YrMo']])"
      ],
      "execution_count": 0,
      "outputs": []
    },
    {
      "cell_type": "code",
      "metadata": {
        "id": "xVa4yYXZQMdh",
        "colab_type": "code",
        "colab": {},
        "outputId": "aca73971-900b-4578-a485-ea13992c5d90"
      },
      "source": [
        "data_snapshot_1 = data_snapshot.loc[data_snapshot['MaturityDate_dt'] > '2019-09-30',]\n",
        "print(data_snapshot_1.shape[0], data_snapshot.shape[0])"
      ],
      "execution_count": 0,
      "outputs": [
        {
          "output_type": "stream",
          "text": [
            "27356 27950\n"
          ],
          "name": "stdout"
        }
      ]
    },
    {
      "cell_type": "code",
      "metadata": {
        "id": "CAw4LhoHQMdl",
        "colab_type": "code",
        "colab": {},
        "outputId": "3e03a803-c958-4afd-c75c-1d9962f89038"
      },
      "source": [
        "data_snapshot_1.loc[data_snapshot_1.INSTID == 1113180, 'EOMMaturityDt_YrMo']"
      ],
      "execution_count": 0,
      "outputs": [
        {
          "output_type": "execute_result",
          "data": {
            "text/plain": [
              "Series([], Name: EOMMaturityDt_YrMo, dtype: object)"
            ]
          },
          "metadata": {
            "tags": []
          },
          "execution_count": 17
        }
      ]
    },
    {
      "cell_type": "code",
      "metadata": {
        "collapsed": true,
        "id": "m3DJ9HmBQMdq",
        "colab_type": "code",
        "colab": {}
      },
      "source": [
        "data_forecast = data_snapshot_1[  \n",
        "    ['INSTID',\n",
        "    'ProdCd_YrMo',\n",
        "    'EOMOpenDt_YrMo',\n",
        "    'OpenDt_str',\n",
        "    'EOMMaturityDt_YrMo',\n",
        "    'MaturityDate_mon',\n",
        "    'Term_Origin',\n",
        "    'EFFECTIVE_INTEREST_RT',\n",
        "    'RevolveIn',\n",
        "    'segment_level_0',\n",
        "    'segment_level_1',\n",
        "    'segment_level_s',\n",
        "    'vintage_year',  \n",
        "    'IntRt_flag_GE15',\n",
        "    'utilization_rate',\n",
        "    'PMT_L6MO',\n",
        "    'Age_mon',\n",
        "    'OpenDt_Dt',\n",
        "    'OpenDt_YrMo',\n",
        "    'Vintage_Days',\n",
        "    'MaturityDate_dt',\n",
        "    'NetGLOutstandingBalance',\n",
        "    'OpenAmt_YrMo',\n",
        "    'PrinPayment_L6mon',\n",
        "    'UNPAID_BALANCE_AMT', \n",
        "    'OFF_BALANCE_AMT',\n",
        "    'DAYS_PAST_DUE_CNT',\n",
        "    'RiskCd',\n",
        "    'EOMChrgOffDt'\n",
        "]]\n",
        "#'EOMOpenDt_YrMo_dt','EOMOpenDt_YrMo_mon','EOMMaturityDt_YrMo_dt','EOMMaturityDt_YrMo_mon','PA_segment','ProdCd_flag_PLC','ProdCd_flag_PLU','ProdCd_flag_UNS','GrossOutstandingBalance',\n",
        "# 'MaturityDate_dt','Date_dt','Date_mon',"
      ],
      "execution_count": 0,
      "outputs": []
    },
    {
      "cell_type": "markdown",
      "metadata": {
        "id": "i-vq9lsdQMdy",
        "colab_type": "text"
      },
      "source": [
        "### expand the forecast series for each loan point in the forecast sample"
      ]
    },
    {
      "cell_type": "code",
      "metadata": {
        "id": "gG-5b6ffQMdz",
        "colab_type": "code",
        "colab": {},
        "outputId": "d306b568-f7b6-4237-a9ef-f8495bc0db88"
      },
      "source": [
        "print(data_forecast.loc[data_forecast['INSTID'] == 620202,])"
      ],
      "execution_count": 0,
      "outputs": [
        {
          "output_type": "stream",
          "text": [
            "Empty DataFrame\n",
            "Columns: [INSTID, ProdCd_YrMo, EOMOpenDt_YrMo, OpenDt_str, EOMMaturityDt_YrMo, MaturityDate_mon, OpenAmt_YrMo, Term_Origin, EFFECTIVE_INTEREST_RT, RevolveIn, segment_level_0, segment_level_1, vintage_year, IntRt_flag_GE15, utilization_rate, PMT_L6MO, Age_mon, OpenDt_Dt, OpenDt_YrMo, Vintage_Days, MaturityDate_dt]\n",
            "Index: []\n",
            "\n",
            "[0 rows x 21 columns]\n"
          ],
          "name": "stdout"
        }
      ]
    },
    {
      "cell_type": "code",
      "metadata": {
        "id": "YwG155gsQMeE",
        "colab_type": "code",
        "colab": {}
      },
      "source": [
        "\n",
        "# acctid_list = data_forecast.loc[data_forecast['MaturityDate_dt'].notnull()]['INSTID']\n",
        "#print(acctid_list)\n",
        "\n",
        "acctid_list = data_forecast['INSTID']"
      ],
      "execution_count": 0,
      "outputs": []
    },
    {
      "cell_type": "markdown",
      "metadata": {
        "id": "U9kdIUzUQMeI",
        "colab_type": "text"
      },
      "source": [
        "#### we have one loan in the portfolio 2019Jun30 snapshot that has MaturityDate_dt missing. So, in general, for loans that have maturity date information missing from the portfolio data, for this particular loan the forecast period is automatically set to the maximum number of forecast period which is 360 periods. "
      ]
    },
    {
      "cell_type": "code",
      "metadata": {
        "id": "nraG15QXQMeL",
        "colab_type": "code",
        "colab": {},
        "outputId": "4eacb484-cf5b-44a9-d6dc-6e4454e4c222"
      },
      "source": [
        "%%time\n",
        "var_cols = list(data_forecast.columns)\n",
        "df_forecast = pd.DataFrame()\n",
        "for id in acctid_list:\n",
        "    data_sub = data_forecast.loc[data_forecast.INSTID == id, ]\n",
        "    if pd.isnull(data_sub.iloc[0]['MaturityDate_dt']):\n",
        "        forecast_period = 360\n",
        "    else:\n",
        "        Maturity_date = data_sub.iloc[0]['MaturityDate_dt']\n",
        "        forecast_period = Maturity_date.to_period('M') - pd.to_datetime('2019-09-30').to_period('M')\n",
        "    #print(Maturity_date)\n",
        "    AcctID = data_sub.iloc[0]['INSTID']\n",
        "    forecast_period_df = pd.DataFrame(index = pd.date_range('2019-10-31', periods = forecast_period, freq = 'M')).reset_index()\n",
        "    forecast_period_df['AcctID'] = data_sub.iloc[0]['INSTID']\n",
        "    df_forecast = df_forecast.append(forecast_period_df, ignore_index = True)\n",
        "    "
      ],
      "execution_count": 0,
      "outputs": [
        {
          "output_type": "stream",
          "text": [
            "Wall time: 7min 12s\n"
          ],
          "name": "stdout"
        }
      ]
    },
    {
      "cell_type": "code",
      "metadata": {
        "collapsed": true,
        "id": "F0INbT_VQMeO",
        "colab_type": "code",
        "colab": {}
      },
      "source": [
        ""
      ],
      "execution_count": 0,
      "outputs": []
    },
    {
      "cell_type": "code",
      "metadata": {
        "id": "ia4R8w3jQMeS",
        "colab_type": "code",
        "colab": {},
        "outputId": "bea7ac63-003f-466f-fd4c-878773645012"
      },
      "source": [
        "print(df_forecast.loc[df_forecast.AcctID == 620202,])"
      ],
      "execution_count": 0,
      "outputs": [
        {
          "output_type": "stream",
          "text": [
            "Empty DataFrame\n",
            "Columns: [index, AcctID]\n",
            "Index: []\n"
          ],
          "name": "stdout"
        }
      ]
    },
    {
      "cell_type": "markdown",
      "metadata": {
        "id": "yD6VpQeoQMeV",
        "colab_type": "text"
      },
      "source": [
        "#### merge the snapshot data with the forecast dataset"
      ]
    },
    {
      "cell_type": "code",
      "metadata": {
        "collapsed": true,
        "id": "MXKi1OkMQMeX",
        "colab_type": "code",
        "colab": {}
      },
      "source": [
        "# df_forecast_0 = df_forecast.groupby('AcctID').head(30)\n",
        "# df_forecast_1 = pd.merge(df_forecast_0, data_forecast, left_on ='AcctID', right_on = 'INSTID',  how = 'left')\n",
        "\n",
        "df_forecast_1 = pd.merge(df_forecast, data_forecast, left_on ='AcctID', right_on = 'INSTID',  how = 'left')"
      ],
      "execution_count": 0,
      "outputs": []
    },
    {
      "cell_type": "code",
      "metadata": {
        "id": "MNQwQFElQMee",
        "colab_type": "code",
        "colab": {},
        "outputId": "1d1a1d16-952d-4b50-8835-23e4d7d767ae"
      },
      "source": [
        "print(df_forecast_1)"
      ],
      "execution_count": 0,
      "outputs": [
        {
          "output_type": "stream",
          "text": [
            "            index     AcctID     INSTID ProdCd_YrMo EOMOpenDt_YrMo OpenDt_str  \\\n",
            "0      2019-10-31  100000170  100000170         PLU      31OCT2011     201110   \n",
            "1      2019-11-30  100000170  100000170         PLU      31OCT2011     201110   \n",
            "2      2019-12-31  100000170  100000170         PLU      31OCT2011     201110   \n",
            "3      2020-01-31  100000170  100000170         PLU      31OCT2011     201110   \n",
            "4      2020-02-29  100000170  100000170         PLU      31OCT2011     201110   \n",
            "5      2020-03-31  100000170  100000170         PLU      31OCT2011     201110   \n",
            "6      2020-04-30  100000170  100000170         PLU      31OCT2011     201110   \n",
            "7      2020-05-31  100000170  100000170         PLU      31OCT2011     201110   \n",
            "8      2020-06-30  100000170  100000170         PLU      31OCT2011     201110   \n",
            "9      2020-07-31  100000170  100000170         PLU      31OCT2011     201110   \n",
            "10     2020-08-31  100000170  100000170         PLU      31OCT2011     201110   \n",
            "11     2020-09-30  100000170  100000170         PLU      31OCT2011     201110   \n",
            "12     2020-10-31  100000170  100000170         PLU      31OCT2011     201110   \n",
            "13     2020-11-30  100000170  100000170         PLU      31OCT2011     201110   \n",
            "14     2020-12-31  100000170  100000170         PLU      31OCT2011     201110   \n",
            "15     2021-01-31  100000170  100000170         PLU      31OCT2011     201110   \n",
            "16     2021-02-28  100000170  100000170         PLU      31OCT2011     201110   \n",
            "17     2021-03-31  100000170  100000170         PLU      31OCT2011     201110   \n",
            "18     2021-04-30  100000170  100000170         PLU      31OCT2011     201110   \n",
            "19     2021-05-31  100000170  100000170         PLU      31OCT2011     201110   \n",
            "20     2021-06-30  100000170  100000170         PLU      31OCT2011     201110   \n",
            "21     2021-07-31  100000170  100000170         PLU      31OCT2011     201110   \n",
            "22     2021-08-31  100000170  100000170         PLU      31OCT2011     201110   \n",
            "23     2021-09-30  100000170  100000170         PLU      31OCT2011     201110   \n",
            "24     2021-10-31  100000170  100000170         PLU      31OCT2011     201110   \n",
            "25     2019-10-31  100000245  100000245         PLU      31OCT2011     201110   \n",
            "26     2019-11-30  100000245  100000245         PLU      31OCT2011     201110   \n",
            "27     2019-12-31  100000245  100000245         PLU      31OCT2011     201110   \n",
            "28     2020-01-31  100000245  100000245         PLU      31OCT2011     201110   \n",
            "29     2020-02-29  100000245  100000245         PLU      31OCT2011     201110   \n",
            "...           ...        ...        ...         ...            ...        ...   \n",
            "471349 2021-02-28       9945       9945         PLU      31AUG2001     200108   \n",
            "471350 2021-03-31       9945       9945         PLU      31AUG2001     200108   \n",
            "471351 2021-04-30       9945       9945         PLU      31AUG2001     200108   \n",
            "471352 2021-05-31       9945       9945         PLU      31AUG2001     200108   \n",
            "471353 2021-06-30       9945       9945         PLU      31AUG2001     200108   \n",
            "471354 2021-07-31       9945       9945         PLU      31AUG2001     200108   \n",
            "471355 2021-08-31       9945       9945         PLU      31AUG2001     200108   \n",
            "471356 2019-10-31       9996       9996         PLU      31JUL2003     200307   \n",
            "471357 2019-11-30       9996       9996         PLU      31JUL2003     200307   \n",
            "471358 2019-12-31       9996       9996         PLU      31JUL2003     200307   \n",
            "471359 2020-01-31       9996       9996         PLU      31JUL2003     200307   \n",
            "471360 2020-02-29       9996       9996         PLU      31JUL2003     200307   \n",
            "471361 2020-03-31       9996       9996         PLU      31JUL2003     200307   \n",
            "471362 2020-04-30       9996       9996         PLU      31JUL2003     200307   \n",
            "471363 2020-05-31       9996       9996         PLU      31JUL2003     200307   \n",
            "471364 2020-06-30       9996       9996         PLU      31JUL2003     200307   \n",
            "471365 2020-07-31       9996       9996         PLU      31JUL2003     200307   \n",
            "471366 2020-08-31       9996       9996         PLU      31JUL2003     200307   \n",
            "471367 2020-09-30       9996       9996         PLU      31JUL2003     200307   \n",
            "471368 2020-10-31       9996       9996         PLU      31JUL2003     200307   \n",
            "471369 2020-11-30       9996       9996         PLU      31JUL2003     200307   \n",
            "471370 2020-12-31       9996       9996         PLU      31JUL2003     200307   \n",
            "471371 2021-01-31       9996       9996         PLU      31JUL2003     200307   \n",
            "471372 2021-02-28       9996       9996         PLU      31JUL2003     200307   \n",
            "471373 2021-03-31       9996       9996         PLU      31JUL2003     200307   \n",
            "471374 2021-04-30       9996       9996         PLU      31JUL2003     200307   \n",
            "471375 2021-05-31       9996       9996         PLU      31JUL2003     200307   \n",
            "471376 2021-06-30       9996       9996         PLU      31JUL2003     200307   \n",
            "471377 2021-07-31       9996       9996         PLU      31JUL2003     200307   \n",
            "471378 2021-08-31       9996       9996         PLU      31JUL2003     200307   \n",
            "\n",
            "       EOMMaturityDt_YrMo MaturityDate_mon  Term_Origin  \\\n",
            "0               31OCT2021          2021-10         24.0   \n",
            "1               31OCT2021          2021-10         24.0   \n",
            "2               31OCT2021          2021-10         24.0   \n",
            "3               31OCT2021          2021-10         24.0   \n",
            "4               31OCT2021          2021-10         24.0   \n",
            "5               31OCT2021          2021-10         24.0   \n",
            "6               31OCT2021          2021-10         24.0   \n",
            "7               31OCT2021          2021-10         24.0   \n",
            "8               31OCT2021          2021-10         24.0   \n",
            "9               31OCT2021          2021-10         24.0   \n",
            "10              31OCT2021          2021-10         24.0   \n",
            "11              31OCT2021          2021-10         24.0   \n",
            "12              31OCT2021          2021-10         24.0   \n",
            "13              31OCT2021          2021-10         24.0   \n",
            "14              31OCT2021          2021-10         24.0   \n",
            "15              31OCT2021          2021-10         24.0   \n",
            "16              31OCT2021          2021-10         24.0   \n",
            "17              31OCT2021          2021-10         24.0   \n",
            "18              31OCT2021          2021-10         24.0   \n",
            "19              31OCT2021          2021-10         24.0   \n",
            "20              31OCT2021          2021-10         24.0   \n",
            "21              31OCT2021          2021-10         24.0   \n",
            "22              31OCT2021          2021-10         24.0   \n",
            "23              31OCT2021          2021-10         24.0   \n",
            "24              31OCT2021          2021-10         24.0   \n",
            "25              31MAR2020          2020-03         24.0   \n",
            "26              31MAR2020          2020-03         24.0   \n",
            "27              31MAR2020          2020-03         24.0   \n",
            "28              31MAR2020          2020-03         24.0   \n",
            "29              31MAR2020          2020-03         24.0   \n",
            "...                   ...              ...          ...   \n",
            "471349          31AUG2021          2021-08         96.0   \n",
            "471350          31AUG2021          2021-08         96.0   \n",
            "471351          31AUG2021          2021-08         96.0   \n",
            "471352          31AUG2021          2021-08         96.0   \n",
            "471353          31AUG2021          2021-08         96.0   \n",
            "471354          31AUG2021          2021-08         96.0   \n",
            "471355          31AUG2021          2021-08         96.0   \n",
            "471356          31AUG2021          2021-08         72.0   \n",
            "471357          31AUG2021          2021-08         72.0   \n",
            "471358          31AUG2021          2021-08         72.0   \n",
            "471359          31AUG2021          2021-08         72.0   \n",
            "471360          31AUG2021          2021-08         72.0   \n",
            "471361          31AUG2021          2021-08         72.0   \n",
            "471362          31AUG2021          2021-08         72.0   \n",
            "471363          31AUG2021          2021-08         72.0   \n",
            "471364          31AUG2021          2021-08         72.0   \n",
            "471365          31AUG2021          2021-08         72.0   \n",
            "471366          31AUG2021          2021-08         72.0   \n",
            "471367          31AUG2021          2021-08         72.0   \n",
            "471368          31AUG2021          2021-08         72.0   \n",
            "471369          31AUG2021          2021-08         72.0   \n",
            "471370          31AUG2021          2021-08         72.0   \n",
            "471371          31AUG2021          2021-08         72.0   \n",
            "471372          31AUG2021          2021-08         72.0   \n",
            "471373          31AUG2021          2021-08         72.0   \n",
            "471374          31AUG2021          2021-08         72.0   \n",
            "471375          31AUG2021          2021-08         72.0   \n",
            "471376          31AUG2021          2021-08         72.0   \n",
            "471377          31AUG2021          2021-08         72.0   \n",
            "471378          31AUG2021          2021-08         72.0   \n",
            "\n",
            "        EFFECTIVE_INTEREST_RT     ...       Vintage_Days  MaturityDate_dt  \\\n",
            "0                        8.00     ...          2891 days       2021-10-31   \n",
            "1                        8.00     ...          2891 days       2021-10-31   \n",
            "2                        8.00     ...          2891 days       2021-10-31   \n",
            "3                        8.00     ...          2891 days       2021-10-31   \n",
            "4                        8.00     ...          2891 days       2021-10-31   \n",
            "5                        8.00     ...          2891 days       2021-10-31   \n",
            "6                        8.00     ...          2891 days       2021-10-31   \n",
            "7                        8.00     ...          2891 days       2021-10-31   \n",
            "8                        8.00     ...          2891 days       2021-10-31   \n",
            "9                        8.00     ...          2891 days       2021-10-31   \n",
            "10                       8.00     ...          2891 days       2021-10-31   \n",
            "11                       8.00     ...          2891 days       2021-10-31   \n",
            "12                       8.00     ...          2891 days       2021-10-31   \n",
            "13                       8.00     ...          2891 days       2021-10-31   \n",
            "14                       8.00     ...          2891 days       2021-10-31   \n",
            "15                       8.00     ...          2891 days       2021-10-31   \n",
            "16                       8.00     ...          2891 days       2021-10-31   \n",
            "17                       8.00     ...          2891 days       2021-10-31   \n",
            "18                       8.00     ...          2891 days       2021-10-31   \n",
            "19                       8.00     ...          2891 days       2021-10-31   \n",
            "20                       8.00     ...          2891 days       2021-10-31   \n",
            "21                       8.00     ...          2891 days       2021-10-31   \n",
            "22                       8.00     ...          2891 days       2021-10-31   \n",
            "23                       8.00     ...          2891 days       2021-10-31   \n",
            "24                       8.00     ...          2891 days       2021-10-31   \n",
            "25                       5.25     ...          2891 days       2020-03-31   \n",
            "26                       5.25     ...          2891 days       2020-03-31   \n",
            "27                       5.25     ...          2891 days       2020-03-31   \n",
            "28                       5.25     ...          2891 days       2020-03-31   \n",
            "29                       5.25     ...          2891 days       2020-03-31   \n",
            "...                       ...     ...                ...              ...   \n",
            "471349                   8.25     ...          6604 days       2021-08-31   \n",
            "471350                   8.25     ...          6604 days       2021-08-31   \n",
            "471351                   8.25     ...          6604 days       2021-08-31   \n",
            "471352                   8.25     ...          6604 days       2021-08-31   \n",
            "471353                   8.25     ...          6604 days       2021-08-31   \n",
            "471354                   8.25     ...          6604 days       2021-08-31   \n",
            "471355                   8.25     ...          6604 days       2021-08-31   \n",
            "471356                   8.25     ...          5905 days       2021-08-31   \n",
            "471357                   8.25     ...          5905 days       2021-08-31   \n",
            "471358                   8.25     ...          5905 days       2021-08-31   \n",
            "471359                   8.25     ...          5905 days       2021-08-31   \n",
            "471360                   8.25     ...          5905 days       2021-08-31   \n",
            "471361                   8.25     ...          5905 days       2021-08-31   \n",
            "471362                   8.25     ...          5905 days       2021-08-31   \n",
            "471363                   8.25     ...          5905 days       2021-08-31   \n",
            "471364                   8.25     ...          5905 days       2021-08-31   \n",
            "471365                   8.25     ...          5905 days       2021-08-31   \n",
            "471366                   8.25     ...          5905 days       2021-08-31   \n",
            "471367                   8.25     ...          5905 days       2021-08-31   \n",
            "471368                   8.25     ...          5905 days       2021-08-31   \n",
            "471369                   8.25     ...          5905 days       2021-08-31   \n",
            "471370                   8.25     ...          5905 days       2021-08-31   \n",
            "471371                   8.25     ...          5905 days       2021-08-31   \n",
            "471372                   8.25     ...          5905 days       2021-08-31   \n",
            "471373                   8.25     ...          5905 days       2021-08-31   \n",
            "471374                   8.25     ...          5905 days       2021-08-31   \n",
            "471375                   8.25     ...          5905 days       2021-08-31   \n",
            "471376                   8.25     ...          5905 days       2021-08-31   \n",
            "471377                   8.25     ...          5905 days       2021-08-31   \n",
            "471378                   8.25     ...          5905 days       2021-08-31   \n",
            "\n",
            "        NetGLOutstandingBalance OpenAmt_YrMo PrinPayment_L6mon  \\\n",
            "0                          0.00      15000.0          0.000000   \n",
            "1                          0.00      15000.0          0.000000   \n",
            "2                          0.00      15000.0          0.000000   \n",
            "3                          0.00      15000.0          0.000000   \n",
            "4                          0.00      15000.0          0.000000   \n",
            "5                          0.00      15000.0          0.000000   \n",
            "6                          0.00      15000.0          0.000000   \n",
            "7                          0.00      15000.0          0.000000   \n",
            "8                          0.00      15000.0          0.000000   \n",
            "9                          0.00      15000.0          0.000000   \n",
            "10                         0.00      15000.0          0.000000   \n",
            "11                         0.00      15000.0          0.000000   \n",
            "12                         0.00      15000.0          0.000000   \n",
            "13                         0.00      15000.0          0.000000   \n",
            "14                         0.00      15000.0          0.000000   \n",
            "15                         0.00      15000.0          0.000000   \n",
            "16                         0.00      15000.0          0.000000   \n",
            "17                         0.00      15000.0          0.000000   \n",
            "18                         0.00      15000.0          0.000000   \n",
            "19                         0.00      15000.0          0.000000   \n",
            "20                         0.00      15000.0          0.000000   \n",
            "21                         0.00      15000.0          0.000000   \n",
            "22                         0.00      15000.0          0.000000   \n",
            "23                         0.00      15000.0          0.000000   \n",
            "24                         0.00      15000.0          0.000000   \n",
            "25                    152769.02     325000.0       3417.951667   \n",
            "26                    152769.02     325000.0       3417.951667   \n",
            "27                    152769.02     325000.0       3417.951667   \n",
            "28                    152769.02     325000.0       3417.951667   \n",
            "29                    152769.02     325000.0       3417.951667   \n",
            "...                         ...          ...               ...   \n",
            "471349                     0.00      15000.0          0.000000   \n",
            "471350                     0.00      15000.0          0.000000   \n",
            "471351                     0.00      15000.0          0.000000   \n",
            "471352                     0.00      15000.0          0.000000   \n",
            "471353                     0.00      15000.0          0.000000   \n",
            "471354                     0.00      15000.0          0.000000   \n",
            "471355                     0.00      15000.0          0.000000   \n",
            "471356                     0.00      10000.0          0.000000   \n",
            "471357                     0.00      10000.0          0.000000   \n",
            "471358                     0.00      10000.0          0.000000   \n",
            "471359                     0.00      10000.0          0.000000   \n",
            "471360                     0.00      10000.0          0.000000   \n",
            "471361                     0.00      10000.0          0.000000   \n",
            "471362                     0.00      10000.0          0.000000   \n",
            "471363                     0.00      10000.0          0.000000   \n",
            "471364                     0.00      10000.0          0.000000   \n",
            "471365                     0.00      10000.0          0.000000   \n",
            "471366                     0.00      10000.0          0.000000   \n",
            "471367                     0.00      10000.0          0.000000   \n",
            "471368                     0.00      10000.0          0.000000   \n",
            "471369                     0.00      10000.0          0.000000   \n",
            "471370                     0.00      10000.0          0.000000   \n",
            "471371                     0.00      10000.0          0.000000   \n",
            "471372                     0.00      10000.0          0.000000   \n",
            "471373                     0.00      10000.0          0.000000   \n",
            "471374                     0.00      10000.0          0.000000   \n",
            "471375                     0.00      10000.0          0.000000   \n",
            "471376                     0.00      10000.0          0.000000   \n",
            "471377                     0.00      10000.0          0.000000   \n",
            "471378                     0.00      10000.0          0.000000   \n",
            "\n",
            "        UNPAID_BALANCE_AMT  OFF_BALANCE_AMT  DAYS_PAST_DUE_CNT RiskCd  \\\n",
            "0                     0.00         15000.00                  0      8   \n",
            "1                     0.00         15000.00                  0      8   \n",
            "2                     0.00         15000.00                  0      8   \n",
            "3                     0.00         15000.00                  0      8   \n",
            "4                     0.00         15000.00                  0      8   \n",
            "5                     0.00         15000.00                  0      8   \n",
            "6                     0.00         15000.00                  0      8   \n",
            "7                     0.00         15000.00                  0      8   \n",
            "8                     0.00         15000.00                  0      8   \n",
            "9                     0.00         15000.00                  0      8   \n",
            "10                    0.00         15000.00                  0      8   \n",
            "11                    0.00         15000.00                  0      8   \n",
            "12                    0.00         15000.00                  0      8   \n",
            "13                    0.00         15000.00                  0      8   \n",
            "14                    0.00         15000.00                  0      8   \n",
            "15                    0.00         15000.00                  0      8   \n",
            "16                    0.00         15000.00                  0      8   \n",
            "17                    0.00         15000.00                  0      8   \n",
            "18                    0.00         15000.00                  0      8   \n",
            "19                    0.00         15000.00                  0      8   \n",
            "20                    0.00         15000.00                  0      8   \n",
            "21                    0.00         15000.00                  0      8   \n",
            "22                    0.00         15000.00                  0      8   \n",
            "23                    0.00         15000.00                  0      8   \n",
            "24                    0.00         15000.00                  0      8   \n",
            "25               152769.02        172230.98                  0      8   \n",
            "26               152769.02        172230.98                  0      8   \n",
            "27               152769.02        172230.98                  0      8   \n",
            "28               152769.02        172230.98                  0      8   \n",
            "29               152769.02        172230.98                  0      8   \n",
            "...                    ...              ...                ...    ...   \n",
            "471349                0.00         15000.00                  0      8   \n",
            "471350                0.00         15000.00                  0      8   \n",
            "471351                0.00         15000.00                  0      8   \n",
            "471352                0.00         15000.00                  0      8   \n",
            "471353                0.00         15000.00                  0      8   \n",
            "471354                0.00         15000.00                  0      8   \n",
            "471355                0.00         15000.00                  0      8   \n",
            "471356                0.00         10000.00                  0      8   \n",
            "471357                0.00         10000.00                  0      8   \n",
            "471358                0.00         10000.00                  0      8   \n",
            "471359                0.00         10000.00                  0      8   \n",
            "471360                0.00         10000.00                  0      8   \n",
            "471361                0.00         10000.00                  0      8   \n",
            "471362                0.00         10000.00                  0      8   \n",
            "471363                0.00         10000.00                  0      8   \n",
            "471364                0.00         10000.00                  0      8   \n",
            "471365                0.00         10000.00                  0      8   \n",
            "471366                0.00         10000.00                  0      8   \n",
            "471367                0.00         10000.00                  0      8   \n",
            "471368                0.00         10000.00                  0      8   \n",
            "471369                0.00         10000.00                  0      8   \n",
            "471370                0.00         10000.00                  0      8   \n",
            "471371                0.00         10000.00                  0      8   \n",
            "471372                0.00         10000.00                  0      8   \n",
            "471373                0.00         10000.00                  0      8   \n",
            "471374                0.00         10000.00                  0      8   \n",
            "471375                0.00         10000.00                  0      8   \n",
            "471376                0.00         10000.00                  0      8   \n",
            "471377                0.00         10000.00                  0      8   \n",
            "471378                0.00         10000.00                  0      8   \n",
            "\n",
            "       EOMChrgOffDt  \n",
            "0               NaN  \n",
            "1               NaN  \n",
            "2               NaN  \n",
            "3               NaN  \n",
            "4               NaN  \n",
            "5               NaN  \n",
            "6               NaN  \n",
            "7               NaN  \n",
            "8               NaN  \n",
            "9               NaN  \n",
            "10              NaN  \n",
            "11              NaN  \n",
            "12              NaN  \n",
            "13              NaN  \n",
            "14              NaN  \n",
            "15              NaN  \n",
            "16              NaN  \n",
            "17              NaN  \n",
            "18              NaN  \n",
            "19              NaN  \n",
            "20              NaN  \n",
            "21              NaN  \n",
            "22              NaN  \n",
            "23              NaN  \n",
            "24              NaN  \n",
            "25              NaN  \n",
            "26              NaN  \n",
            "27              NaN  \n",
            "28              NaN  \n",
            "29              NaN  \n",
            "...             ...  \n",
            "471349          NaN  \n",
            "471350          NaN  \n",
            "471351          NaN  \n",
            "471352          NaN  \n",
            "471353          NaN  \n",
            "471354          NaN  \n",
            "471355          NaN  \n",
            "471356          NaN  \n",
            "471357          NaN  \n",
            "471358          NaN  \n",
            "471359          NaN  \n",
            "471360          NaN  \n",
            "471361          NaN  \n",
            "471362          NaN  \n",
            "471363          NaN  \n",
            "471364          NaN  \n",
            "471365          NaN  \n",
            "471366          NaN  \n",
            "471367          NaN  \n",
            "471368          NaN  \n",
            "471369          NaN  \n",
            "471370          NaN  \n",
            "471371          NaN  \n",
            "471372          NaN  \n",
            "471373          NaN  \n",
            "471374          NaN  \n",
            "471375          NaN  \n",
            "471376          NaN  \n",
            "471377          NaN  \n",
            "471378          NaN  \n",
            "\n",
            "[471379 rows x 31 columns]\n"
          ],
          "name": "stdout"
        }
      ]
    },
    {
      "cell_type": "code",
      "metadata": {
        "id": "SAJnSsMvQMei",
        "colab_type": "code",
        "colab": {},
        "outputId": "4cb2da18-bd5e-407c-df97-818bd5124cee"
      },
      "source": [
        "# recalculate the age for the forecast dataset\n",
        "df_forecast_1.reset_index()\n",
        "df_forecast_1['forecast_YrMo'] = df_forecast_1['index'].dt.to_period(\"M\")\n",
        "df_forecast_1['forecast_mon'] = df_forecast_1.forecast_YrMo - df_forecast_1.OpenDt_YrMo\n",
        "df_forecast_1['ssn_mon'] = df_forecast_1.forecast_YrMo.dt.strftime(\"%m\").astype(int)\n",
        "print(list(df_forecast_1.ssn_mon.head()))\n"
      ],
      "execution_count": 0,
      "outputs": [
        {
          "output_type": "stream",
          "text": [
            "[10, 11, 12, 1, 2]\n"
          ],
          "name": "stdout"
        }
      ]
    },
    {
      "cell_type": "code",
      "metadata": {
        "id": "oWANGXgFQMey",
        "colab_type": "code",
        "colab": {},
        "outputId": "2dda8877-db40-4fb2-f193-db503017aae9"
      },
      "source": [
        "# print(df_forecast_1.forecast_YrMo)"
      ],
      "execution_count": 0,
      "outputs": [
        {
          "output_type": "stream",
          "text": [
            "0        2019-07\n",
            "1        2019-08\n",
            "2        2019-09\n",
            "3        2019-10\n",
            "4        2019-11\n",
            "5        2019-07\n",
            "6        2019-08\n",
            "7        2019-09\n",
            "8        2019-10\n",
            "9        2019-11\n",
            "10       2019-12\n",
            "11       2020-01\n",
            "12       2020-02\n",
            "13       2020-03\n",
            "14       2020-04\n",
            "15       2019-07\n",
            "16       2019-08\n",
            "17       2019-09\n",
            "18       2019-10\n",
            "19       2019-11\n",
            "20       2019-07\n",
            "21       2019-08\n",
            "22       2019-09\n",
            "23       2019-10\n",
            "24       2019-11\n",
            "25       2019-12\n",
            "26       2020-01\n",
            "27       2019-07\n",
            "28       2019-08\n",
            "29       2019-09\n",
            "           ...  \n",
            "426351   2021-02\n",
            "426352   2021-03\n",
            "426353   2021-04\n",
            "426354   2021-05\n",
            "426355   2021-06\n",
            "426356   2019-07\n",
            "426357   2019-08\n",
            "426358   2019-09\n",
            "426359   2019-10\n",
            "426360   2019-11\n",
            "426361   2019-12\n",
            "426362   2020-01\n",
            "426363   2020-02\n",
            "426364   2020-03\n",
            "426365   2020-04\n",
            "426366   2020-05\n",
            "426367   2020-06\n",
            "426368   2020-07\n",
            "426369   2020-08\n",
            "426370   2020-09\n",
            "426371   2020-10\n",
            "426372   2020-11\n",
            "426373   2020-12\n",
            "426374   2021-01\n",
            "426375   2019-07\n",
            "426376   2019-08\n",
            "426377   2019-09\n",
            "426378   2019-07\n",
            "426379   2019-08\n",
            "426380   2019-09\n",
            "Name: forecast_YrMo, Length: 426381, dtype: object\n"
          ],
          "name": "stdout"
        }
      ]
    },
    {
      "cell_type": "code",
      "metadata": {
        "id": "iRWfngsVQMe1",
        "colab_type": "code",
        "colab": {},
        "outputId": "b815fd54-7030-4533-deb9-1d5254efe31f"
      },
      "source": [
        "print(df_forecast_1.loc[df_forecast_1['AcctID'] == 100000170,])"
      ],
      "execution_count": 0,
      "outputs": [
        {
          "output_type": "stream",
          "text": [
            "         index     AcctID     INSTID ProdCd_YrMo EOMOpenDt_YrMo OpenDt_str  \\\n",
            "154 2019-10-31  100000170  100000170         PLU      31OCT2011     201110   \n",
            "155 2019-11-30  100000170  100000170         PLU      31OCT2011     201110   \n",
            "156 2019-12-31  100000170  100000170         PLU      31OCT2011     201110   \n",
            "157 2020-01-31  100000170  100000170         PLU      31OCT2011     201110   \n",
            "158 2020-02-29  100000170  100000170         PLU      31OCT2011     201110   \n",
            "159 2020-03-31  100000170  100000170         PLU      31OCT2011     201110   \n",
            "160 2020-04-30  100000170  100000170         PLU      31OCT2011     201110   \n",
            "161 2020-05-31  100000170  100000170         PLU      31OCT2011     201110   \n",
            "162 2020-06-30  100000170  100000170         PLU      31OCT2011     201110   \n",
            "163 2020-07-31  100000170  100000170         PLU      31OCT2011     201110   \n",
            "164 2020-08-31  100000170  100000170         PLU      31OCT2011     201110   \n",
            "165 2020-09-30  100000170  100000170         PLU      31OCT2011     201110   \n",
            "166 2020-10-31  100000170  100000170         PLU      31OCT2011     201110   \n",
            "167 2020-11-30  100000170  100000170         PLU      31OCT2011     201110   \n",
            "168 2020-12-31  100000170  100000170         PLU      31OCT2011     201110   \n",
            "169 2021-01-31  100000170  100000170         PLU      31OCT2011     201110   \n",
            "170 2021-02-28  100000170  100000170         PLU      31OCT2011     201110   \n",
            "171 2021-03-31  100000170  100000170         PLU      31OCT2011     201110   \n",
            "172 2021-04-30  100000170  100000170         PLU      31OCT2011     201110   \n",
            "173 2021-05-31  100000170  100000170         PLU      31OCT2011     201110   \n",
            "174 2021-06-30  100000170  100000170         PLU      31OCT2011     201110   \n",
            "175 2021-07-31  100000170  100000170         PLU      31OCT2011     201110   \n",
            "176 2021-08-31  100000170  100000170         PLU      31OCT2011     201110   \n",
            "177 2021-09-30  100000170  100000170         PLU      31OCT2011     201110   \n",
            "178 2021-10-31  100000170  100000170         PLU      31OCT2011     201110   \n",
            "\n",
            "    EOMMaturityDt_YrMo MaturityDate_mon  Term_Origin  EFFECTIVE_INTEREST_RT  \\\n",
            "154          31OCT2021          2021-10         24.0                    8.0   \n",
            "155          31OCT2021          2021-10         24.0                    8.0   \n",
            "156          31OCT2021          2021-10         24.0                    8.0   \n",
            "157          31OCT2021          2021-10         24.0                    8.0   \n",
            "158          31OCT2021          2021-10         24.0                    8.0   \n",
            "159          31OCT2021          2021-10         24.0                    8.0   \n",
            "160          31OCT2021          2021-10         24.0                    8.0   \n",
            "161          31OCT2021          2021-10         24.0                    8.0   \n",
            "162          31OCT2021          2021-10         24.0                    8.0   \n",
            "163          31OCT2021          2021-10         24.0                    8.0   \n",
            "164          31OCT2021          2021-10         24.0                    8.0   \n",
            "165          31OCT2021          2021-10         24.0                    8.0   \n",
            "166          31OCT2021          2021-10         24.0                    8.0   \n",
            "167          31OCT2021          2021-10         24.0                    8.0   \n",
            "168          31OCT2021          2021-10         24.0                    8.0   \n",
            "169          31OCT2021          2021-10         24.0                    8.0   \n",
            "170          31OCT2021          2021-10         24.0                    8.0   \n",
            "171          31OCT2021          2021-10         24.0                    8.0   \n",
            "172          31OCT2021          2021-10         24.0                    8.0   \n",
            "173          31OCT2021          2021-10         24.0                    8.0   \n",
            "174          31OCT2021          2021-10         24.0                    8.0   \n",
            "175          31OCT2021          2021-10         24.0                    8.0   \n",
            "176          31OCT2021          2021-10         24.0                    8.0   \n",
            "177          31OCT2021          2021-10         24.0                    8.0   \n",
            "178          31OCT2021          2021-10         24.0                    8.0   \n",
            "\n",
            "      ...    OpenAmt_YrMo  PrinPayment_L6mon  UNPAID_BALANCE_AMT  \\\n",
            "154   ...         15000.0                0.0                 0.0   \n",
            "155   ...         15000.0                0.0                 0.0   \n",
            "156   ...         15000.0                0.0                 0.0   \n",
            "157   ...         15000.0                0.0                 0.0   \n",
            "158   ...         15000.0                0.0                 0.0   \n",
            "159   ...         15000.0                0.0                 0.0   \n",
            "160   ...         15000.0                0.0                 0.0   \n",
            "161   ...         15000.0                0.0                 0.0   \n",
            "162   ...         15000.0                0.0                 0.0   \n",
            "163   ...         15000.0                0.0                 0.0   \n",
            "164   ...         15000.0                0.0                 0.0   \n",
            "165   ...         15000.0                0.0                 0.0   \n",
            "166   ...         15000.0                0.0                 0.0   \n",
            "167   ...         15000.0                0.0                 0.0   \n",
            "168   ...         15000.0                0.0                 0.0   \n",
            "169   ...         15000.0                0.0                 0.0   \n",
            "170   ...         15000.0                0.0                 0.0   \n",
            "171   ...         15000.0                0.0                 0.0   \n",
            "172   ...         15000.0                0.0                 0.0   \n",
            "173   ...         15000.0                0.0                 0.0   \n",
            "174   ...         15000.0                0.0                 0.0   \n",
            "175   ...         15000.0                0.0                 0.0   \n",
            "176   ...         15000.0                0.0                 0.0   \n",
            "177   ...         15000.0                0.0                 0.0   \n",
            "178   ...         15000.0                0.0                 0.0   \n",
            "\n",
            "    OFF_BALANCE_AMT DAYS_PAST_DUE_CNT  RiskCd  EOMChrgOffDt  forecast_YrMo  \\\n",
            "154         15000.0                 0       8           NaN        2019-10   \n",
            "155         15000.0                 0       8           NaN        2019-11   \n",
            "156         15000.0                 0       8           NaN        2019-12   \n",
            "157         15000.0                 0       8           NaN        2020-01   \n",
            "158         15000.0                 0       8           NaN        2020-02   \n",
            "159         15000.0                 0       8           NaN        2020-03   \n",
            "160         15000.0                 0       8           NaN        2020-04   \n",
            "161         15000.0                 0       8           NaN        2020-05   \n",
            "162         15000.0                 0       8           NaN        2020-06   \n",
            "163         15000.0                 0       8           NaN        2020-07   \n",
            "164         15000.0                 0       8           NaN        2020-08   \n",
            "165         15000.0                 0       8           NaN        2020-09   \n",
            "166         15000.0                 0       8           NaN        2020-10   \n",
            "167         15000.0                 0       8           NaN        2020-11   \n",
            "168         15000.0                 0       8           NaN        2020-12   \n",
            "169         15000.0                 0       8           NaN        2021-01   \n",
            "170         15000.0                 0       8           NaN        2021-02   \n",
            "171         15000.0                 0       8           NaN        2021-03   \n",
            "172         15000.0                 0       8           NaN        2021-04   \n",
            "173         15000.0                 0       8           NaN        2021-05   \n",
            "174         15000.0                 0       8           NaN        2021-06   \n",
            "175         15000.0                 0       8           NaN        2021-07   \n",
            "176         15000.0                 0       8           NaN        2021-08   \n",
            "177         15000.0                 0       8           NaN        2021-09   \n",
            "178         15000.0                 0       8           NaN        2021-10   \n",
            "\n",
            "    forecast_mon ssn_mon  \n",
            "154           96      10  \n",
            "155           97      11  \n",
            "156           98      12  \n",
            "157           99       1  \n",
            "158          100       2  \n",
            "159          101       3  \n",
            "160          102       4  \n",
            "161          103       5  \n",
            "162          104       6  \n",
            "163          105       7  \n",
            "164          106       8  \n",
            "165          107       9  \n",
            "166          108      10  \n",
            "167          109      11  \n",
            "168          110      12  \n",
            "169          111       1  \n",
            "170          112       2  \n",
            "171          113       3  \n",
            "172          114       4  \n",
            "173          115       5  \n",
            "174          116       6  \n",
            "175          117       7  \n",
            "176          118       8  \n",
            "177          119       9  \n",
            "178          120      10  \n",
            "\n",
            "[25 rows x 34 columns]\n"
          ],
          "name": "stdout"
        }
      ]
    },
    {
      "cell_type": "code",
      "metadata": {
        "collapsed": true,
        "id": "55UDv3xlQMe5",
        "colab_type": "code",
        "colab": {}
      },
      "source": [
        "# df_raw_macro = pd.read_excel('C:\\\\Users\\\\Hu09559\\\\Documents\\\\Consumer\\\\Reserve Forecast\\\\Basket_2019-09-12_3h_11m2.csv', \n",
        "#                              sheetname='working', header=4,  parse_dates=True)\n",
        "\n",
        "# df_raw_macro = pd.read_csv('C:\\\\Users\\\\Hu09559\\\\Documents\\\\Consumer\\\\Reserve Forecast\\\\macro_Naz_2019-09-20.csv')\n",
        "\n",
        "df_raw_macro = pd.read_csv('C:\\\\Users\\\\Hu09559\\\\Documents\\\\Consumer\\\\Reserve Forecast\\\\Basket_2019-09-23.csv')\n",
        "\n",
        "\n",
        "# print(df_raw_macro)\n",
        "#index_col=0,"
      ],
      "execution_count": 0,
      "outputs": []
    },
    {
      "cell_type": "code",
      "metadata": {
        "collapsed": true,
        "id": "MCqmIjhGQMfE",
        "colab_type": "code",
        "colab": {}
      },
      "source": [
        "# df_raw_macro['gspTX_22m_LogRatio_3m_lag'] = np.log(df_raw_macro['gspTX'].shift(3)/df_raw_macro['gspTX'].shift(22+3))\n",
        "# df_raw_macro['gspTX_22m_LogRatio_3m_lag'] = df_raw_macro['gspTX_22m_LogRatio_3m_lag'].shift(3)"
      ],
      "execution_count": 0,
      "outputs": []
    },
    {
      "cell_type": "code",
      "metadata": {
        "collapsed": true,
        "id": "jlI_TGXkQMfN",
        "colab_type": "code",
        "colab": {}
      },
      "source": [
        "# df_raw_macro['gspTX_22m_LogRatio_3m_lag'] = np.log(df_raw_macro['gspTX'].shift(3)/df_raw_macro['gspTX'].shift(22+3))\n",
        "df_raw_macro['gspTX_22m_LogRatio_3m_lag'] = np.log((df_raw_macro['gspTX'])/df_raw_macro['gspTX'].shift(22))\n",
        "df_raw_macro['gspTX_22m_LogRatio_3m_lag'] = df_raw_macro['gspTX_22m_LogRatio_3m_lag'].shift(3)\n",
        "# log(waterfall(_horizon_-3,_FGDPQ_.state1,FGDP)/waterfall(_horizon_-3-22,_FGDPQ_.state1,FGDP))\n",
        "\n",
        "df_raw_macro['gspTX_12m_LogRatio_7m_change_11m_lag'] = np.log(df_raw_macro['gspTX']/df_raw_macro['gspTX'].shift(12))\n",
        "df_raw_macro['gspTX_12m_LogRatio_7m_change_11m_lag'] = df_raw_macro['gspTX_12m_LogRatio_7m_change_11m_lag'] - \\\n",
        "                                                    df_raw_macro['gspTX_12m_LogRatio_7m_change_11m_lag'].shift(7)\n",
        "df_raw_macro['gspTX_12m_LogRatio_7m_change_11m_lag'] = df_raw_macro['gspTX_12m_LogRatio_7m_change_11m_lag'].shift(11)\n",
        "\n",
        "df_raw_macro['itbyBAA_24m_Diff_12m_lag'] = df_raw_macro['itbyBAA'] - df_raw_macro['itbyBAA'].shift(12)\n",
        "df_raw_macro['itbyBAA_24m_Diff_12m_lag'] = df_raw_macro['itbyBAA_24m_Diff_12m_lag'].shift(24)\n",
        "\n",
        "df_raw_macro['byAAA_9m_lag'] = df_raw_macro['byAAA'].shift(9)\n"
      ],
      "execution_count": 0,
      "outputs": []
    },
    {
      "cell_type": "code",
      "metadata": {
        "id": "XIdiTB6LQMfU",
        "colab_type": "code",
        "colab": {},
        "outputId": "875435e9-8de0-4b51-e157-31f3560374d7"
      },
      "source": [
        "print(df_raw_macro.loc[df_raw_macro['itbyBAA_24m_Diff_12m_lag'].notnull(),])"
      ],
      "execution_count": 0,
      "outputs": [
        {
          "output_type": "stream",
          "text": [
            "           DATE      gspTX  itbyBAA   byAAA  gspTX_22m_LogRatio_3m_lag  \\\n",
            "90   07/31/1997   614.9826   6.9886  7.3181                   0.150492   \n",
            "91   08/31/1997   618.3656   6.8491  7.1476                   0.153037   \n",
            "92   09/30/1997   621.0180   6.8010  7.0311                   0.154157   \n",
            "93   10/31/1997   623.2701   6.8001  6.9525                   0.154302   \n",
            "94   11/30/1997   625.4666   6.7758  6.8799                   0.153718   \n",
            "95   12/31/1997   627.8512   6.6843  6.7933                   0.152532   \n",
            "96   01/31/1998   630.4040   6.5627  6.7070                   0.151205   \n",
            "97   02/28/1998   632.8047   6.4814  6.6523                   0.149212   \n",
            "98   03/31/1998   635.0946   6.4735  6.6396                   0.146020   \n",
            "99   04/30/1998   637.4799   6.5082  6.6492                   0.140881   \n",
            "100  05/31/1998   640.0912   6.5298  6.6493                   0.134564   \n",
            "101  06/30/1998   643.0719   6.4954  6.6169                   0.129333   \n",
            "102  07/31/1998   646.3777   6.4079  6.5580                   0.126717   \n",
            "103  08/31/1998   649.9528   6.2843  6.4881                   0.125782   \n",
            "104  09/30/1998   653.5430   6.1508  6.4230                   0.124743   \n",
            "105  10/31/1998   656.9923   6.0381  6.3674                   0.122536   \n",
            "106  11/30/1998   660.0697   5.9808  6.3241                   0.119868   \n",
            "107  12/31/1998   662.6115   6.0034  6.3005                   0.117846   \n",
            "108  01/31/1999   664.7205   6.0967  6.3173                   0.117121   \n",
            "109  02/28/1999   666.4195   6.2304  6.3943                   0.116344   \n",
            "110  03/31/1999   667.9619   6.3915  6.5427                   0.114242   \n",
            "111  04/30/1999   669.5990   6.5788  6.7413                   0.109849   \n",
            "112  05/31/1999   671.5074   6.7831  6.9443                   0.103549   \n",
            "113  06/30/1999   673.9983   6.9942  7.1175                   0.097077   \n",
            "114  07/31/1999   677.6592   7.1847  7.2502                   0.091703   \n",
            "115  08/31/1999   683.2446   7.3238  7.3420                   0.087931   \n",
            "116  09/30/1999   690.6689   7.3924  7.3939                   0.086148   \n",
            "117  10/31/1999   698.4355   7.4333  7.4296                   0.087284   \n",
            "118  11/30/1999   704.4604   7.5036  7.4762                   0.091873   \n",
            "119  12/31/1999   707.6146   7.6414  7.5514                   0.099163   \n",
            "..          ...        ...      ...     ...                        ...   \n",
            "690  07/31/2047  5831.1869   5.6370  5.6152                   0.074323   \n",
            "691  08/31/2047  5851.3044   5.6377  5.6158                   0.074325   \n",
            "692  09/30/2047  5870.9993   5.6383  5.6163                   0.074283   \n",
            "693  10/31/2047  5890.7048   5.6386  5.6167                   0.074293   \n",
            "694  11/30/2047  5910.5707   5.6388  5.6170                   0.074340   \n",
            "695  12/31/2047  5930.7022   5.6387  5.6172                   0.074310   \n",
            "696  01/31/2048  5951.3893   5.6387  5.6173                   0.074275   \n",
            "697  02/29/2048  5971.5368   5.6386  5.6175                   0.074196   \n",
            "698  03/31/2048  5991.7379   5.6388  5.6178                   0.074305   \n",
            "699  04/30/2048  6012.3026   5.6391  5.6182                   0.074477   \n",
            "700  05/31/2048  6032.8832   5.6394  5.6186                   0.074425   \n",
            "701  06/30/2048  6053.4662   5.6397  5.6189                   0.074377   \n",
            "702  07/31/2048  6074.0332   5.6398  5.6191                   0.074397   \n",
            "703  08/31/2048  6094.9005   5.6398  5.6191                   0.074433   \n",
            "704  09/30/2048  6115.3976   5.6394  5.6191                   0.074434   \n",
            "705  10/31/2048  6135.9307   5.6393  5.6192                   0.074504   \n",
            "706  11/30/2048  6156.5889   5.6399  5.6198                   0.074622   \n",
            "707  12/31/2048  6177.4423   5.6416  5.6209                   0.074654   \n",
            "708  01/31/2049  6198.8393   5.6436  5.6222                   0.074649   \n",
            "709  02/28/2049  6219.3717   5.6451  5.6231                   0.074570   \n",
            "710  03/31/2049  6240.0561   5.6455  5.6233                   0.074661   \n",
            "711  04/30/2049  6261.5738   5.6451  5.6231                   0.074818   \n",
            "712  05/31/2049  6283.2030   5.6446  5.6228                   0.074706   \n",
            "713  06/30/2049  6304.9200   5.6445  5.6228                   0.074603   \n",
            "714  07/31/2049  6326.7119   5.6447  5.6230                   0.074623   \n",
            "715  08/31/2049  6348.9260   5.6451  5.6234                   0.074659   \n",
            "716  09/30/2049  6370.8348   5.6457  5.6238                   0.074666   \n",
            "717  10/31/2049  6392.7855   5.6462  5.6242                   0.074756   \n",
            "718  11/30/2049  6414.7669   5.6465  5.6244                   0.074910   \n",
            "719  12/31/2049  6436.7683   5.6465  5.6243                   0.074988   \n",
            "\n",
            "     gspTX_12m_LogRatio_7m_change_11m_lag  itbyBAA_24m_Diff_12m_lag  \\\n",
            "90                               0.021869                   -0.6782   \n",
            "91                               0.018215                   -0.8883   \n",
            "92                               0.013601                   -1.2129   \n",
            "93                               0.008617                   -1.5961   \n",
            "94                               0.004887                   -1.9416   \n",
            "95                               0.003788                   -2.1538   \n",
            "96                               0.003952                   -2.1423   \n",
            "97                               0.003343                   -1.8351   \n",
            "98                               0.001216                   -1.2163   \n",
            "99                              -0.000957                   -0.4622   \n",
            "100                             -0.001565                    0.1402   \n",
            "101                             -0.001012                    0.4031   \n",
            "102                             -0.001149                    0.3929   \n",
            "103                             -0.003153                    0.2645   \n",
            "104                             -0.006090                    0.1540   \n",
            "105                             -0.008837                    0.1179   \n",
            "106                             -0.010961                    0.1885   \n",
            "107                             -0.013810                    0.3676   \n",
            "108                             -0.017550                    0.5599   \n",
            "109                             -0.021310                    0.6284   \n",
            "110                             -0.023359                    0.5015   \n",
            "111                             -0.023492                    0.2311   \n",
            "112                             -0.022655                   -0.0874   \n",
            "113                             -0.021961                   -0.3631   \n",
            "114                             -0.020540                   -0.5307   \n",
            "115                             -0.017166                   -0.5347   \n",
            "116                             -0.011564                   -0.3648   \n",
            "117                             -0.005305                   -0.1454   \n",
            "118                             -0.000571                   -0.0410   \n",
            "119                              0.001725                   -0.1568   \n",
            "..                                    ...                       ...   \n",
            "690                             -0.000356                    0.0014   \n",
            "691                             -0.000355                   -0.0002   \n",
            "692                             -0.000378                   -0.0006   \n",
            "693                             -0.000397                    0.0002   \n",
            "694                             -0.000392                    0.0015   \n",
            "695                             -0.000365                    0.0028   \n",
            "696                             -0.000326                    0.0039   \n",
            "697                             -0.000276                    0.0046   \n",
            "698                             -0.000207                    0.0046   \n",
            "699                             -0.000125                    0.0047   \n",
            "700                             -0.000043                    0.0054   \n",
            "701                              0.000017                    0.0071   \n",
            "702                              0.000061                    0.0095   \n",
            "703                              0.000100                    0.0117   \n",
            "704                              0.000149                    0.0130   \n",
            "705                              0.000203                    0.0136   \n",
            "706                              0.000249                    0.0135   \n",
            "707                              0.000274                    0.0129   \n",
            "708                              0.000332                    0.0120   \n",
            "709                              0.000370                    0.0112   \n",
            "710                              0.000339                    0.0106   \n",
            "711                              0.000294                    0.0100   \n",
            "712                              0.000236                    0.0095   \n",
            "713                              0.000172                    0.0090   \n",
            "714                              0.000116                    0.0084   \n",
            "715                              0.000024                    0.0077   \n",
            "716                             -0.000051                    0.0072   \n",
            "717                             -0.000064                    0.0065   \n",
            "718                             -0.000078                    0.0058   \n",
            "719                             -0.000085                    0.0049   \n",
            "\n",
            "     byAAA_9m_lag  \n",
            "90         7.2885  \n",
            "91         7.1936  \n",
            "92         7.2067  \n",
            "93         7.3038  \n",
            "94         7.4299  \n",
            "95         7.5466  \n",
            "96         7.6199  \n",
            "97         7.6070  \n",
            "98         7.4920  \n",
            "99         7.3181  \n",
            "100        7.1476  \n",
            "101        7.0311  \n",
            "102        6.9525  \n",
            "103        6.8799  \n",
            "104        6.7933  \n",
            "105        6.7070  \n",
            "106        6.6523  \n",
            "107        6.6396  \n",
            "108        6.6492  \n",
            "109        6.6493  \n",
            "110        6.6169  \n",
            "111        6.5580  \n",
            "112        6.4881  \n",
            "113        6.4230  \n",
            "114        6.3674  \n",
            "115        6.3241  \n",
            "116        6.3005  \n",
            "117        6.3173  \n",
            "118        6.3943  \n",
            "119        6.5427  \n",
            "..            ...  \n",
            "690        5.6120  \n",
            "691        5.6121  \n",
            "692        5.6125  \n",
            "693        5.6131  \n",
            "694        5.6136  \n",
            "695        5.6139  \n",
            "696        5.6140  \n",
            "697        5.6142  \n",
            "698        5.6146  \n",
            "699        5.6152  \n",
            "700        5.6158  \n",
            "701        5.6163  \n",
            "702        5.6167  \n",
            "703        5.6170  \n",
            "704        5.6172  \n",
            "705        5.6173  \n",
            "706        5.6175  \n",
            "707        5.6178  \n",
            "708        5.6182  \n",
            "709        5.6186  \n",
            "710        5.6189  \n",
            "711        5.6191  \n",
            "712        5.6191  \n",
            "713        5.6191  \n",
            "714        5.6192  \n",
            "715        5.6198  \n",
            "716        5.6209  \n",
            "717        5.6222  \n",
            "718        5.6231  \n",
            "719        5.6233  \n",
            "\n",
            "[630 rows x 8 columns]\n"
          ],
          "name": "stdout"
        }
      ]
    },
    {
      "cell_type": "code",
      "metadata": {
        "id": "fBBL1aHvQMfi",
        "colab_type": "code",
        "colab": {},
        "outputId": "4e321ad6-79f9-477a-d95a-649c5870e7b7"
      },
      "source": [
        "df_raw_macro.reset_index()\n",
        "#df_raw_macro['forecast_YrMo'] = df_raw_macro['Date'].dt.to_period('M')\n",
        "df_raw_macro['forecast_YrMo'] = pd.to_datetime(df_raw_macro['DATE'].astype(str), format='%m/%d/%Y')\n",
        "df_raw_macro['forecast_YrMo'] = df_raw_macro['forecast_YrMo'].dt.to_period('M')\n",
        "# df_transformed_macro = df_raw_macro.loc[df_raw_macro['itbyBAA_24m_Diff_12m_lag'].notnull(),]\n",
        "# df_itby = df_transformed_macro[['forecast_YrMo','itbyBAA_24m_Diff_12m_lag']]\n",
        "# print(df_itby)\n",
        "# print(df_forecast_11['forecast_YrMo'].unique())\n",
        "print(df_raw_macro['forecast_YrMo'].unique())\n",
        "# print(df_transformed_macro['forecast_YrMo'].dtype)"
      ],
      "execution_count": 0,
      "outputs": [
        {
          "output_type": "stream",
          "text": [
            "[Period('1990-01', 'M') Period('1990-02', 'M') Period('1990-03', 'M')\n",
            " Period('1990-04', 'M') Period('1990-05', 'M') Period('1990-06', 'M')\n",
            " Period('1990-07', 'M') Period('1990-08', 'M') Period('1990-09', 'M')\n",
            " Period('1990-10', 'M') Period('1990-11', 'M') Period('1990-12', 'M')\n",
            " Period('1991-01', 'M') Period('1991-02', 'M') Period('1991-03', 'M')\n",
            " Period('1991-04', 'M') Period('1991-05', 'M') Period('1991-06', 'M')\n",
            " Period('1991-07', 'M') Period('1991-08', 'M') Period('1991-09', 'M')\n",
            " Period('1991-10', 'M') Period('1991-11', 'M') Period('1991-12', 'M')\n",
            " Period('1992-01', 'M') Period('1992-02', 'M') Period('1992-03', 'M')\n",
            " Period('1992-04', 'M') Period('1992-05', 'M') Period('1992-06', 'M')\n",
            " Period('1992-07', 'M') Period('1992-08', 'M') Period('1992-09', 'M')\n",
            " Period('1992-10', 'M') Period('1992-11', 'M') Period('1992-12', 'M')\n",
            " Period('1993-01', 'M') Period('1993-02', 'M') Period('1993-03', 'M')\n",
            " Period('1993-04', 'M') Period('1993-05', 'M') Period('1993-06', 'M')\n",
            " Period('1993-07', 'M') Period('1993-08', 'M') Period('1993-09', 'M')\n",
            " Period('1993-10', 'M') Period('1993-11', 'M') Period('1993-12', 'M')\n",
            " Period('1994-01', 'M') Period('1994-02', 'M') Period('1994-03', 'M')\n",
            " Period('1994-04', 'M') Period('1994-05', 'M') Period('1994-06', 'M')\n",
            " Period('1994-07', 'M') Period('1994-08', 'M') Period('1994-09', 'M')\n",
            " Period('1994-10', 'M') Period('1994-11', 'M') Period('1994-12', 'M')\n",
            " Period('1995-01', 'M') Period('1995-02', 'M') Period('1995-03', 'M')\n",
            " Period('1995-04', 'M') Period('1995-05', 'M') Period('1995-06', 'M')\n",
            " Period('1995-07', 'M') Period('1995-08', 'M') Period('1995-09', 'M')\n",
            " Period('1995-10', 'M') Period('1995-11', 'M') Period('1995-12', 'M')\n",
            " Period('1996-01', 'M') Period('1996-02', 'M') Period('1996-03', 'M')\n",
            " Period('1996-04', 'M') Period('1996-05', 'M') Period('1996-06', 'M')\n",
            " Period('1996-07', 'M') Period('1996-08', 'M') Period('1996-09', 'M')\n",
            " Period('1996-10', 'M') Period('1996-11', 'M') Period('1996-12', 'M')\n",
            " Period('1997-01', 'M') Period('1997-02', 'M') Period('1997-03', 'M')\n",
            " Period('1997-04', 'M') Period('1997-05', 'M') Period('1997-06', 'M')\n",
            " Period('1997-07', 'M') Period('1997-08', 'M') Period('1997-09', 'M')\n",
            " Period('1997-10', 'M') Period('1997-11', 'M') Period('1997-12', 'M')\n",
            " Period('1998-01', 'M') Period('1998-02', 'M') Period('1998-03', 'M')\n",
            " Period('1998-04', 'M') Period('1998-05', 'M') Period('1998-06', 'M')\n",
            " Period('1998-07', 'M') Period('1998-08', 'M') Period('1998-09', 'M')\n",
            " Period('1998-10', 'M') Period('1998-11', 'M') Period('1998-12', 'M')\n",
            " Period('1999-01', 'M') Period('1999-02', 'M') Period('1999-03', 'M')\n",
            " Period('1999-04', 'M') Period('1999-05', 'M') Period('1999-06', 'M')\n",
            " Period('1999-07', 'M') Period('1999-08', 'M') Period('1999-09', 'M')\n",
            " Period('1999-10', 'M') Period('1999-11', 'M') Period('1999-12', 'M')\n",
            " Period('2000-01', 'M') Period('2000-02', 'M') Period('2000-03', 'M')\n",
            " Period('2000-04', 'M') Period('2000-05', 'M') Period('2000-06', 'M')\n",
            " Period('2000-07', 'M') Period('2000-08', 'M') Period('2000-09', 'M')\n",
            " Period('2000-10', 'M') Period('2000-11', 'M') Period('2000-12', 'M')\n",
            " Period('2001-01', 'M') Period('2001-02', 'M') Period('2001-03', 'M')\n",
            " Period('2001-04', 'M') Period('2001-05', 'M') Period('2001-06', 'M')\n",
            " Period('2001-07', 'M') Period('2001-08', 'M') Period('2001-09', 'M')\n",
            " Period('2001-10', 'M') Period('2001-11', 'M') Period('2001-12', 'M')\n",
            " Period('2002-01', 'M') Period('2002-02', 'M') Period('2002-03', 'M')\n",
            " Period('2002-04', 'M') Period('2002-05', 'M') Period('2002-06', 'M')\n",
            " Period('2002-07', 'M') Period('2002-08', 'M') Period('2002-09', 'M')\n",
            " Period('2002-10', 'M') Period('2002-11', 'M') Period('2002-12', 'M')\n",
            " Period('2003-01', 'M') Period('2003-02', 'M') Period('2003-03', 'M')\n",
            " Period('2003-04', 'M') Period('2003-05', 'M') Period('2003-06', 'M')\n",
            " Period('2003-07', 'M') Period('2003-08', 'M') Period('2003-09', 'M')\n",
            " Period('2003-10', 'M') Period('2003-11', 'M') Period('2003-12', 'M')\n",
            " Period('2004-01', 'M') Period('2004-02', 'M') Period('2004-03', 'M')\n",
            " Period('2004-04', 'M') Period('2004-05', 'M') Period('2004-06', 'M')\n",
            " Period('2004-07', 'M') Period('2004-08', 'M') Period('2004-09', 'M')\n",
            " Period('2004-10', 'M') Period('2004-11', 'M') Period('2004-12', 'M')\n",
            " Period('2005-01', 'M') Period('2005-02', 'M') Period('2005-03', 'M')\n",
            " Period('2005-04', 'M') Period('2005-05', 'M') Period('2005-06', 'M')\n",
            " Period('2005-07', 'M') Period('2005-08', 'M') Period('2005-09', 'M')\n",
            " Period('2005-10', 'M') Period('2005-11', 'M') Period('2005-12', 'M')\n",
            " Period('2006-01', 'M') Period('2006-02', 'M') Period('2006-03', 'M')\n",
            " Period('2006-04', 'M') Period('2006-05', 'M') Period('2006-06', 'M')\n",
            " Period('2006-07', 'M') Period('2006-08', 'M') Period('2006-09', 'M')\n",
            " Period('2006-10', 'M') Period('2006-11', 'M') Period('2006-12', 'M')\n",
            " Period('2007-01', 'M') Period('2007-02', 'M') Period('2007-03', 'M')\n",
            " Period('2007-04', 'M') Period('2007-05', 'M') Period('2007-06', 'M')\n",
            " Period('2007-07', 'M') Period('2007-08', 'M') Period('2007-09', 'M')\n",
            " Period('2007-10', 'M') Period('2007-11', 'M') Period('2007-12', 'M')\n",
            " Period('2008-01', 'M') Period('2008-02', 'M') Period('2008-03', 'M')\n",
            " Period('2008-04', 'M') Period('2008-05', 'M') Period('2008-06', 'M')\n",
            " Period('2008-07', 'M') Period('2008-08', 'M') Period('2008-09', 'M')\n",
            " Period('2008-10', 'M') Period('2008-11', 'M') Period('2008-12', 'M')\n",
            " Period('2009-01', 'M') Period('2009-02', 'M') Period('2009-03', 'M')\n",
            " Period('2009-04', 'M') Period('2009-05', 'M') Period('2009-06', 'M')\n",
            " Period('2009-07', 'M') Period('2009-08', 'M') Period('2009-09', 'M')\n",
            " Period('2009-10', 'M') Period('2009-11', 'M') Period('2009-12', 'M')\n",
            " Period('2010-01', 'M') Period('2010-02', 'M') Period('2010-03', 'M')\n",
            " Period('2010-04', 'M') Period('2010-05', 'M') Period('2010-06', 'M')\n",
            " Period('2010-07', 'M') Period('2010-08', 'M') Period('2010-09', 'M')\n",
            " Period('2010-10', 'M') Period('2010-11', 'M') Period('2010-12', 'M')\n",
            " Period('2011-01', 'M') Period('2011-02', 'M') Period('2011-03', 'M')\n",
            " Period('2011-04', 'M') Period('2011-05', 'M') Period('2011-06', 'M')\n",
            " Period('2011-07', 'M') Period('2011-08', 'M') Period('2011-09', 'M')\n",
            " Period('2011-10', 'M') Period('2011-11', 'M') Period('2011-12', 'M')\n",
            " Period('2012-01', 'M') Period('2012-02', 'M') Period('2012-03', 'M')\n",
            " Period('2012-04', 'M') Period('2012-05', 'M') Period('2012-06', 'M')\n",
            " Period('2012-07', 'M') Period('2012-08', 'M') Period('2012-09', 'M')\n",
            " Period('2012-10', 'M') Period('2012-11', 'M') Period('2012-12', 'M')\n",
            " Period('2013-01', 'M') Period('2013-02', 'M') Period('2013-03', 'M')\n",
            " Period('2013-04', 'M') Period('2013-05', 'M') Period('2013-06', 'M')\n",
            " Period('2013-07', 'M') Period('2013-08', 'M') Period('2013-09', 'M')\n",
            " Period('2013-10', 'M') Period('2013-11', 'M') Period('2013-12', 'M')\n",
            " Period('2014-01', 'M') Period('2014-02', 'M') Period('2014-03', 'M')\n",
            " Period('2014-04', 'M') Period('2014-05', 'M') Period('2014-06', 'M')\n",
            " Period('2014-07', 'M') Period('2014-08', 'M') Period('2014-09', 'M')\n",
            " Period('2014-10', 'M') Period('2014-11', 'M') Period('2014-12', 'M')\n",
            " Period('2015-01', 'M') Period('2015-02', 'M') Period('2015-03', 'M')\n",
            " Period('2015-04', 'M') Period('2015-05', 'M') Period('2015-06', 'M')\n",
            " Period('2015-07', 'M') Period('2015-08', 'M') Period('2015-09', 'M')\n",
            " Period('2015-10', 'M') Period('2015-11', 'M') Period('2015-12', 'M')\n",
            " Period('2016-01', 'M') Period('2016-02', 'M') Period('2016-03', 'M')\n",
            " Period('2016-04', 'M') Period('2016-05', 'M') Period('2016-06', 'M')\n",
            " Period('2016-07', 'M') Period('2016-08', 'M') Period('2016-09', 'M')\n",
            " Period('2016-10', 'M') Period('2016-11', 'M') Period('2016-12', 'M')\n",
            " Period('2017-01', 'M') Period('2017-02', 'M') Period('2017-03', 'M')\n",
            " Period('2017-04', 'M') Period('2017-05', 'M') Period('2017-06', 'M')\n",
            " Period('2017-07', 'M') Period('2017-08', 'M') Period('2017-09', 'M')\n",
            " Period('2017-10', 'M') Period('2017-11', 'M') Period('2017-12', 'M')\n",
            " Period('2018-01', 'M') Period('2018-02', 'M') Period('2018-03', 'M')\n",
            " Period('2018-04', 'M') Period('2018-05', 'M') Period('2018-06', 'M')\n",
            " Period('2018-07', 'M') Period('2018-08', 'M') Period('2018-09', 'M')\n",
            " Period('2018-10', 'M') Period('2018-11', 'M') Period('2018-12', 'M')\n",
            " Period('2019-01', 'M') Period('2019-02', 'M') Period('2019-03', 'M')\n",
            " Period('2019-04', 'M') Period('2019-05', 'M') Period('2019-06', 'M')\n",
            " Period('2019-07', 'M') Period('2019-08', 'M') Period('2019-09', 'M')\n",
            " Period('2019-10', 'M') Period('2019-11', 'M') Period('2019-12', 'M')\n",
            " Period('2020-01', 'M') Period('2020-02', 'M') Period('2020-03', 'M')\n",
            " Period('2020-04', 'M') Period('2020-05', 'M') Period('2020-06', 'M')\n",
            " Period('2020-07', 'M') Period('2020-08', 'M') Period('2020-09', 'M')\n",
            " Period('2020-10', 'M') Period('2020-11', 'M') Period('2020-12', 'M')\n",
            " Period('2021-01', 'M') Period('2021-02', 'M') Period('2021-03', 'M')\n",
            " Period('2021-04', 'M') Period('2021-05', 'M') Period('2021-06', 'M')\n",
            " Period('2021-07', 'M') Period('2021-08', 'M') Period('2021-09', 'M')\n",
            " Period('2021-10', 'M') Period('2021-11', 'M') Period('2021-12', 'M')\n",
            " Period('2022-01', 'M') Period('2022-02', 'M') Period('2022-03', 'M')\n",
            " Period('2022-04', 'M') Period('2022-05', 'M') Period('2022-06', 'M')\n",
            " Period('2022-07', 'M') Period('2022-08', 'M') Period('2022-09', 'M')\n",
            " Period('2022-10', 'M') Period('2022-11', 'M') Period('2022-12', 'M')\n",
            " Period('2023-01', 'M') Period('2023-02', 'M') Period('2023-03', 'M')\n",
            " Period('2023-04', 'M') Period('2023-05', 'M') Period('2023-06', 'M')\n",
            " Period('2023-07', 'M') Period('2023-08', 'M') Period('2023-09', 'M')\n",
            " Period('2023-10', 'M') Period('2023-11', 'M') Period('2023-12', 'M')\n",
            " Period('2024-01', 'M') Period('2024-02', 'M') Period('2024-03', 'M')\n",
            " Period('2024-04', 'M') Period('2024-05', 'M') Period('2024-06', 'M')\n",
            " Period('2024-07', 'M') Period('2024-08', 'M') Period('2024-09', 'M')\n",
            " Period('2024-10', 'M') Period('2024-11', 'M') Period('2024-12', 'M')\n",
            " Period('2025-01', 'M') Period('2025-02', 'M') Period('2025-03', 'M')\n",
            " Period('2025-04', 'M') Period('2025-05', 'M') Period('2025-06', 'M')\n",
            " Period('2025-07', 'M') Period('2025-08', 'M') Period('2025-09', 'M')\n",
            " Period('2025-10', 'M') Period('2025-11', 'M') Period('2025-12', 'M')\n",
            " Period('2026-01', 'M') Period('2026-02', 'M') Period('2026-03', 'M')\n",
            " Period('2026-04', 'M') Period('2026-05', 'M') Period('2026-06', 'M')\n",
            " Period('2026-07', 'M') Period('2026-08', 'M') Period('2026-09', 'M')\n",
            " Period('2026-10', 'M') Period('2026-11', 'M') Period('2026-12', 'M')\n",
            " Period('2027-01', 'M') Period('2027-02', 'M') Period('2027-03', 'M')\n",
            " Period('2027-04', 'M') Period('2027-05', 'M') Period('2027-06', 'M')\n",
            " Period('2027-07', 'M') Period('2027-08', 'M') Period('2027-09', 'M')\n",
            " Period('2027-10', 'M') Period('2027-11', 'M') Period('2027-12', 'M')\n",
            " Period('2028-01', 'M') Period('2028-02', 'M') Period('2028-03', 'M')\n",
            " Period('2028-04', 'M') Period('2028-05', 'M') Period('2028-06', 'M')\n",
            " Period('2028-07', 'M') Period('2028-08', 'M') Period('2028-09', 'M')\n",
            " Period('2028-10', 'M') Period('2028-11', 'M') Period('2028-12', 'M')\n",
            " Period('2029-01', 'M') Period('2029-02', 'M') Period('2029-03', 'M')\n",
            " Period('2029-04', 'M') Period('2029-05', 'M') Period('2029-06', 'M')\n",
            " Period('2029-07', 'M') Period('2029-08', 'M') Period('2029-09', 'M')\n",
            " Period('2029-10', 'M') Period('2029-11', 'M') Period('2029-12', 'M')\n",
            " Period('2030-01', 'M') Period('2030-02', 'M') Period('2030-03', 'M')\n",
            " Period('2030-04', 'M') Period('2030-05', 'M') Period('2030-06', 'M')\n",
            " Period('2030-07', 'M') Period('2030-08', 'M') Period('2030-09', 'M')\n",
            " Period('2030-10', 'M') Period('2030-11', 'M') Period('2030-12', 'M')\n",
            " Period('2031-01', 'M') Period('2031-02', 'M') Period('2031-03', 'M')\n",
            " Period('2031-04', 'M') Period('2031-05', 'M') Period('2031-06', 'M')\n",
            " Period('2031-07', 'M') Period('2031-08', 'M') Period('2031-09', 'M')\n",
            " Period('2031-10', 'M') Period('2031-11', 'M') Period('2031-12', 'M')\n",
            " Period('2032-01', 'M') Period('2032-02', 'M') Period('2032-03', 'M')\n",
            " Period('2032-04', 'M') Period('2032-05', 'M') Period('2032-06', 'M')\n",
            " Period('2032-07', 'M') Period('2032-08', 'M') Period('2032-09', 'M')\n",
            " Period('2032-10', 'M') Period('2032-11', 'M') Period('2032-12', 'M')\n",
            " Period('2033-01', 'M') Period('2033-02', 'M') Period('2033-03', 'M')\n",
            " Period('2033-04', 'M') Period('2033-05', 'M') Period('2033-06', 'M')\n",
            " Period('2033-07', 'M') Period('2033-08', 'M') Period('2033-09', 'M')\n",
            " Period('2033-10', 'M') Period('2033-11', 'M') Period('2033-12', 'M')\n",
            " Period('2034-01', 'M') Period('2034-02', 'M') Period('2034-03', 'M')\n",
            " Period('2034-04', 'M') Period('2034-05', 'M') Period('2034-06', 'M')\n",
            " Period('2034-07', 'M') Period('2034-08', 'M') Period('2034-09', 'M')\n",
            " Period('2034-10', 'M') Period('2034-11', 'M') Period('2034-12', 'M')\n",
            " Period('2035-01', 'M') Period('2035-02', 'M') Period('2035-03', 'M')\n",
            " Period('2035-04', 'M') Period('2035-05', 'M') Period('2035-06', 'M')\n",
            " Period('2035-07', 'M') Period('2035-08', 'M') Period('2035-09', 'M')\n",
            " Period('2035-10', 'M') Period('2035-11', 'M') Period('2035-12', 'M')\n",
            " Period('2036-01', 'M') Period('2036-02', 'M') Period('2036-03', 'M')\n",
            " Period('2036-04', 'M') Period('2036-05', 'M') Period('2036-06', 'M')\n",
            " Period('2036-07', 'M') Period('2036-08', 'M') Period('2036-09', 'M')\n",
            " Period('2036-10', 'M') Period('2036-11', 'M') Period('2036-12', 'M')\n",
            " Period('2037-01', 'M') Period('2037-02', 'M') Period('2037-03', 'M')\n",
            " Period('2037-04', 'M') Period('2037-05', 'M') Period('2037-06', 'M')\n",
            " Period('2037-07', 'M') Period('2037-08', 'M') Period('2037-09', 'M')\n",
            " Period('2037-10', 'M') Period('2037-11', 'M') Period('2037-12', 'M')\n",
            " Period('2038-01', 'M') Period('2038-02', 'M') Period('2038-03', 'M')\n",
            " Period('2038-04', 'M') Period('2038-05', 'M') Period('2038-06', 'M')\n",
            " Period('2038-07', 'M') Period('2038-08', 'M') Period('2038-09', 'M')\n",
            " Period('2038-10', 'M') Period('2038-11', 'M') Period('2038-12', 'M')\n",
            " Period('2039-01', 'M') Period('2039-02', 'M') Period('2039-03', 'M')\n",
            " Period('2039-04', 'M') Period('2039-05', 'M') Period('2039-06', 'M')\n",
            " Period('2039-07', 'M') Period('2039-08', 'M') Period('2039-09', 'M')\n",
            " Period('2039-10', 'M') Period('2039-11', 'M') Period('2039-12', 'M')\n",
            " Period('2040-01', 'M') Period('2040-02', 'M') Period('2040-03', 'M')\n",
            " Period('2040-04', 'M') Period('2040-05', 'M') Period('2040-06', 'M')\n",
            " Period('2040-07', 'M') Period('2040-08', 'M') Period('2040-09', 'M')\n",
            " Period('2040-10', 'M') Period('2040-11', 'M') Period('2040-12', 'M')\n",
            " Period('2041-01', 'M') Period('2041-02', 'M') Period('2041-03', 'M')\n",
            " Period('2041-04', 'M') Period('2041-05', 'M') Period('2041-06', 'M')\n",
            " Period('2041-07', 'M') Period('2041-08', 'M') Period('2041-09', 'M')\n",
            " Period('2041-10', 'M') Period('2041-11', 'M') Period('2041-12', 'M')\n",
            " Period('2042-01', 'M') Period('2042-02', 'M') Period('2042-03', 'M')\n",
            " Period('2042-04', 'M') Period('2042-05', 'M') Period('2042-06', 'M')\n",
            " Period('2042-07', 'M') Period('2042-08', 'M') Period('2042-09', 'M')\n",
            " Period('2042-10', 'M') Period('2042-11', 'M') Period('2042-12', 'M')\n",
            " Period('2043-01', 'M') Period('2043-02', 'M') Period('2043-03', 'M')\n",
            " Period('2043-04', 'M') Period('2043-05', 'M') Period('2043-06', 'M')\n",
            " Period('2043-07', 'M') Period('2043-08', 'M') Period('2043-09', 'M')\n",
            " Period('2043-10', 'M') Period('2043-11', 'M') Period('2043-12', 'M')\n",
            " Period('2044-01', 'M') Period('2044-02', 'M') Period('2044-03', 'M')\n",
            " Period('2044-04', 'M') Period('2044-05', 'M') Period('2044-06', 'M')\n",
            " Period('2044-07', 'M') Period('2044-08', 'M') Period('2044-09', 'M')\n",
            " Period('2044-10', 'M') Period('2044-11', 'M') Period('2044-12', 'M')\n",
            " Period('2045-01', 'M') Period('2045-02', 'M') Period('2045-03', 'M')\n",
            " Period('2045-04', 'M') Period('2045-05', 'M') Period('2045-06', 'M')\n",
            " Period('2045-07', 'M') Period('2045-08', 'M') Period('2045-09', 'M')\n",
            " Period('2045-10', 'M') Period('2045-11', 'M') Period('2045-12', 'M')\n",
            " Period('2046-01', 'M') Period('2046-02', 'M') Period('2046-03', 'M')\n",
            " Period('2046-04', 'M') Period('2046-05', 'M') Period('2046-06', 'M')\n",
            " Period('2046-07', 'M') Period('2046-08', 'M') Period('2046-09', 'M')\n",
            " Period('2046-10', 'M') Period('2046-11', 'M') Period('2046-12', 'M')\n",
            " Period('2047-01', 'M') Period('2047-02', 'M') Period('2047-03', 'M')\n",
            " Period('2047-04', 'M') Period('2047-05', 'M') Period('2047-06', 'M')\n",
            " Period('2047-07', 'M') Period('2047-08', 'M') Period('2047-09', 'M')\n",
            " Period('2047-10', 'M') Period('2047-11', 'M') Period('2047-12', 'M')\n",
            " Period('2048-01', 'M') Period('2048-02', 'M') Period('2048-03', 'M')\n",
            " Period('2048-04', 'M') Period('2048-05', 'M') Period('2048-06', 'M')\n",
            " Period('2048-07', 'M') Period('2048-08', 'M') Period('2048-09', 'M')\n",
            " Period('2048-10', 'M') Period('2048-11', 'M') Period('2048-12', 'M')\n",
            " Period('2049-01', 'M') Period('2049-02', 'M') Period('2049-03', 'M')\n",
            " Period('2049-04', 'M') Period('2049-05', 'M') Period('2049-06', 'M')\n",
            " Period('2049-07', 'M') Period('2049-08', 'M') Period('2049-09', 'M')\n",
            " Period('2049-10', 'M') Period('2049-11', 'M') Period('2049-12', 'M')]\n"
          ],
          "name": "stdout"
        }
      ]
    },
    {
      "cell_type": "code",
      "metadata": {
        "collapsed": true,
        "id": "BG53kUFAQMfl",
        "colab_type": "code",
        "colab": {}
      },
      "source": [
        "# df_forecast_2 = pd.merge(df_forecast_11, df_itby, on ='forecast_YrMo', how = 'left')\n",
        "df_forecast_2 = pd.merge(df_forecast_1, df_raw_macro, on = 'forecast_YrMo', how = 'left')\n",
        "# df_forecast_20 = pd.merge(df_forecast_2, df_itby, on = 'forecast_YrMo', how = 'left')\n",
        "# df_forecast_2['Vintage_YrMo'] = df_forecast_2['OpenDt_str'].astype(int)\n",
        "\n",
        "\n",
        "# df_forecast_2['Vintage_year'] = df_forecast_2['OpenDt_YrMo'].dt.strftime(\"%Y\")\n",
        "# df_forecast_2['Vintage_mon'] = df_forecast_2['OpenDt_YrMo'].dt.strftime(\"%m\")\n",
        "# df_forecast_2['Vintage_YrMo'] = df_forecast_2['Vintage_year'].astype(int) * 100 + df_forecast_2['Vintage_mon'].astype(int)"
      ],
      "execution_count": 0,
      "outputs": []
    },
    {
      "cell_type": "code",
      "metadata": {
        "id": "pwScF3yBQMfq",
        "colab_type": "code",
        "colab": {},
        "outputId": "c99fca4e-64ee-492c-95cc-63f9ca66c059"
      },
      "source": [
        "# print(df_forecast_11['forecast_YrMo'].dtype)\n",
        "# print(df_forecast_11.loc[df_forecast_11['AcctID'] == 620202,])\n",
        "# print(df_raw_macro.loc[df_raw_macro['DATE'] >= '07/31/2019',])\n",
        "print(df_forecast_2.columns)\n",
        "# print(df_forecast_2.loc[df_forecast_2['itbyBAA_24m_Diff_12m_lag'].notnull(),].forecast_YrMo.unique())"
      ],
      "execution_count": 0,
      "outputs": [
        {
          "output_type": "stream",
          "text": [
            "Index(['index', 'AcctID', 'INSTID', 'ProdCd_YrMo', 'EOMOpenDt_YrMo',\n",
            "       'OpenDt_str', 'EOMMaturityDt_YrMo', 'MaturityDate_mon', 'Term_Origin',\n",
            "       'EFFECTIVE_INTEREST_RT', 'RevolveIn', 'segment_level_0',\n",
            "       'segment_level_1', 'segment_level_s', 'vintage_year', 'IntRt_flag_GE15',\n",
            "       'utilization_rate', 'PMT_L6MO', 'Age_mon', 'OpenDt_Dt', 'OpenDt_YrMo',\n",
            "       'Vintage_Days', 'MaturityDate_dt', 'NetGLOutstandingBalance',\n",
            "       'OpenAmt_YrMo', 'PrinPayment_L6mon', 'UNPAID_BALANCE_AMT',\n",
            "       'OFF_BALANCE_AMT', 'DAYS_PAST_DUE_CNT', 'RiskCd', 'EOMChrgOffDt',\n",
            "       'forecast_YrMo', 'forecast_mon', 'ssn_mon', 'DATE', 'gspTX', 'itbyBAA',\n",
            "       'byAAA', 'gspTX_22m_LogRatio_3m_lag',\n",
            "       'gspTX_12m_LogRatio_7m_change_11m_lag', 'itbyBAA_24m_Diff_12m_lag',\n",
            "       'byAAA_9m_lag'],\n",
            "      dtype='object')\n"
          ],
          "name": "stdout"
        }
      ]
    },
    {
      "cell_type": "code",
      "metadata": {
        "collapsed": true,
        "id": "E3vvCG3nQMfw",
        "colab_type": "code",
        "colab": {}
      },
      "source": [
        "# print(df_forecast_2[['Vintage_year', 'Vintage_mon', 'Vintage_YrMo', 'OpenDt_str' ]])"
      ],
      "execution_count": 0,
      "outputs": []
    },
    {
      "cell_type": "code",
      "metadata": {
        "collapsed": true,
        "id": "FMc9VO1nQMf4",
        "colab_type": "code",
        "colab": {}
      },
      "source": [
        "# df_forecast_2.loc[df_forecast_2.OpenDt_YrMo.isnull(),] "
      ],
      "execution_count": 0,
      "outputs": []
    },
    {
      "cell_type": "code",
      "metadata": {
        "collapsed": true,
        "id": "4E6x-GMfQMf-",
        "colab_type": "code",
        "colab": {}
      },
      "source": [
        "# print(df_forecast_2)"
      ],
      "execution_count": 0,
      "outputs": []
    },
    {
      "cell_type": "markdown",
      "metadata": {
        "id": "9L26kTPgQMgC",
        "colab_type": "text"
      },
      "source": [
        "#### load the PA and PD lookup tables.\n",
        "##### PD and PA lookup tables need to be updated especially: PD/PA vintage tables (to incorporate some very old loans that were excluded in the model development stage), PA Time table (to incorporate more forecasting periods), \n",
        "##### All the PD lookup tables are generated using the file \"PD_in_out_sample_test_201901-final\n",
        "##### All the PA lookup tables are generated using the file 'PA_in_out_sample_test_201901-final"
      ]
    },
    {
      "cell_type": "code",
      "metadata": {
        "collapsed": true,
        "id": "6dsXuJ0QQMgD",
        "colab_type": "code",
        "colab": {}
      },
      "source": [
        "#loc = (\"W:\\\\Corporate\\\\20368\\\\DFAST_Enterprise_Credit_Loss_Stress_Testing_Models\\\\Consumer Models\\\\SAS_MIP\")\n",
        "df_PA_age = pd.read_excel(\"W:\\\\Corporate\\\\20368\\\\DFAST_Enterprise_Credit_Loss_Stress_Testing_Models\\\\Consumer Models\\\\SAS_MIP\\\\ConsumerOther\\\\Documentation\\\\ConsumerOther_Models_forSAS_MIP_20190913.xlsx\",\n",
        "                           sheetname='PA_age')\n",
        "df_PA_ssn = pd.read_excel(\"W:\\\\Corporate\\\\20368\\\\DFAST_Enterprise_Credit_Loss_Stress_Testing_Models\\\\Consumer Models\\\\SAS_MIP\\\\ConsumerOther\\\\Documentation\\\\ConsumerOther_Models_forSAS_MIP_20190913.xlsx\",\n",
        "                           sheetname='PA_ssn')\n",
        "df_PA_vintage = pd.read_excel(\"W:\\\\Corporate\\\\20368\\\\DFAST_Enterprise_Credit_Loss_Stress_Testing_Models\\\\Consumer Models\\\\SAS_MIP\\\\ConsumerOther\\\\Documentation\\\\ConsumerOther_Models_forSAS_MIP_20190913.xlsx\",\n",
        "                           sheetname='PA_vintage')\n",
        "df_PA_time = pd.read_excel(\"W:\\\\Corporate\\\\20368\\\\DFAST_Enterprise_Credit_Loss_Stress_Testing_Models\\\\Consumer Models\\\\SAS_MIP\\\\ConsumerOther\\\\Documentation\\\\ConsumerOther_Models_forSAS_MIP_20190913.xlsx\",\n",
        "                           sheetname='PA_time')"
      ],
      "execution_count": 0,
      "outputs": []
    },
    {
      "cell_type": "code",
      "metadata": {
        "collapsed": true,
        "id": "q4i7rWHnQMgb",
        "colab_type": "code",
        "colab": {}
      },
      "source": [
        "df_PD_age = pd.read_excel(\"W:\\\\Corporate\\\\20368\\\\DFAST_Enterprise_Credit_Loss_Stress_Testing_Models\\\\Consumer Models\\\\SAS_MIP\\\\ConsumerOther\\\\Documentation\\\\ConsumerOther_Models_forSAS_MIP_20190913.xlsx\",\n",
        "                           sheetname='PD_age')\n",
        "df_PD_ssn = pd.read_excel(\"W:\\\\Corporate\\\\20368\\\\DFAST_Enterprise_Credit_Loss_Stress_Testing_Models\\\\Consumer Models\\\\SAS_MIP\\\\ConsumerOther\\\\Documentation\\\\ConsumerOther_Models_forSAS_MIP_20190913.xlsx\",\n",
        "                           sheetname='PD_ssn')\n",
        "df_PD_vintage = pd.read_excel(\"W:\\\\Corporate\\\\20368\\\\DFAST_Enterprise_Credit_Loss_Stress_Testing_Models\\\\Consumer Models\\\\SAS_MIP\\\\ConsumerOther\\\\Documentation\\\\ConsumerOther_Models_forSAS_MIP_20190913.xlsx\",\n",
        "                           sheetname='PD_vintage')\n"
      ],
      "execution_count": 0,
      "outputs": []
    },
    {
      "cell_type": "code",
      "metadata": {
        "collapsed": true,
        "id": "65SxpH3hQMge",
        "colab_type": "code",
        "colab": {}
      },
      "source": [
        "#print(df_PA_age)"
      ],
      "execution_count": 0,
      "outputs": []
    },
    {
      "cell_type": "code",
      "metadata": {
        "id": "6V5unnuVQMgm",
        "colab_type": "code",
        "colab": {},
        "outputId": "0dcf2ce2-5a3e-4724-9aac-d13b4635b5c1"
      },
      "source": [
        "### This section of the code is to check the old vintages in the snapshot data that is out of the range for the age lookup\n",
        "### tables. \n",
        "### The current strategy is to fill the \"pa_age\" and \"pd_age\" tables for the older vintages that were previously not in the \n",
        "### lookup tables\n",
        "data_vintage = data_snapshot\n",
        "data_vintage['vintage_YrMo']  = (pd.to_datetime(data_vintage['EOMOpenDt_YrMo'].astype(str), format='%d%b%Y')).dt.to_period('M')\n",
        "data_vintage['vintage_mon'] = data_vintage['vintage_YrMo'].dt.strftime('%m')\n",
        "old_vintage = data_vintage.loc[data_vintage.vintage_year < '1995',]\n",
        "old_vintage['pd_vint_lookup_key'] = old_vintage['vintage_year'].astype(int)*100 + old_vintage['vintage_mon'].astype(int)\n",
        "pd_old_vintage = old_vintage[['pd_vint_lookup_key']].sort_values(by=['pd_vint_lookup_key'])\n",
        "pd_old_vintage = pd_old_vintage.drop_duplicates()\n",
        "\n",
        "old_vintage['vint_seg_key'] = old_vintage['pd_vint_lookup_key'].astype(str) + '-' + old_vintage['segment_level_0'].astype(str) + '-' + old_vintage['segment_level_1'].astype(str)\n",
        "# print(list(old_vintage.columns))\n",
        "# print(old_vintage[['INSTID', 'vintage_YrMo','EOMOpenDt_YrMo','vintage_mon','vintage_year', 'EOMOpenDt_YrMo','pd_vint_lookup_key', 'vint_seg_key']])\n",
        "print(pd_old_vintage)\n",
        "\n"
      ],
      "execution_count": 0,
      "outputs": [
        {
          "output_type": "stream",
          "text": [
            "       pd_vint_lookup_key\n",
            "53273              196405\n",
            "55014              196902\n",
            "60564              197209\n",
            "9987               197407\n",
            "63088              197409\n",
            "2089               197508\n",
            "53354              197601\n",
            "56184              197604\n",
            "57097              197610\n",
            "62043              197612\n",
            "54442              197705\n",
            "59446              197803\n",
            "59442              197806\n",
            "55830              197904\n",
            "4845               197906\n",
            "54457              197908\n",
            "55313              198009\n",
            "9817               198011\n",
            "54532              198106\n",
            "55740              198107\n",
            "45684              198109\n",
            "2330               198110\n",
            "578                198111\n",
            "40400              198204\n",
            "60619              198205\n",
            "45692              198206\n",
            "54866              198207\n",
            "54683              198208\n",
            "32537              198209\n",
            "2113               198210\n",
            "...                   ...\n",
            "57305              199207\n",
            "10891              199208\n",
            "2294               199209\n",
            "10962              199210\n",
            "57648              199211\n",
            "102                199212\n",
            "54839              199301\n",
            "60106              199302\n",
            "63104              199303\n",
            "5746               199304\n",
            "4169               199305\n",
            "54726              199306\n",
            "65333              199307\n",
            "10960              199308\n",
            "59207              199309\n",
            "2223               199310\n",
            "2094               199311\n",
            "57373              199312\n",
            "65489              199401\n",
            "5653               199402\n",
            "54572              199403\n",
            "35962              199404\n",
            "59526              199405\n",
            "59590              199406\n",
            "46300              199407\n",
            "265                199408\n",
            "10614              199409\n",
            "46534              199410\n",
            "388                199411\n",
            "57605              199412\n",
            "\n",
            "[172 rows x 1 columns]\n"
          ],
          "name": "stdout"
        },
        {
          "output_type": "stream",
          "text": [
            "C:\\ProgramData\\Anaconda3\\lib\\site-packages\\ipykernel_launcher.py:9: SettingWithCopyWarning: \n",
            "A value is trying to be set on a copy of a slice from a DataFrame.\n",
            "Try using .loc[row_indexer,col_indexer] = value instead\n",
            "\n",
            "See the caveats in the documentation: http://pandas.pydata.org/pandas-docs/stable/indexing.html#indexing-view-versus-copy\n",
            "  if __name__ == '__main__':\n",
            "C:\\ProgramData\\Anaconda3\\lib\\site-packages\\ipykernel_launcher.py:13: SettingWithCopyWarning: \n",
            "A value is trying to be set on a copy of a slice from a DataFrame.\n",
            "Try using .loc[row_indexer,col_indexer] = value instead\n",
            "\n",
            "See the caveats in the documentation: http://pandas.pydata.org/pandas-docs/stable/indexing.html#indexing-view-versus-copy\n",
            "  del sys.path[0]\n"
          ],
          "name": "stderr"
        }
      ]
    },
    {
      "cell_type": "code",
      "metadata": {
        "id": "849jXElhQMgr",
        "colab_type": "code",
        "colab": {},
        "outputId": "03b95113-4632-4a9a-c562-e0b1ceedfd22"
      },
      "source": [
        "### Below is to populate the PD_Age table for those old vintages by taking the the age component from the \"1995-01-01\"\n",
        "pd_old_vintage['pd_vintage_component'] = df_PD_vintage.iloc[0]['pd_vintage_component']\n",
        "print(pd_old_vintage)\n",
        "df_PD_vint_ext = pd_old_vintage.append(df_PD_vintage, ignore_index = True)\n",
        "df_PD_vint_ext = df_PD_vint_ext.sort_values(by = ['pd_vint_lookup_key'])\n",
        "print(df_PD_vint_ext)"
      ],
      "execution_count": 0,
      "outputs": [
        {
          "output_type": "stream",
          "text": [
            "       pd_vint_lookup_key  pd_vintage_component\n",
            "53273              196405              0.870665\n",
            "55014              196902              0.870665\n",
            "60564              197209              0.870665\n",
            "9987               197407              0.870665\n",
            "63088              197409              0.870665\n",
            "2089               197508              0.870665\n",
            "53354              197601              0.870665\n",
            "56184              197604              0.870665\n",
            "57097              197610              0.870665\n",
            "62043              197612              0.870665\n",
            "54442              197705              0.870665\n",
            "59446              197803              0.870665\n",
            "59442              197806              0.870665\n",
            "55830              197904              0.870665\n",
            "4845               197906              0.870665\n",
            "54457              197908              0.870665\n",
            "55313              198009              0.870665\n",
            "9817               198011              0.870665\n",
            "54532              198106              0.870665\n",
            "55740              198107              0.870665\n",
            "45684              198109              0.870665\n",
            "2330               198110              0.870665\n",
            "578                198111              0.870665\n",
            "40400              198204              0.870665\n",
            "60619              198205              0.870665\n",
            "45692              198206              0.870665\n",
            "54866              198207              0.870665\n",
            "54683              198208              0.870665\n",
            "32537              198209              0.870665\n",
            "2113               198210              0.870665\n",
            "...                   ...                   ...\n",
            "57305              199207              0.870665\n",
            "10891              199208              0.870665\n",
            "2294               199209              0.870665\n",
            "10962              199210              0.870665\n",
            "57648              199211              0.870665\n",
            "102                199212              0.870665\n",
            "54839              199301              0.870665\n",
            "60106              199302              0.870665\n",
            "63104              199303              0.870665\n",
            "5746               199304              0.870665\n",
            "4169               199305              0.870665\n",
            "54726              199306              0.870665\n",
            "65333              199307              0.870665\n",
            "10960              199308              0.870665\n",
            "59207              199309              0.870665\n",
            "2223               199310              0.870665\n",
            "2094               199311              0.870665\n",
            "57373              199312              0.870665\n",
            "65489              199401              0.870665\n",
            "5653               199402              0.870665\n",
            "54572              199403              0.870665\n",
            "35962              199404              0.870665\n",
            "59526              199405              0.870665\n",
            "59590              199406              0.870665\n",
            "46300              199407              0.870665\n",
            "265                199408              0.870665\n",
            "10614              199409              0.870665\n",
            "46534              199410              0.870665\n",
            "388                199411              0.870665\n",
            "57605              199412              0.870665\n",
            "\n",
            "[172 rows x 2 columns]\n",
            "     pd_vint_lookup_key  pd_vintage_component\n",
            "0                196405              0.870665\n",
            "1                196902              0.870665\n",
            "2                197209              0.870665\n",
            "3                197407              0.870665\n",
            "4                197409              0.870665\n",
            "5                197508              0.870665\n",
            "6                197601              0.870665\n",
            "7                197604              0.870665\n",
            "8                197610              0.870665\n",
            "9                197612              0.870665\n",
            "10               197705              0.870665\n",
            "11               197803              0.870665\n",
            "12               197806              0.870665\n",
            "13               197904              0.870665\n",
            "14               197906              0.870665\n",
            "15               197908              0.870665\n",
            "16               198009              0.870665\n",
            "17               198011              0.870665\n",
            "18               198106              0.870665\n",
            "19               198107              0.870665\n",
            "20               198109              0.870665\n",
            "21               198110              0.870665\n",
            "22               198111              0.870665\n",
            "23               198204              0.870665\n",
            "24               198205              0.870665\n",
            "25               198206              0.870665\n",
            "26               198207              0.870665\n",
            "27               198208              0.870665\n",
            "28               198209              0.870665\n",
            "29               198210              0.870665\n",
            "..                  ...                   ...\n",
            "454              201807             -0.296239\n",
            "455              201808             -0.296239\n",
            "456              201809             -0.296239\n",
            "457              201810             -0.296239\n",
            "458              201811             -0.296239\n",
            "459              201812             -0.296239\n",
            "460              201901             -0.296239\n",
            "461              201902             -0.296239\n",
            "462              201903             -0.296239\n",
            "463              201904             -0.296239\n",
            "464              201905             -0.296239\n",
            "465              201906             -0.296239\n",
            "466              201907             -0.296239\n",
            "467              201908             -0.296239\n",
            "468              201909             -0.296239\n",
            "469              201910             -0.296239\n",
            "470              201911             -0.296239\n",
            "471              201912             -0.296239\n",
            "472              202001             -0.296239\n",
            "473              202002             -0.296239\n",
            "474              202003             -0.296239\n",
            "475              202004             -0.296239\n",
            "476              202005             -0.296239\n",
            "477              202006             -0.296239\n",
            "478              202007             -0.296239\n",
            "479              202008             -0.296239\n",
            "480              202009             -0.296239\n",
            "481              202010             -0.296239\n",
            "482              202011             -0.296239\n",
            "483              202012             -0.296239\n",
            "\n",
            "[484 rows x 2 columns]\n"
          ],
          "name": "stdout"
        }
      ]
    },
    {
      "cell_type": "code",
      "metadata": {
        "id": "iGhAJbNuQMgw",
        "colab_type": "code",
        "colab": {},
        "outputId": "e4cb27fa-2ba0-4745-ab73-2e73ff66caed"
      },
      "source": [
        "old_vint_pa = old_vintage[['vint_seg_key', 'segment_level_0', 'segment_level_1', 'vintage_year', 'vintage_mon']]\n",
        "old_vint_pa['_name_1'] =str(199501) + old_vint_pa['vint_seg_key'].str.slice(6,10) \n",
        "old_vint_list = list(old_vint_pa['_name_1'].unique())\n",
        "\n",
        "df_PA_vint_1995 = df_PA_vintage[df_PA_vintage['_name_'].isin(old_vint_list)]\n",
        "old_vint_pa = pd.merge(old_vint_pa, df_PA_vint_1995, left_on = '_name_1', right_on ='_name_',how = 'left')\n",
        "\n",
        "old_vint_pa_1 = old_vint_pa[['_name_', 'pa_vint_component', 'vint_seg_key']]\n",
        "old_vint_pa_1['_name_'] = old_vint_pa_1['vint_seg_key']\n",
        "old_vint_pa_1 = old_vint_pa_1.drop_duplicates().sort_values(by = ['_name_']).drop(['vint_seg_key'], axis = 1)\n",
        "# print(old_vint_pa_1)\n",
        "\n",
        "\n",
        "df_PA_vint_ext = old_vint_pa_1.append(df_PA_vintage, ignore_index = True)\n",
        "\n",
        "# vint_seg_key_1995 = [str(199501) + s for s in old_vint_list]\n",
        "\n",
        "# os.chdir('C:\\\\Users\\\\Hu09559\\\\Documents\\\\Consumer\\\\Output\\\\Models\\\\PD')\n",
        "# writer = pd.ExcelWriter('PDPA_Tables_SAS_201909.xlsx')\n",
        "# df_PA_vint_ext.to_excel(writer, sheet_name='PA_vintage')\n",
        "# df_PD_vint_ext.to_excel(writer, sheet_name='PD_vintage')"
      ],
      "execution_count": 0,
      "outputs": [
        {
          "output_type": "stream",
          "text": [
            "C:\\ProgramData\\Anaconda3\\lib\\site-packages\\ipykernel_launcher.py:2: SettingWithCopyWarning: \n",
            "A value is trying to be set on a copy of a slice from a DataFrame.\n",
            "Try using .loc[row_indexer,col_indexer] = value instead\n",
            "\n",
            "See the caveats in the documentation: http://pandas.pydata.org/pandas-docs/stable/indexing.html#indexing-view-versus-copy\n",
            "  \n",
            "C:\\ProgramData\\Anaconda3\\lib\\site-packages\\ipykernel_launcher.py:9: SettingWithCopyWarning: \n",
            "A value is trying to be set on a copy of a slice from a DataFrame.\n",
            "Try using .loc[row_indexer,col_indexer] = value instead\n",
            "\n",
            "See the caveats in the documentation: http://pandas.pydata.org/pandas-docs/stable/indexing.html#indexing-view-versus-copy\n",
            "  if __name__ == '__main__':\n"
          ],
          "name": "stderr"
        }
      ]
    },
    {
      "cell_type": "code",
      "metadata": {
        "collapsed": true,
        "id": "PsCUbDuCQMgz",
        "colab_type": "code",
        "colab": {}
      },
      "source": [
        "# print(df_PA_vint_ext)"
      ],
      "execution_count": 0,
      "outputs": []
    },
    {
      "cell_type": "markdown",
      "metadata": {
        "id": "Tin6njq2QMg4",
        "colab_type": "text"
      },
      "source": [
        "#### we need to merge the lookup tables with the df_forecast_2 dataset"
      ]
    },
    {
      "cell_type": "code",
      "metadata": {
        "collapsed": true,
        "id": "9ccYZgLSQMg5",
        "colab_type": "code",
        "colab": {}
      },
      "source": [
        "df_PD_vint_ext['pd_vint_lookup_key'] = df_PD_vint_ext['pd_vint_lookup_key'].astype(str)\n",
        "df_forecast_21 = pd.merge(df_forecast_2, df_PD_age, left_on = 'forecast_mon', right_on = 'pd_age_lookup_key', how = 'left')\n",
        "df_forecast_22 = pd.merge(df_forecast_21, df_PD_ssn, left_on = 'ssn_mon', right_on = 'pd_ssn_lookup_key', how = 'left')\n",
        "df_forecast_23 = pd.merge(df_forecast_22, df_PD_vint_ext, left_on = 'OpenDt_str', right_on = 'pd_vint_lookup_key', how = 'left')\n"
      ],
      "execution_count": 0,
      "outputs": []
    },
    {
      "cell_type": "code",
      "metadata": {
        "collapsed": true,
        "id": "HqUECn62QMhA",
        "colab_type": "code",
        "colab": {}
      },
      "source": [
        "# print(df_forecast_22.pd_ssn_component)"
      ],
      "execution_count": 0,
      "outputs": []
    },
    {
      "cell_type": "code",
      "metadata": {
        "collapsed": true,
        "id": "Kll7f0vjQMhD",
        "colab_type": "code",
        "colab": {}
      },
      "source": [
        "\n",
        "df_forecast_23['age_seg_key'] = df_forecast_23['forecast_mon'].astype(str) + '-' + df_forecast_23['segment_level_0'].astype(str) + '-' + df_forecast_23['segment_level_1'].astype(str)\n",
        "df_forecast_23['vint_seg_key'] = df_forecast_23['OpenDt_str'] + '-' + df_forecast_23['segment_level_0'].astype(str) + '-' + df_forecast_23['segment_level_1'].astype(str)\n",
        "df_forecast_23['ssn_seg_key'] = df_forecast_23['ssn_mon'].astype(str) + '-' + df_forecast_23['segment_level_0'].astype(str) + '-' + df_forecast_23['segment_level_1'].astype(str)\n",
        "\n",
        "df_forecast_23['forecast_YrMo_1'] = df_forecast_23['forecast_YrMo'].dt.strftime(\"%Y\").astype(int) * 100 +df_forecast_23['forecast_YrMo'].dt.strftime(\"%m\").astype(int)\n",
        "df_forecast_23['time_seg_key'] = df_forecast_23['forecast_YrMo_1'].astype(str) + '-' + df_forecast_23['segment_level_0'].astype(str) + '-' + df_forecast_23['segment_level_1'].astype(str)\n",
        "\n",
        "\n"
      ],
      "execution_count": 0,
      "outputs": []
    },
    {
      "cell_type": "code",
      "metadata": {
        "id": "ah8-4DsvQMhJ",
        "colab_type": "code",
        "colab": {},
        "outputId": "59c89f6c-bf55-4e6d-c2ef-1f65a5bd23c2"
      },
      "source": [
        "print(df_forecast_27.loc[df_forecast_23.AcctID == 10000128 ,['forecast_YrMo','forecast_YrMo_1','age_seg_key','pa_age_component'] ])"
      ],
      "execution_count": 0,
      "outputs": [
        {
          "output_type": "stream",
          "text": [
            "   forecast_YrMo  forecast_YrMo_1 age_seg_key  pa_age_component\n",
            "59       2019-10           201910     180-0-0         -5.547172\n",
            "60       2019-11           201911     181-0-0         -5.547172\n",
            "61       2019-12           201912     182-0-0         -5.547172\n",
            "62       2020-01           202001     183-0-0         -5.547172\n",
            "63       2020-02           202002     184-0-0         -5.547172\n",
            "64       2020-03           202003     185-0-0         -5.547172\n",
            "65       2020-04           202004     186-0-0         -5.547172\n",
            "66       2020-05           202005     187-0-0         -5.547172\n",
            "67       2020-06           202006     188-0-0         -5.547172\n",
            "68       2020-07           202007     189-0-0         -5.547172\n",
            "69       2020-08           202008     190-0-0         -5.547172\n",
            "70       2020-09           202009     191-0-0         -5.547172\n",
            "71       2020-10           202010     192-0-0         -5.547172\n"
          ],
          "name": "stdout"
        }
      ]
    },
    {
      "cell_type": "code",
      "metadata": {
        "collapsed": true,
        "id": "9NLrBVurQMhN",
        "colab_type": "code",
        "colab": {}
      },
      "source": [
        "df_forecast_24 = pd.merge(df_forecast_23, df_PA_age, left_on = 'age_seg_key', right_on = '_name_', how = 'left')\n",
        "df_forecast_25 = pd.merge(df_forecast_24, df_PA_ssn, left_on = 'ssn_seg_key', right_on = '_name_', how = 'left')\n",
        "df_forecast_26 = pd.merge(df_forecast_25, df_PA_vint_ext, left_on = 'vint_seg_key', right_on = '_name_', how = 'left')\n",
        "df_forecast_27 = pd.merge(df_forecast_26, df_PA_time, left_on = 'time_seg_key', right_on = '_name_', how = 'left')\n",
        "# test = df_forecast_27.loc[df_forecast_27['AcctID'] == 100000170, ['AcctID','pa_time_component','vint_seg_key','Vintage_YrMo','pa_vintage_component','pa_ssn_component','pa_age_component']]"
      ],
      "execution_count": 0,
      "outputs": []
    },
    {
      "cell_type": "code",
      "metadata": {
        "id": "2aYdhDuUQMhQ",
        "colab_type": "code",
        "colab": {},
        "outputId": "18920257-f490-4339-f001-81915c43a13f"
      },
      "source": [
        "print(df_PA_age.loc[df_PA_age['_name_'] == '177-0-0',])"
      ],
      "execution_count": 0,
      "outputs": [
        {
          "output_type": "stream",
          "text": [
            "     pa_age_component   _name_\n",
            "176         -5.547172  177-0-0\n"
          ],
          "name": "stdout"
        }
      ]
    },
    {
      "cell_type": "markdown",
      "metadata": {
        "id": "f1CgxRxwQMhX",
        "colab_type": "text"
      },
      "source": [
        "#### calculation for PD and PA"
      ]
    },
    {
      "cell_type": "code",
      "metadata": {
        "collapsed": true,
        "id": "dGmJGuLmQMhY",
        "colab_type": "code",
        "colab": {}
      },
      "source": [
        "df_forecast_27['PA'] = np.exp(df_forecast_27['pa_age_component'] + df_forecast_27['pa_vint_component'] + df_forecast_27['pa_time_component'] + df_forecast_27['pa_ssn_component'])/(1 + np.exp(df_forecast_27['pa_age_component'] + df_forecast_27['pa_vint_component'] + df_forecast_27['pa_time_component'] + df_forecast_27['pa_ssn_component']))"
      ],
      "execution_count": 0,
      "outputs": []
    },
    {
      "cell_type": "code",
      "metadata": {
        "collapsed": true,
        "id": "m4SAu6agQMhk",
        "colab_type": "code",
        "colab": {}
      },
      "source": [
        "df_forecast_27['pd_time_component'] = 0.159128755 + (-2.571780307) * df_forecast_27['gspTX_22m_LogRatio_3m_lag'] + 0.047804409\\\n",
        "* df_forecast_27['itbyBAA_24m_Diff_12m_lag']\n",
        "df_forecast_27['PD'] = np.exp(df_forecast_27['pd_age_component'] + df_forecast_27['pd_vintage_component'] + df_forecast_27['pd_time_component'] + df_forecast_27['pd_ssn_component'])/\\\n",
        "(1 + np.exp(df_forecast_27['pd_age_component'] + df_forecast_27['pd_vintage_component'] + df_forecast_27['pd_time_component'] + df_forecast_27['pd_ssn_component']))"
      ],
      "execution_count": 0,
      "outputs": []
    },
    {
      "cell_type": "code",
      "metadata": {
        "collapsed": true,
        "id": "IeOWyddvQMhq",
        "colab_type": "code",
        "colab": {}
      },
      "source": [
        "# print(df_forecast_27.loc[df_forecast_27['itbyBAA_24m_Diff_12m_lag'].notnull(),])"
      ],
      "execution_count": 0,
      "outputs": []
    },
    {
      "cell_type": "code",
      "metadata": {
        "collapsed": true,
        "id": "8pzG0GGMQMh0",
        "colab_type": "code",
        "colab": {}
      },
      "source": [
        "# df_forecast_Naz = df_forecast_27[['AcctID', 'OpenDt_yrMo', 'RevovleIn', 'segment_level_0', '']]\n",
        "# df_forecast_27.to_csv('C:\\\\Users\\\\Hu09559\\\\Documents\\\\Consumer\\\\Reserve Forecast\\\\CompareResults_withNaz20190918.csv')"
      ],
      "execution_count": 0,
      "outputs": []
    },
    {
      "cell_type": "markdown",
      "metadata": {
        "id": "1A3vRSwOQMh9",
        "colab_type": "text"
      },
      "source": [
        "#### upload the the ccf file"
      ]
    },
    {
      "cell_type": "code",
      "metadata": {
        "id": "-zVtMIp-QMh-",
        "colab_type": "code",
        "colab": {},
        "outputId": "6e850d1d-7581-4c83-f72b-f2b3ab0fbf30"
      },
      "source": [
        "df_forecast_27['ProdCd_recovery'] = df_forecast_27['ProdCd_YrMo']\n",
        "df_forecast_27.loc[~df_forecast_27['ProdCd_YrMo'].isin(['AUC','AUN','AUU','DEP','PLC','PLU','REC','TRB','UNS']), 'ProdCd_recovery'] = 'Other'\n",
        "print(df_forecast_27.ProdCd_recovery.unique())\n",
        "df_recovery = pd.read_excel(\"W:\\\\Corporate\\\\20368\\\\DFAST_Enterprise_Credit_Loss_Stress_Testing_Models\\\\Consumer Models\\\\SAS_MIP\\\\ConsumerOther\\\\Documentation\\\\ConsumerOther_Models_forSAS_MIP_20190521.xlsx\",\n",
        "                           sheetname='LGD_recovery_table')\n",
        "print(df_recovery)\n",
        "df_forecast_271 = pd.merge(df_forecast_27, df_recovery, left_on = 'ProdCd_recovery', right_on = 'ProdCd_YrMo', how = 'left')\n",
        "# print(df_ccf)\n",
        "\n",
        "# df_ccf = pd.read_excel(\"W:\\\\Corporate\\\\20368\\\\DFAST_Enterprise_Credit_Loss_Stress_Testing_Models\\\\Consumer Models\\\\SAS_MIP\\\\ConsumerOther\\\\Documentation\\\\ConsumerOther_Models_forSAS_MIP_20190521.xlsx\",\n",
        "#                            sheetname='Utilization_table')\n",
        "# df_ccf.rename(columns = {'Utilization_Rate':'ccf'}, inplace = True)\n",
        "# print(df_ccf)\n",
        "\n",
        "# df_forecast_28 = pd.merge(df_forecast_271, df_ccf,  left_on = 'forecast_mon', right_on = 'Age_mon', how = 'left')\n",
        "df_forecast_28 = df_forecast_271"
      ],
      "execution_count": 0,
      "outputs": [
        {
          "output_type": "stream",
          "text": [
            "['PLU' 'PLC' 'DEP' 'UNS' 'TRB' 'REC' 'AUU' 'AUN' 'Other' 'AUC']\n",
            "  ProdCd_YrMo  Recovery\n",
            "0         AUC  0.175128\n",
            "1         AUN  0.329974\n",
            "2         AUU  0.183022\n",
            "3         DEP  0.209876\n",
            "4       Other  0.148290\n",
            "5         PLC  0.106800\n",
            "6         PLU  0.263097\n",
            "7         REC  0.173711\n",
            "8         TRB  0.853274\n",
            "9         UNS  0.357557\n"
          ],
          "name": "stdout"
        }
      ]
    },
    {
      "cell_type": "code",
      "metadata": {
        "id": "N37dzQntQMiC",
        "colab_type": "code",
        "colab": {},
        "outputId": "877861c3-896f-490b-9f3d-2725e884989c"
      },
      "source": [
        "# print(df_forecast_28.loc[df_forecast_28['ProdCd_recovery'] == 'Other',])\n",
        "print(df_forecast_28.columns)"
      ],
      "execution_count": 0,
      "outputs": [
        {
          "output_type": "stream",
          "text": [
            "Index(['index', 'AcctID', 'INSTID', 'ProdCd_YrMo_x', 'EOMOpenDt_YrMo',\n",
            "       'OpenDt_str', 'EOMMaturityDt_YrMo', 'MaturityDate_mon', 'Term_Origin',\n",
            "       'EFFECTIVE_INTEREST_RT', 'RevolveIn', 'segment_level_0',\n",
            "       'segment_level_1', 'segment_level_s', 'vintage_year', 'IntRt_flag_GE15',\n",
            "       'utilization_rate', 'PMT_L6MO', 'Age_mon', 'OpenDt_Dt', 'OpenDt_YrMo',\n",
            "       'Vintage_Days', 'MaturityDate_dt', 'NetGLOutstandingBalance',\n",
            "       'OpenAmt_YrMo', 'PrinPayment_L6mon', 'UNPAID_BALANCE_AMT',\n",
            "       'OFF_BALANCE_AMT', 'DAYS_PAST_DUE_CNT', 'RiskCd', 'EOMChrgOffDt',\n",
            "       'forecast_YrMo', 'forecast_mon', 'ssn_mon', 'DATE', 'gspTX', 'itbyBAA',\n",
            "       'byAAA', 'gspTX_22m_LogRatio_3m_lag',\n",
            "       'gspTX_12m_LogRatio_7m_change_11m_lag', 'itbyBAA_24m_Diff_12m_lag',\n",
            "       'byAAA_9m_lag', 'pd_age_component', 'pd_age_lookup_key',\n",
            "       'pd_ssn_lookup_key', 'pd_ssn_component', 'pd_vint_lookup_key',\n",
            "       'pd_vintage_component', 'age_seg_key', 'vint_seg_key', 'ssn_seg_key',\n",
            "       'forecast_YrMo_1', 'time_seg_key', 'pa_age_component', '_name__x',\n",
            "       'pa_ssn_component', '_name__y', '_name__x', 'pa_vint_component',\n",
            "       'pa_time_component', '_name__y', 'PA', 'pd_time_component', 'PD',\n",
            "       'ProdCd_recovery', 'ProdCd_YrMo_y', 'Recovery', 'Intercept',\n",
            "       'ProdCd_flag_PLC', 'ProdCd_flag_PLU', 'ProdCd_flag_UNS', 'Age',\n",
            "       'Revolve_1', 'LGD', 'LGD_CGD', 'adj_PD', 'adj_PA', 'POD', 'cum_POD',\n",
            "       'POA', 'Default_ind_90d'],\n",
            "      dtype='object')\n"
          ],
          "name": "stdout"
        }
      ]
    },
    {
      "cell_type": "markdown",
      "metadata": {
        "collapsed": true,
        "id": "vPjKn2n5QMiG",
        "colab_type": "text"
      },
      "source": [
        "#### Define the variables that go into the calculation of LGD "
      ]
    },
    {
      "cell_type": "code",
      "metadata": {
        "id": "Y-W5gumPQMiI",
        "colab_type": "code",
        "colab": {},
        "outputId": "47a943ca-d231-4411-bc4f-96e14f98b191"
      },
      "source": [
        "# df_forecast_28 = pd.merge(df_forecast_27, df_ccf, left_on = 'ProdCd_recovery', right_on = 'ProdCd_YrMo', how = 'left')\n",
        "print(df_forecast_28['RevolveIn'].dtypes)\n",
        "\n",
        "\n",
        "df_forecast_28['Intercept'] = 1\n",
        "df_forecast_28['ProdCd_flag_PLC'] = 0\n",
        "df_forecast_28.loc[df_forecast_28['ProdCd_YrMo_x'] == 'PLC','ProdCd_flag_PLC'] = 1\n",
        "df_forecast_28['ProdCd_flag_PLU'] = 0\n",
        "df_forecast_28.loc[df_forecast_28['ProdCd_YrMo_x'] == 'PLU','ProdCd_flag_PLU'] = 1\n",
        "df_forecast_28['ProdCd_flag_UNS'] = 0\n",
        "df_forecast_28.loc[df_forecast_28['ProdCd_YrMo_x'] == 'UNS','ProdCd_flag_UNS'] = 1\n",
        "# data_snapshot[\"Age_mon\"] = data_snapshot['Date_mon'] - data_snapshot['OpenDt_YrMo']\n",
        "df_forecast_28['Age'] = df_forecast_28['forecast_YrMo'] - df_forecast_28['OpenDt_YrMo']\n",
        "df_forecast_28['Revolve_1'] = 1\n",
        "df_forecast_28.loc[df_forecast_28['RevolveIn'] == 0, 'Revolve_1'] = 0\n",
        "\n",
        "df_forecast_28['utilization_rate'] = df_forecast_28['UNPAID_BALANCE_AMT']/(df_forecast_28['UNPAID_BALANCE_AMT'] + df_forecast_28['OFF_BALANCE_AMT'])\n",
        "df_forecast_28.loc[(df_forecast_28['Revolve_1'] == 0) | ((df_forecast_28['UNPAID_BALANCE_AMT'] + df_forecast_28['OFF_BALANCE_AMT']) <= 0 ) , 'utilization_rate'] = 1\n",
        "\n",
        "# calculation for LGD\n",
        "df_forecast_28['LGD'] = df_forecast_28['Intercept'] *(-4.0095893) + df_forecast_28['ProdCd_flag_PLC'] * (5.6577647)\\\n",
        "+ df_forecast_28['ProdCd_flag_PLU'] * (6.6497561) + df_forecast_28['ProdCd_flag_UNS'] * (0.9895465) \\\n",
        "+ df_forecast_28['IntRt_flag_GE15'] * (2.6182774) + df_forecast_28['utilization_rate'] * (0.0163606)\\\n",
        "+ df_forecast_28['Age'] * (0.0073012) + df_forecast_28['Revolve_1'] * (0.6268364) \\\n",
        "+ df_forecast_28['byAAA_9m_lag'] * (-10.9540513) + df_forecast_28['gspTX_12m_LogRatio_7m_change_11m_lag'] * (-4.5056069)\n",
        "\n",
        "df_forecast_28['LGD_CGD'] = 1/(1 + np.exp(-df_forecast_28['LGD'].astype(float)))\n",
        "\n",
        "print(df_forecast_28.columns)\n",
        "\n"
      ],
      "execution_count": 0,
      "outputs": [
        {
          "output_type": "stream",
          "text": [
            "int64\n",
            "Index(['index', 'AcctID', 'INSTID', 'ProdCd_YrMo_x', 'EOMOpenDt_YrMo',\n",
            "       'OpenDt_str', 'EOMMaturityDt_YrMo', 'MaturityDate_mon', 'Term_Origin',\n",
            "       'EFFECTIVE_INTEREST_RT', 'RevolveIn', 'segment_level_0',\n",
            "       'segment_level_1', 'segment_level_s', 'vintage_year', 'IntRt_flag_GE15',\n",
            "       'utilization_rate', 'PMT_L6MO', 'Age_mon', 'OpenDt_Dt', 'OpenDt_YrMo',\n",
            "       'Vintage_Days', 'MaturityDate_dt', 'NetGLOutstandingBalance',\n",
            "       'OpenAmt_YrMo', 'PrinPayment_L6mon', 'UNPAID_BALANCE_AMT',\n",
            "       'OFF_BALANCE_AMT', 'DAYS_PAST_DUE_CNT', 'RiskCd', 'EOMChrgOffDt',\n",
            "       'forecast_YrMo', 'forecast_mon', 'ssn_mon', 'DATE', 'gspTX', 'itbyBAA',\n",
            "       'byAAA', 'gspTX_22m_LogRatio_3m_lag',\n",
            "       'gspTX_12m_LogRatio_7m_change_11m_lag', 'itbyBAA_24m_Diff_12m_lag',\n",
            "       'byAAA_9m_lag', 'pd_age_component', 'pd_age_lookup_key',\n",
            "       'pd_ssn_lookup_key', 'pd_ssn_component', 'pd_vint_lookup_key',\n",
            "       'pd_vintage_component', 'age_seg_key', 'vint_seg_key', 'ssn_seg_key',\n",
            "       'forecast_YrMo_1', 'time_seg_key', 'pa_age_component', '_name__x',\n",
            "       'pa_ssn_component', '_name__y', '_name__x', 'pa_vint_component',\n",
            "       'pa_time_component', '_name__y', 'PA', 'pd_time_component', 'PD',\n",
            "       'ProdCd_recovery', 'ProdCd_YrMo_y', 'Recovery', 'Intercept',\n",
            "       'ProdCd_flag_PLC', 'ProdCd_flag_PLU', 'ProdCd_flag_UNS', 'Age',\n",
            "       'Revolve_1', 'LGD', 'LGD_CGD'],\n",
            "      dtype='object')\n"
          ],
          "name": "stdout"
        }
      ]
    },
    {
      "cell_type": "code",
      "metadata": {
        "id": "T_7PTIHqQMiL",
        "colab_type": "code",
        "colab": {},
        "outputId": "8c24a64d-3675-4d4b-a19b-999423145130"
      },
      "source": [
        "print(df_forecast_28['LGD_CGD'])"
      ],
      "execution_count": 0,
      "outputs": [
        {
          "output_type": "stream",
          "text": [
            "0          1.101544e-20\n",
            "1          5.295678e-20\n",
            "2          1.364407e-19\n",
            "3          2.470574e-19\n",
            "4          5.289467e-19\n",
            "5          1.844803e-18\n",
            "6          5.023062e-17\n",
            "7          1.257936e-16\n",
            "8          2.474669e-17\n",
            "9          1.151290e-18\n",
            "10         7.511905e-20\n",
            "11         2.607416e-20\n",
            "12         4.889174e-20\n",
            "13         3.034726e-19\n",
            "14         4.204374e-18\n",
            "15         8.610921e-17\n",
            "16         1.633934e-15\n",
            "17         1.980156e-14\n",
            "18         1.418024e-13\n",
            "19         6.332126e-13\n",
            "20         1.701343e-12\n",
            "21         2.961377e-12\n",
            "22         3.398560e-12\n",
            "23         2.735350e-12\n",
            "24         1.862120e-12\n",
            "25         1.383740e-12\n",
            "26         1.256603e-12\n",
            "27         1.241825e-12\n",
            "28         1.022011e-12\n",
            "29         5.998863e-13\n",
            "               ...     \n",
            "3622567    3.076332e-12\n",
            "3622568    3.728189e-11\n",
            "3622569    2.669821e-10\n",
            "3622570    1.192197e-09\n",
            "3622571    3.203248e-09\n",
            "3622572    5.575608e-09\n",
            "3622573    6.398727e-09\n",
            "3622574    1.753357e-17\n",
            "3622575    8.429274e-17\n",
            "3622576    2.171764e-16\n",
            "3622577    3.932479e-16\n",
            "3622578    8.419388e-16\n",
            "3622579    2.936423e-15\n",
            "3622580    7.995344e-14\n",
            "3622581    2.002292e-13\n",
            "3622582    3.938997e-14\n",
            "3622583    1.832540e-15\n",
            "3622584    1.195690e-16\n",
            "3622585    4.150294e-17\n",
            "3622586    7.782231e-17\n",
            "3622587    4.830456e-16\n",
            "3622588    6.692216e-15\n",
            "3622589    1.370624e-13\n",
            "3622590    2.600777e-12\n",
            "3622591    3.151867e-11\n",
            "3622592    2.257107e-10\n",
            "3622593    1.007902e-09\n",
            "3622594    2.708074e-09\n",
            "3622595    4.713703e-09\n",
            "3622596    5.409580e-09\n",
            "Name: LGD_CGD, Length: 3622597, dtype: float64\n"
          ],
          "name": "stdout"
        }
      ]
    },
    {
      "cell_type": "code",
      "metadata": {
        "collapsed": true,
        "id": "IY7z0u5LQMiN",
        "colab_type": "code",
        "colab": {}
      },
      "source": [
        "#df_forecast_28.to_csv('C:\\\\Users\\\\Hu09559\\\\Documents\\\\Consumer\\\\Reserve Forecast\\\\CompareResults_withNaz20190920.csv')"
      ],
      "execution_count": 0,
      "outputs": []
    },
    {
      "cell_type": "code",
      "metadata": {
        "id": "dNl1hBI5QMiQ",
        "colab_type": "code",
        "colab": {},
        "outputId": "1cb490e4-7001-4557-8b7c-b5609db0f77a"
      },
      "source": [
        "print(df_forecast_28[['AcctID','forecast_YrMo','Intercept','ProdCd_flag_PLC','ProdCd_flag_PLU','ProdCd_flag_UNS','IntRt_flag_GE15','utilization_rate','gspTX_12m_LogRatio_7m_change_11m_lag', 'byAAA_9m_lag','Age','Revolve_1','PD','LGD_CGD'] ])"
      ],
      "execution_count": 0,
      "outputs": [
        {
          "output_type": "stream",
          "text": [
            "            AcctID forecast_YrMo  Intercept  ProdCd_flag_PLC  ProdCd_flag_PLU  \\\n",
            "0        100000158       2019-10          1                0                0   \n",
            "1        100000158       2019-11          1                0                0   \n",
            "2        100000158       2019-12          1                0                0   \n",
            "3        100000158       2020-01          1                0                0   \n",
            "4        100000158       2020-02          1                0                0   \n",
            "5        100000158       2020-03          1                0                0   \n",
            "6        100000158       2020-04          1                0                0   \n",
            "7        100000158       2020-05          1                0                0   \n",
            "8        100000158       2020-06          1                0                0   \n",
            "9        100000158       2020-07          1                0                0   \n",
            "10       100000158       2020-08          1                0                0   \n",
            "11       100000158       2020-09          1                0                0   \n",
            "12       100000158       2020-10          1                0                0   \n",
            "13       100000158       2020-11          1                0                0   \n",
            "14       100000158       2020-12          1                0                0   \n",
            "15       100000158       2021-01          1                0                0   \n",
            "16       100000158       2021-02          1                0                0   \n",
            "17       100000158       2021-03          1                0                0   \n",
            "18       100000158       2021-04          1                0                0   \n",
            "19       100000158       2021-05          1                0                0   \n",
            "20       100000158       2021-06          1                0                0   \n",
            "21       100000158       2021-07          1                0                0   \n",
            "22       100000158       2021-08          1                0                0   \n",
            "23       100000158       2021-09          1                0                0   \n",
            "24       100000158       2021-10          1                0                0   \n",
            "25       100000158       2021-11          1                0                0   \n",
            "26       100000158       2021-12          1                0                0   \n",
            "27       100000158       2022-01          1                0                0   \n",
            "28       100000158       2022-02          1                0                0   \n",
            "29       100000158       2022-03          1                0                0   \n",
            "...            ...           ...        ...              ...              ...   \n",
            "3622567       9945       2021-02          1                0                1   \n",
            "3622568       9945       2021-03          1                0                1   \n",
            "3622569       9945       2021-04          1                0                1   \n",
            "3622570       9945       2021-05          1                0                1   \n",
            "3622571       9945       2021-06          1                0                1   \n",
            "3622572       9945       2021-07          1                0                1   \n",
            "3622573       9945       2021-08          1                0                1   \n",
            "3622574       9996       2019-10          1                0                1   \n",
            "3622575       9996       2019-11          1                0                1   \n",
            "3622576       9996       2019-12          1                0                1   \n",
            "3622577       9996       2020-01          1                0                1   \n",
            "3622578       9996       2020-02          1                0                1   \n",
            "3622579       9996       2020-03          1                0                1   \n",
            "3622580       9996       2020-04          1                0                1   \n",
            "3622581       9996       2020-05          1                0                1   \n",
            "3622582       9996       2020-06          1                0                1   \n",
            "3622583       9996       2020-07          1                0                1   \n",
            "3622584       9996       2020-08          1                0                1   \n",
            "3622585       9996       2020-09          1                0                1   \n",
            "3622586       9996       2020-10          1                0                1   \n",
            "3622587       9996       2020-11          1                0                1   \n",
            "3622588       9996       2020-12          1                0                1   \n",
            "3622589       9996       2021-01          1                0                1   \n",
            "3622590       9996       2021-02          1                0                1   \n",
            "3622591       9996       2021-03          1                0                1   \n",
            "3622592       9996       2021-04          1                0                1   \n",
            "3622593       9996       2021-05          1                0                1   \n",
            "3622594       9996       2021-06          1                0                1   \n",
            "3622595       9996       2021-07          1                0                1   \n",
            "3622596       9996       2021-08          1                0                1   \n",
            "\n",
            "         ProdCd_flag_UNS  IntRt_flag_GE15  utilization_rate  \\\n",
            "0                      0                0               0.0   \n",
            "1                      0                0               0.0   \n",
            "2                      0                0               0.0   \n",
            "3                      0                0               0.0   \n",
            "4                      0                0               0.0   \n",
            "5                      0                0               0.0   \n",
            "6                      0                0               0.0   \n",
            "7                      0                0               0.0   \n",
            "8                      0                0               0.0   \n",
            "9                      0                0               0.0   \n",
            "10                     0                0               0.0   \n",
            "11                     0                0               0.0   \n",
            "12                     0                0               0.0   \n",
            "13                     0                0               0.0   \n",
            "14                     0                0               0.0   \n",
            "15                     0                0               0.0   \n",
            "16                     0                0               0.0   \n",
            "17                     0                0               0.0   \n",
            "18                     0                0               0.0   \n",
            "19                     0                0               0.0   \n",
            "20                     0                0               0.0   \n",
            "21                     0                0               0.0   \n",
            "22                     0                0               0.0   \n",
            "23                     0                0               0.0   \n",
            "24                     0                0               0.0   \n",
            "25                     0                0               0.0   \n",
            "26                     0                0               0.0   \n",
            "27                     0                0               0.0   \n",
            "28                     0                0               0.0   \n",
            "29                     0                0               0.0   \n",
            "...                  ...              ...               ...   \n",
            "3622567                0                0               0.0   \n",
            "3622568                0                0               0.0   \n",
            "3622569                0                0               0.0   \n",
            "3622570                0                0               0.0   \n",
            "3622571                0                0               0.0   \n",
            "3622572                0                0               0.0   \n",
            "3622573                0                0               0.0   \n",
            "3622574                0                0               0.0   \n",
            "3622575                0                0               0.0   \n",
            "3622576                0                0               0.0   \n",
            "3622577                0                0               0.0   \n",
            "3622578                0                0               0.0   \n",
            "3622579                0                0               0.0   \n",
            "3622580                0                0               0.0   \n",
            "3622581                0                0               0.0   \n",
            "3622582                0                0               0.0   \n",
            "3622583                0                0               0.0   \n",
            "3622584                0                0               0.0   \n",
            "3622585                0                0               0.0   \n",
            "3622586                0                0               0.0   \n",
            "3622587                0                0               0.0   \n",
            "3622588                0                0               0.0   \n",
            "3622589                0                0               0.0   \n",
            "3622590                0                0               0.0   \n",
            "3622591                0                0               0.0   \n",
            "3622592                0                0               0.0   \n",
            "3622593                0                0               0.0   \n",
            "3622594                0                0               0.0   \n",
            "3622595                0                0               0.0   \n",
            "3622596                0                0               0.0   \n",
            "\n",
            "         gspTX_12m_LogRatio_7m_change_11m_lag  byAAA_9m_lag  Age  Revolve_1  \\\n",
            "0                                   -0.000427        3.9506   96          1   \n",
            "1                                   -0.008877        3.8114   97          1   \n",
            "2                                   -0.016978        3.7290   98          1   \n",
            "3                                   -0.023385        3.6781   99          1   \n",
            "4                                   -0.028563        3.6114  100          1   \n",
            "5                                   -0.033127        3.4999  101          1   \n",
            "6                                   -0.035753        3.2000  102          1   \n",
            "7                                   -0.035120        3.1166  103          1   \n",
            "8                                   -0.036821        3.2664  104          1   \n",
            "9                                   -0.037239        3.5473  105          1   \n",
            "10                                  -0.040036        3.7983  106          1   \n",
            "11                                  -0.044257        3.8973  107          1   \n",
            "12                                  -0.047477        3.8419  108          1   \n",
            "13                                  -0.048452        3.6763  109          1   \n",
            "14                                  -0.048935        3.4372  110          1   \n",
            "15                                  -0.045249        3.1607  111          1   \n",
            "16                                  -0.043822        2.8921  112          1   \n",
            "17                                  -0.042077        2.6643  113          1   \n",
            "18                                  -0.039535        2.4842  114          1   \n",
            "19                                  -0.037196        2.3473  115          1   \n",
            "20                                  -0.031268        2.2553  116          1   \n",
            "21                                  -0.026479        2.2034  117          1   \n",
            "22                                  -0.019438        2.1886  118          1   \n",
            "23                                  -0.008777        2.2047  119          1   \n",
            "24                                   0.004040        2.2352  120          1   \n",
            "25                                   0.016373        2.2579  121          1   \n",
            "26                                   0.026985        2.2630  122          1   \n",
            "27                                   0.030745        2.2632  123          1   \n",
            "28                                   0.034758        2.2800  124          1   \n",
            "29                                   0.038174        2.3279  125          1   \n",
            "...                                       ...           ...  ...        ...   \n",
            "3622567                             -0.043822        2.8921  234          1   \n",
            "3622568                             -0.042077        2.6643  235          1   \n",
            "3622569                             -0.039535        2.4842  236          1   \n",
            "3622570                             -0.037196        2.3473  237          1   \n",
            "3622571                             -0.031268        2.2553  238          1   \n",
            "3622572                             -0.026479        2.2034  239          1   \n",
            "3622573                             -0.019438        2.1886  240          1   \n",
            "3622574                             -0.000427        3.9506  195          1   \n",
            "3622575                             -0.008877        3.8114  196          1   \n",
            "3622576                             -0.016978        3.7290  197          1   \n",
            "3622577                             -0.023385        3.6781  198          1   \n",
            "3622578                             -0.028563        3.6114  199          1   \n",
            "3622579                             -0.033127        3.4999  200          1   \n",
            "3622580                             -0.035753        3.2000  201          1   \n",
            "3622581                             -0.035120        3.1166  202          1   \n",
            "3622582                             -0.036821        3.2664  203          1   \n",
            "3622583                             -0.037239        3.5473  204          1   \n",
            "3622584                             -0.040036        3.7983  205          1   \n",
            "3622585                             -0.044257        3.8973  206          1   \n",
            "3622586                             -0.047477        3.8419  207          1   \n",
            "3622587                             -0.048452        3.6763  208          1   \n",
            "3622588                             -0.048935        3.4372  209          1   \n",
            "3622589                             -0.045249        3.1607  210          1   \n",
            "3622590                             -0.043822        2.8921  211          1   \n",
            "3622591                             -0.042077        2.6643  212          1   \n",
            "3622592                             -0.039535        2.4842  213          1   \n",
            "3622593                             -0.037196        2.3473  214          1   \n",
            "3622594                             -0.031268        2.2553  215          1   \n",
            "3622595                             -0.026479        2.2034  216          1   \n",
            "3622596                             -0.019438        2.1886  217          1   \n",
            "\n",
            "               PD       LGD_CGD  \n",
            "0        0.000487  1.101544e-20  \n",
            "1        0.000586  5.295678e-20  \n",
            "2        0.000689  1.364407e-19  \n",
            "3        0.000641  2.470574e-19  \n",
            "4        0.000561  5.289467e-19  \n",
            "5        0.000566  1.844803e-18  \n",
            "6        0.000529  5.023062e-17  \n",
            "7        0.000650  1.257936e-16  \n",
            "8        0.000573  2.474669e-17  \n",
            "9        0.000629  1.151290e-18  \n",
            "10       0.000635  7.511905e-20  \n",
            "11       0.000632  2.607416e-20  \n",
            "12       0.000668  4.889174e-20  \n",
            "13       0.000837  3.034726e-19  \n",
            "14       0.000968  4.204374e-18  \n",
            "15       0.000865  8.610921e-17  \n",
            "16       0.000716  1.633934e-15  \n",
            "17       0.000676  1.980156e-14  \n",
            "18       0.000594  1.418024e-13  \n",
            "19       0.000694  6.332126e-13  \n",
            "20       0.000594  1.701343e-12  \n",
            "21       0.000638  2.961377e-12  \n",
            "22       0.000628  3.398560e-12  \n",
            "23       0.000611  2.735350e-12  \n",
            "24       0.000627  1.862120e-12  \n",
            "25       0.000763  1.383740e-12  \n",
            "26       0.000863  1.256603e-12  \n",
            "27       0.000764  1.241825e-12  \n",
            "28       0.000630  1.022011e-12  \n",
            "29       0.000594  5.998863e-13  \n",
            "...           ...           ...  \n",
            "3622567  0.001184  3.076332e-12  \n",
            "3622568  0.001119  3.728189e-11  \n",
            "3622569  0.000982  2.669821e-10  \n",
            "3622570  0.001147  1.192197e-09  \n",
            "3622571  0.000983  3.203248e-09  \n",
            "3622572  0.001056  5.575608e-09  \n",
            "3622573  0.001039  6.398727e-09  \n",
            "3622574  0.000788  1.753357e-17  \n",
            "3622575  0.000984  8.429274e-17  \n",
            "3622576  0.001156  2.171764e-16  \n",
            "3622577  0.001075  3.932479e-16  \n",
            "3622578  0.000941  8.419388e-16  \n",
            "3622579  0.000949  2.936423e-15  \n",
            "3622580  0.000889  7.995344e-14  \n",
            "3622581  0.001091  2.002292e-13  \n",
            "3622582  0.000961  3.938997e-14  \n",
            "3622583  0.001055  1.832540e-15  \n",
            "3622584  0.001065  1.195690e-16  \n",
            "3622585  0.001061  4.150294e-17  \n",
            "3622586  0.001121  7.782231e-17  \n",
            "3622587  0.001405  4.830456e-16  \n",
            "3622588  0.001624  6.692216e-15  \n",
            "3622589  0.001452  1.370624e-13  \n",
            "3622590  0.001201  2.600777e-12  \n",
            "3622591  0.001135  3.151867e-11  \n",
            "3622592  0.000997  2.257107e-10  \n",
            "3622593  0.001164  1.007902e-09  \n",
            "3622594  0.000998  2.708074e-09  \n",
            "3622595  0.001071  4.713703e-09  \n",
            "3622596  0.001055  5.409580e-09  \n",
            "\n",
            "[3622597 rows x 14 columns]\n"
          ],
          "name": "stdout"
        }
      ]
    },
    {
      "cell_type": "code",
      "metadata": {
        "collapsed": true,
        "id": "NkSdqMVHQMiW",
        "colab_type": "code",
        "colab": {}
      },
      "source": [
        ""
      ],
      "execution_count": 0,
      "outputs": []
    },
    {
      "cell_type": "code",
      "metadata": {
        "collapsed": true,
        "id": "XziXCCWvQMia",
        "colab_type": "code",
        "colab": {}
      },
      "source": [
        ""
      ],
      "execution_count": 0,
      "outputs": []
    },
    {
      "cell_type": "markdown",
      "metadata": {
        "id": "Cl-CpERAQMid",
        "colab_type": "text"
      },
      "source": [
        "### build the balance run down logic"
      ]
    },
    {
      "cell_type": "code",
      "metadata": {
        "id": "yNrgH_QgQMie",
        "colab_type": "code",
        "colab": {},
        "outputId": "54773d8a-1ced-4038-e325-f0187ef01a10"
      },
      "source": [
        "\n",
        "\n",
        "df_forecast_28['adj_PD'] = df_forecast_28['PD']\n",
        "df_forecast_28['adj_PA'] = df_forecast_28['PA']\n",
        "\n",
        "df_forecast_28['POD'] = df_forecast_28['adj_PD'] + df_forecast_28['adj_PA']\n",
        "df_forecast_28['cum_POD'] = df_forecast_28.groupby(['AcctID'])['POD'].cumsum()\n",
        "df_forecast_28['POA'] = 1 - df_forecast_28['cum_POD']\n",
        "\n",
        "df_forecast_28.loc[df_forecast_28['POA']<= 0, 'POA']  = 0\n",
        "df_forecast_28.loc[df_forecast_28['POA']<= 0, 'adj_PD']  = 0\n",
        "df_forecast_28.loc[df_forecast_28['POA']<= 0, 'adj_PA']  = 0\n",
        "\n",
        "df_forecast_28.loc[(df_forecast_28.groupby(['AcctID'])['POA'].shift(1) < df_forecast_28['PD'] + df_forecast_28['PA']) &\\\n",
        "                   (df_forecast_28.groupby(['AcctID'])['POA'].shift(1) >= df_forecast_28['PD']),\\\n",
        "                   'adj_PD'] = df_forecast_28['PD']\n",
        "df_forecast_28.loc[(df_forecast_28.groupby(['AcctID'])['POA'].shift(1) < df_forecast_28['PD'] + df_forecast_28['PA']) &\\\n",
        "                   (df_forecast_28.groupby(['AcctID'])['POA'].shift(1) >= df_forecast_28['PD']),\\\n",
        "                   'adj_PA'] = df_forecast_28.groupby(['AcctID'])['POA'].shift(1) - df_forecast_28['adj_PD']\n",
        "df_forecast_28.loc[(df_forecast_28.groupby(['AcctID'])['POA'].shift(1) < df_forecast_28['PD']),\\\n",
        "                   'adj_PD'] = df_forecast_28.groupby(['AcctID'])['POA'].shift(1)\n",
        "df_forecast_28.loc[(df_forecast_28.groupby(['AcctID'])['POA'].shift(1) < df_forecast_28['PD']),\\\n",
        "                   'adj_PA'] = 0\n",
        "\n",
        "\n",
        "print(df_forecast_28.loc[df_forecast_28['AcctID'] == 167102028,\\\n",
        "                         ['AcctID', 'forecast_YrMo', 'PD', 'POA','cum_POD', 'adj_PD', 'adj_PA','PA','LGD_CGD']])\n",
        "\n",
        "\n",
        "\n",
        "\n",
        "# print(df_forecast_28[['AcctID', 'POD', 'cum_POD', 'POA','adj_PD']])\n"
      ],
      "execution_count": 0,
      "outputs": [
        {
          "output_type": "stream",
          "text": [
            "           AcctID forecast_YrMo        PD       POA   cum_POD    adj_PD  \\\n",
            "256714  167102028       2019-10  0.000632  0.958380  0.041620  0.000632   \n",
            "256715  167102028       2019-11  0.000842  0.916868  0.083132  0.000842   \n",
            "256716  167102028       2019-12  0.001075  0.873505  0.126495  0.001075   \n",
            "256717  167102028       2020-01  0.001050  0.836802  0.163198  0.001050   \n",
            "256718  167102028       2020-02  0.001088  0.801540  0.198460  0.001088   \n",
            "256719  167102028       2020-03  0.001035  0.762473  0.237527  0.001035   \n",
            "256720  167102028       2020-04  0.000989  0.723110  0.276890  0.000989   \n",
            "256721  167102028       2020-05  0.001168  0.675945  0.324055  0.001168   \n",
            "256722  167102028       2020-06  0.000955  0.637120  0.362880  0.000955   \n",
            "256723  167102028       2020-07  0.001125  0.597190  0.402810  0.001125   \n",
            "256724  167102028       2020-08  0.001209  0.558313  0.441687  0.001209   \n",
            "256725  167102028       2020-09  0.001259  0.523263  0.476737  0.001259   \n",
            "256726  167102028       2020-10  0.001375  0.488445  0.511555  0.001375   \n",
            "256727  167102028       2020-11  0.001676  0.453625  0.546375  0.001676   \n",
            "256728  167102028       2020-12  0.001994  0.411983  0.588017  0.001994   \n",
            "256729  167102028       2021-01  0.001852  0.377444  0.622556  0.001852   \n",
            "256730  167102028       2021-02  0.001564  0.345223  0.654777  0.001564   \n",
            "256731  167102028       2021-03  0.001516  0.307227  0.692773  0.001516   \n",
            "256732  167102028       2021-04  0.001214  0.272969  0.727031  0.001214   \n",
            "256733  167102028       2021-05  0.001529  0.231513  0.768487  0.001529   \n",
            "256734  167102028       2021-06  0.001260  0.197470  0.802530  0.001260   \n",
            "256735  167102028       2021-07  0.001479  0.162260  0.837740  0.001479   \n",
            "256736  167102028       2021-08  0.001917  0.128686  0.871314  0.001917   \n",
            "256737  167102028       2021-09  0.001757  0.094632  0.905368  0.001757   \n",
            "256738  167102028       2021-10  0.001589  0.058808  0.941192  0.001589   \n",
            "256739  167102028       2021-11  0.001781  0.022697  0.977303  0.001781   \n",
            "256740  167102028       2021-12  0.001866  0.000000  1.019458  0.001866   \n",
            "256741  167102028       2022-01  0.001639  0.000000  1.056227  0.000000   \n",
            "256742  167102028       2022-02  0.001378  0.000000  1.092008  0.000000   \n",
            "256743  167102028       2022-03  0.001268  0.000000  1.139990  0.000000   \n",
            "256744  167102028       2022-04  0.001165  0.000000  1.196812  0.000000   \n",
            "256745  167102028       2022-05  0.001302  0.000000  1.291762  0.000000   \n",
            "256746  167102028       2022-06  0.001217  0.000000  1.347147  0.000000   \n",
            "256747  167102028       2022-07  0.001235  0.000000  1.385412  0.000000   \n",
            "256748  167102028       2022-08  0.001189  0.000000  1.419156  0.000000   \n",
            "256749  167102028       2022-09  0.000969  0.000000  1.446710  0.000000   \n",
            "256750  167102028       2022-10  0.000875  0.000000  1.474790  0.000000   \n",
            "256751  167102028       2022-11  0.000996  0.000000  1.505158  0.000000   \n",
            "256752  167102028       2022-12  0.001104  0.000000  1.541772  0.000000   \n",
            "256753  167102028       2023-01  0.000994  0.000000  1.575702  0.000000   \n",
            "256754  167102028       2023-02  0.000783  0.000000  1.607839  0.000000   \n",
            "256755  167102028       2023-03  0.000761  0.000000  1.647763  0.000000   \n",
            "256756  167102028       2023-04  0.000685  0.000000  1.696042  0.000000   \n",
            "\n",
            "          adj_PA        PA       LGD_CGD  \n",
            "256714  0.040988  0.040988  3.078409e-21  \n",
            "256715  0.040670  0.040670  1.479947e-20  \n",
            "256716  0.042289  0.042289  3.813015e-20  \n",
            "256717  0.035653  0.035653  6.904343e-20  \n",
            "256718  0.034174  0.034174  1.478211e-19  \n",
            "256719  0.038032  0.038032  5.155545e-19  \n",
            "256720  0.038373  0.038373  1.403761e-17  \n",
            "256721  0.045997  0.045997  3.515468e-17  \n",
            "256722  0.037870  0.037870  6.915787e-18  \n",
            "256723  0.038805  0.038805  3.217431e-19  \n",
            "256724  0.037668  0.037668  2.099300e-20  \n",
            "256725  0.033792  0.033792  7.286765e-21  \n",
            "256726  0.033443  0.033443  1.366344e-20  \n",
            "256727  0.033144  0.033144  8.480940e-20  \n",
            "256728  0.039648  0.039648  1.174967e-18  \n",
            "256729  0.032687  0.032687  2.406435e-17  \n",
            "256730  0.030657  0.030657  4.566243e-16  \n",
            "256731  0.036479  0.036479  5.533805e-15  \n",
            "256732  0.033044  0.033044  3.962853e-14  \n",
            "256733  0.039928  0.039928  1.769596e-13  \n",
            "256734  0.032784  0.032784  4.754627e-13  \n",
            "256735  0.033731  0.033731  8.275955e-13  \n",
            "256736  0.031657  0.031657  9.497722e-13  \n",
            "256737  0.032297  0.032297  7.644293e-13  \n",
            "256738  0.034235  0.034235  5.203937e-13  \n",
            "256739  0.034330  0.034330  3.867043e-13  \n",
            "256740  0.020831  0.040289  3.511742e-13  \n",
            "256741  0.000000  0.035130  3.470444e-13  \n",
            "256742  0.000000  0.034402  2.856144e-13  \n",
            "256743  0.000000  0.046715  1.676461e-13  \n",
            "256744  0.000000  0.055657  7.681232e-14  \n",
            "256745  0.000000  0.093648  3.221620e-14  \n",
            "256746  0.000000  0.054167  1.455340e-14  \n",
            "256747  0.000000  0.037030  7.110998e-15  \n",
            "256748  0.000000  0.032556  3.698461e-15  \n",
            "256749  0.000000  0.026584  2.032631e-15  \n",
            "256750  0.000000  0.027204  1.186924e-15  \n",
            "256751  0.000000  0.029372  7.709721e-16  \n",
            "256752  0.000000  0.035510  5.424590e-16  \n",
            "256753  0.000000  0.032937  3.857401e-16  \n",
            "256754  0.000000  0.031353  2.589720e-16  \n",
            "256755  0.000000  0.039164  1.558167e-16  \n",
            "256756  0.000000  0.047594  8.867821e-17  \n"
          ],
          "name": "stdout"
        }
      ]
    },
    {
      "cell_type": "code",
      "metadata": {
        "id": "o1pj3xLhQMig",
        "colab_type": "code",
        "colab": {},
        "outputId": "1c90d3df-73f3-4933-b904-a3a707acee15"
      },
      "source": [
        "df_forecast_sum = df_forecast_28.groupby(['forecast_YrMo'])['PD','adj_PD','PA','adj_PA','POA','LGD_CGD','utilization_rate'].apply(lambda x : x.sum())\n",
        "print(df_forecast_sum)"
      ],
      "execution_count": 0,
      "outputs": [
        {
          "output_type": "stream",
          "text": [
            "                      PD     adj_PD          PA      adj_PA           POA  \\\n",
            "forecast_YrMo                                                               \n",
            "2019-10        55.719756  55.719756  539.136887  539.136887  64019.143357   \n",
            "2019-11        69.264532  69.264532  491.447824  491.447824  62338.954423   \n",
            "2019-12        80.589802  80.589802  536.792269  536.792269  60501.604918   \n",
            "2020-01        73.190835  73.190835  487.840043  487.731778  58073.545604   \n",
            "2020-02        63.160338  63.157877  492.723871  491.940179  56462.164571   \n",
            "2020-03        61.936597  61.926165  569.233641  565.898722  54065.458013   \n",
            "2020-04        56.758576  56.744768  534.826177  529.564385  52292.793383   \n",
            "2020-05        67.092454  67.072033  510.454501  500.092094  49669.641088   \n",
            "2020-06        57.800234  57.780092  521.228829  502.379819  47921.851991   \n",
            "2020-07        60.244016  60.213489  463.737568  443.939302  45148.966796   \n",
            "2020-08        59.140834  59.103299  450.416662  425.787336  43410.775782   \n",
            "2020-09        56.103428  56.021431  409.450932  388.760679  40910.586578   \n",
            "2020-10        57.838665  57.704590  385.264487  377.375323  39449.015547   \n",
            "2020-11        69.900864  69.723124  348.169365  338.110777  37514.233081   \n",
            "2020-12        78.934051  78.594186  368.488079  351.068198  36342.049597   \n",
            "2021-01        68.124647  67.709174  330.687523  310.304967  34732.124632   \n",
            "2021-02        54.960379  54.535014  333.236064  304.608841  33710.889887   \n",
            "2021-03        49.828483  49.307744  391.035261  356.048058  31997.912533   \n",
            "2021-04        42.565128  42.084761  374.236253  328.332810  30867.285232   \n",
            "2021-05        47.276001  46.596776  355.957870  309.210058  29022.362911   \n",
            "2021-06        39.382235  38.735423  343.214115  292.459722  27949.262383   \n",
            "2021-07        40.160234  39.361963  313.773343  265.157543  26180.967889   \n",
            "2021-08        38.325488  37.419533  311.715560  258.690565  25127.187907   \n",
            "2021-09        35.342368  34.361898  276.996006  222.392359  23489.806425   \n",
            "2021-10        35.225751  34.114138  263.528197  206.399909  22651.935060   \n",
            "2021-11        41.110877  39.606982  230.201235  163.311133  21476.251418   \n",
            "2021-12        45.423589  43.519342  238.250619  156.342041  21103.028142   \n",
            "2022-01        38.924264  36.837398  221.517937  134.682458  20716.244366   \n",
            "2022-02        31.270584  29.474111  231.150613  128.381988  20419.912302   \n",
            "2022-03        28.765405  26.926162  272.315307  141.218923  20104.511438   \n",
            "...                  ...        ...         ...         ...           ...   \n",
            "2042-11         0.018058   0.000000    0.079276    0.000000      0.000000   \n",
            "2042-12         0.019767   0.000000    0.087085    0.000000      0.000000   \n",
            "2043-01         0.017931   0.000000    0.080526    0.000000      0.000000   \n",
            "2043-02         0.015201   0.000000    0.075649    0.000000      0.000000   \n",
            "2043-03         0.014714   0.000000    0.095056    0.000000      0.000000   \n",
            "2043-04         0.013119   0.000000    0.079551    0.000000      0.000000   \n",
            "2043-05         0.014766   0.000000    0.076512    0.000000      0.000000   \n",
            "2043-06         0.012055   0.000000    0.080937    0.000000      0.000000   \n",
            "2043-07         0.011820   0.000000    0.067367    0.000000      0.000000   \n",
            "2043-08         0.011714   0.000000    0.071870    0.000000      0.000000   \n",
            "2043-09         0.009775   0.000000    0.061423    0.000000      0.000000   \n",
            "2043-10         0.008941   0.000000    0.055118    0.000000      0.000000   \n",
            "2043-11         0.010984   0.000000    0.049160    0.000000      0.000000   \n",
            "2043-12         0.011849   0.000000    0.052251    0.000000      0.000000   \n",
            "2044-01         0.010746   0.000000    0.048315    0.000000      0.000000   \n",
            "2044-02         0.007895   0.000000    0.039338    0.000000      0.000000   \n",
            "2044-03         0.005877   0.000000    0.038022    0.000000      0.000000   \n",
            "2044-04         0.004715   0.000000    0.028638    0.000000      0.000000   \n",
            "2044-05         0.005527   0.000000    0.028692    0.000000      0.000000   \n",
            "2044-06         0.003661   0.000000    0.024633    0.000000      0.000000   \n",
            "2044-07         0.002246   0.000000    0.012832    0.000000      0.000000   \n",
            "2044-08         0.002226   0.000000    0.013690    0.000000      0.000000   \n",
            "2044-09         0.001084   0.000000    0.006825    0.000000      0.000000   \n",
            "2044-10         0.000558   0.000000    0.003445    0.000000      0.000000   \n",
            "2044-11         0.000685   0.000000    0.003072    0.000000      0.000000   \n",
            "2044-12         0.000789   0.000000    0.003483    0.000000      0.000000   \n",
            "2045-01         0.000715   0.000000    0.003221    0.000000      0.000000   \n",
            "2045-02         0.000606   0.000000    0.003026    0.000000      0.000000   \n",
            "2045-03         0.000586   0.000000    0.003802    0.000000      0.000000   \n",
            "2045-04         0.000523   0.000000    0.003182    0.000000      0.000000   \n",
            "\n",
            "                    LGD_CGD  utilization_rate  \n",
            "forecast_YrMo                                  \n",
            "2019-10        3.161320e-13      45810.808861  \n",
            "2019-11        1.511451e-12      45002.562998  \n",
            "2019-12        3.848675e-12      44170.249231  \n",
            "2020-01        6.478831e-12      43164.763181  \n",
            "2020-02        1.370252e-11      42436.329893  \n",
            "2020-03        4.456217e-11      41497.584332  \n",
            "2020-04        1.194769e-09      40627.247179  \n",
            "2020-05        2.703291e-09      39506.355526  \n",
            "2020-06        5.232959e-10      38615.090293  \n",
            "2020-07        2.060672e-11      37346.160307  \n",
            "2020-08        1.317378e-12      36377.396958  \n",
            "2020-09        3.905100e-13      35213.778006  \n",
            "2020-10        7.178539e-13      34381.997610  \n",
            "2020-11        3.747402e-12      33537.939603  \n",
            "2020-12        5.074161e-11      32890.689304  \n",
            "2021-01        9.225170e-10      32127.701871  \n",
            "2021-02        1.701887e-08      31570.270741  \n",
            "2021-03        1.729328e-07      30781.039200  \n",
            "2021-04        1.193333e-06      30097.518678  \n",
            "2021-05        3.924132e-06      29272.208736  \n",
            "2021-06        1.000081e-05      28607.207187  \n",
            "2021-07        1.108667e-05      27717.644292  \n",
            "2021-08        1.150113e-05      26997.714211  \n",
            "2021-09        4.583578e-06      26043.975965  \n",
            "2021-10        2.605587e-06      25490.885403  \n",
            "2021-11        2.576909e-08      24840.973961  \n",
            "2021-12        2.274041e-08      24551.885627  \n",
            "2022-01        2.194495e-08      24222.256755  \n",
            "2022-02        1.727109e-08      23993.865632  \n",
            "2022-03        9.922338e-09      23709.299657  \n",
            "...                     ...               ...  \n",
            "2042-11        9.415206e-27         26.000000  \n",
            "2042-12        8.954069e-27         25.000000  \n",
            "2043-01        8.972704e-27         25.000000  \n",
            "2043-02        9.010946e-27         25.000000  \n",
            "2043-03        9.068967e-27         25.000000  \n",
            "2043-04        9.107695e-27         25.000000  \n",
            "2043-05        8.732249e-27         24.000000  \n",
            "2043-06        8.323813e-27         23.000000  \n",
            "2043-07        7.527284e-27         21.000000  \n",
            "2043-08        7.505711e-27         21.000000  \n",
            "2043-09        6.425759e-27         18.000000  \n",
            "2043-10        5.734195e-27         16.000000  \n",
            "2043-11        5.783042e-27         16.000000  \n",
            "2043-12        5.447045e-27         15.000000  \n",
            "2044-01        5.474860e-27         15.000000  \n",
            "2044-02        4.770241e-27         13.000000  \n",
            "2044-03        3.690004e-27         10.000000  \n",
            "2044-04        3.354915e-27          9.000000  \n",
            "2044-05        3.374825e-27          9.000000  \n",
            "2044-06        2.616617e-27          7.000000  \n",
            "2044-07        1.510998e-27          4.000000  \n",
            "2044-08        1.513480e-27          4.000000  \n",
            "2044-09        7.919736e-28          2.000000  \n",
            "2044-10        4.332966e-28          1.000000  \n",
            "2044-11        4.374458e-28          1.000000  \n",
            "2044-12        4.401557e-28          1.000000  \n",
            "2045-01        4.423437e-28          1.000000  \n",
            "2045-02        4.432059e-28          1.000000  \n",
            "2045-03        4.442625e-28          1.000000  \n",
            "2045-04        4.453032e-28          1.000000  \n",
            "\n",
            "[307 rows x 7 columns]\n"
          ],
          "name": "stdout"
        }
      ]
    },
    {
      "cell_type": "code",
      "metadata": {
        "id": "bMEAu3YcQMix",
        "colab_type": "code",
        "colab": {},
        "outputId": "ca9dbf18-7032-4190-bd2b-116049ce5cce"
      },
      "source": [
        "print(df_forecast_28.loc[(df_forecast_28.groupby(['AcctID'])['POA'].shift(1) < df_forecast_28['PD']),['AcctID','PD','POA','adj_PD']])"
      ],
      "execution_count": 0,
      "outputs": [
        {
          "output_type": "stream",
          "text": [
            "            AcctID        PD  POA  adj_PD\n",
            "10655    101201387  0.000404  0.0     0.0\n",
            "10656    101201387  0.000440  0.0     0.0\n",
            "10657    101201387  0.000441  0.0     0.0\n",
            "10658    101201387  0.000433  0.0     0.0\n",
            "10659    101201387  0.000449  0.0     0.0\n",
            "10660    101201387  0.000554  0.0     0.0\n",
            "10661    101201387  0.000640  0.0     0.0\n",
            "10662    101201387  0.000582  0.0     0.0\n",
            "10663    101201387  0.000494  0.0     0.0\n",
            "10664    101201387  0.000478  0.0     0.0\n",
            "10665    101201387  0.000427  0.0     0.0\n",
            "10666    101201387  0.000502  0.0     0.0\n",
            "10667    101201387  0.000428  0.0     0.0\n",
            "10668    101201387  0.000460  0.0     0.0\n",
            "10669    101201387  0.000456  0.0     0.0\n",
            "10670    101201387  0.000444  0.0     0.0\n",
            "10671    101201387  0.000457  0.0     0.0\n",
            "10672    101201387  0.000563  0.0     0.0\n",
            "10673    101201387  0.000649  0.0     0.0\n",
            "10674    101201387  0.000589  0.0     0.0\n",
            "10675    101201387  0.000500  0.0     0.0\n",
            "10676    101201387  0.000484  0.0     0.0\n",
            "10677    101201387  0.000432  0.0     0.0\n",
            "10678    101201387  0.000507  0.0     0.0\n",
            "10679    101201387  0.000434  0.0     0.0\n",
            "10680    101201387  0.000467  0.0     0.0\n",
            "10681    101201387  0.000465  0.0     0.0\n",
            "10682    101201387  0.000453  0.0     0.0\n",
            "10683    101201387  0.000467  0.0     0.0\n",
            "10684    101201387  0.000575  0.0     0.0\n",
            "...            ...       ...  ...     ...\n",
            "3621413   99101353  0.000437  0.0     0.0\n",
            "3621414   99101353  0.000514  0.0     0.0\n",
            "3621415   99101353  0.000438  0.0     0.0\n",
            "3621416   99101353  0.000471  0.0     0.0\n",
            "3621417   99101353  0.000467  0.0     0.0\n",
            "3621418   99101353  0.000454  0.0     0.0\n",
            "3621419   99101353  0.000468  0.0     0.0\n",
            "3621420   99101353  0.000576  0.0     0.0\n",
            "3621421   99101353  0.000664  0.0     0.0\n",
            "3621422   99101353  0.000603  0.0     0.0\n",
            "3621423   99101353  0.000512  0.0     0.0\n",
            "3621424   99101353  0.000496  0.0     0.0\n",
            "3621425   99101353  0.000442  0.0     0.0\n",
            "3621426   99101353  0.000519  0.0     0.0\n",
            "3621427   99101353  0.000444  0.0     0.0\n",
            "3621428   99101353  0.000478  0.0     0.0\n",
            "3621429   99101353  0.000476  0.0     0.0\n",
            "3621430   99101353  0.000464  0.0     0.0\n",
            "3621431   99101353  0.000478  0.0     0.0\n",
            "3621432   99101353  0.000589  0.0     0.0\n",
            "3621433   99101353  0.000680  0.0     0.0\n",
            "3621434   99101353  0.000620  0.0     0.0\n",
            "3621435   99101353  0.000529  0.0     0.0\n",
            "3621436   99101353  0.000515  0.0     0.0\n",
            "3621437   99101353  0.000461  0.0     0.0\n",
            "3621438   99101353  0.000541  0.0     0.0\n",
            "3621439   99101353  0.000462  0.0     0.0\n",
            "3621440   99101353  0.000496  0.0     0.0\n",
            "3621441   99101353  0.000492  0.0     0.0\n",
            "3621442   99101353  0.000480  0.0     0.0\n",
            "\n",
            "[100213 rows x 4 columns]\n"
          ],
          "name": "stdout"
        }
      ]
    },
    {
      "cell_type": "code",
      "metadata": {
        "id": "3Q2i6W9WQMi3",
        "colab_type": "code",
        "colab": {},
        "outputId": "8c74b858-6a6d-477a-f0af-f217bef3a22e"
      },
      "source": [
        "df_forecast_201907 = df_forecast_28.loc[df_forecast_28['index'] == '2021-Sep-30',['AcctID','forecast_YrMo','adj_PD','PD','adj_PA','PA','LGD_CGD','POA']]\n",
        "df_forecast_201907.to_csv('C:\\\\Users\\\\Hu09559\\\\Documents\\\\Consumer\\\\Reserve Forecast\\\\CompareResults_withNaz2021SeptSnapshot.csv')\n",
        "print(df_forecast_201907)\n",
        "print(df_forecast_28.forecast_YrMo)"
      ],
      "execution_count": 0,
      "outputs": [
        {
          "output_type": "stream",
          "text": [
            "           AcctID forecast_YrMo    adj_PD        PD    adj_PA        PA  \\\n",
            "3111    101201387       2021-09  0.000597  0.000597  0.018773  0.018773   \n",
            "7668    104401232       2021-09  0.000546  0.000546  0.017512  0.017512   \n",
            "8312    105103537       2021-09  0.000570  0.000570  0.016698  0.016698   \n",
            "8471    105301178       2021-09  0.000546  0.000546  0.033660  0.033660   \n",
            "8820    106003697       2021-09  0.000000  0.000574  0.000000  0.042186   \n",
            "9823    106801386       2021-09  0.000541  0.000541  0.024636  0.024636   \n",
            "10755   107502672       2021-09  0.000540  0.000540  0.027119  0.027119   \n",
            "12263    11000517       2021-09  0.001082  0.001082  0.024301  0.024301   \n",
            "13824   110801019       2021-09  0.000554  0.000554  0.031451  0.031451   \n",
            "18648   112215152       2021-09  0.000511  0.000511  0.024640  0.024640   \n",
            "19799   112401438       2021-09  0.000531  0.000531  0.020324  0.020324   \n",
            "20819   112515045       2021-09  0.000511  0.000511  0.024640  0.024640   \n",
            "20886   112516275       2021-09  0.000535  0.000535  0.022982  0.022982   \n",
            "21621   112710363       2021-09  0.000497  0.000497  0.030029  0.030029   \n",
            "21890   112713989       2021-09  0.000500  0.000500  0.019617  0.019617   \n",
            "23477   113011589       2021-09  0.000000  0.000518  0.000000  0.035823   \n",
            "24186   113205527       2021-09  0.000555  0.000555  0.014490  0.014490   \n",
            "24277   113206965       2021-09  0.000562  0.000562  0.015091  0.015091   \n",
            "25320   113401337       2021-09  0.000531  0.000531  0.020324  0.020324   \n",
            "25366   113401432       2021-09  0.000531  0.000531  0.020324  0.020324   \n",
            "25645   113410073       2021-09  0.000497  0.000497  0.030029  0.030029   \n",
            "27436   113714008       2021-09  0.000500  0.000500  0.019617  0.019617   \n",
            "29351   114015279       2021-09  0.000511  0.000511  0.024640  0.024640   \n",
            "30586   114300266       2021-09  0.000554  0.000554  0.031451  0.031451   \n",
            "31167   114314783       2021-09  0.000500  0.000500  0.019617  0.019617   \n",
            "31663   114413959       2021-09  0.000500  0.000500  0.019617  0.019617   \n",
            "33043   119600269       2021-09  0.000569  0.000569  0.029003  0.029003   \n",
            "34067   120305844       2021-09  0.000735  0.000735  0.019124  0.019124   \n",
            "34359   120400180       2021-09  0.000569  0.000569  0.029003  0.029003   \n",
            "35947   120802903       2021-09  0.000691  0.000691  0.028412  0.028412   \n",
            "...           ...           ...       ...       ...       ...       ...   \n",
            "335416   31010115       2021-09  0.000830  0.000830  0.016072  0.016072   \n",
            "335560   31013278       2021-09  0.000830  0.000830  0.016072  0.016072   \n",
            "342527   41141590       2021-09  0.000727  0.000727  0.017922  0.017922   \n",
            "345368   42203152       2021-09  0.000813  0.000813  0.015281  0.015281   \n",
            "351255   52200125       2021-09  0.000758  0.000758  0.035564  0.035564   \n",
            "357920   60701771       2021-09  0.000566  0.000566  0.021205  0.021205   \n",
            "365568   68305254       2021-09  0.000578  0.000578  0.015840  0.015840   \n",
            "366827   69200560       2021-09  0.000540  0.000540  0.013775  0.013775   \n",
            "367001   69300709       2021-09  0.000551  0.000551  0.012523  0.012523   \n",
            "372781   71701424       2021-09  0.000537  0.000537  0.017498  0.017498   \n",
            "374498   74600224       2021-09  0.000567  0.000567  0.030748  0.030748   \n",
            "375912   77400569       2021-09  0.000583  0.000583  0.016642  0.016642   \n",
            "382240   82301051       2021-09  0.000448  0.000448  0.024579  0.024579   \n",
            "382326   82301732       2021-09  0.000448  0.000448  0.024579  0.024579   \n",
            "383036   82700963       2021-09  0.000423  0.000423  0.020434  0.020434   \n",
            "383249   82900746       2021-09  0.000423  0.000423  0.020434  0.020434   \n",
            "383633   83500351       2021-09  0.000448  0.000448  0.024579  0.024579   \n",
            "383927   83801127       2021-09  0.000423  0.000423  0.020434  0.020434   \n",
            "385542   84204407       2021-09  0.000511  0.000511  0.031427  0.031427   \n",
            "387018   85200682       2021-09  0.000489  0.000489  0.016412  0.016412   \n",
            "387638   85800130       2021-09  0.000419  0.000419  0.015910  0.032364   \n",
            "387974   85801556       2021-09  0.000489  0.000489  0.028859  0.028859   \n",
            "388311   85900511       2021-09  0.000441  0.000441  0.018192  0.018192   \n",
            "389561   88187382       2021-09  0.000546  0.000546  0.031157  0.031157   \n",
            "390076   88287492       2021-09  0.000542  0.000542  0.031012  0.031012   \n",
            "391626   88880561       2021-09  0.000487  0.000487  0.014885  0.014885   \n",
            "392588   89231394       2021-09  0.001863  0.001863  0.022937  0.022937   \n",
            "392655   89275951       2021-09  0.000473  0.000473  0.015732  0.015732   \n",
            "393324   89575426       2021-09  0.000473  0.000473  0.031825  0.031825   \n",
            "401365   99101353       2021-09  0.000611  0.000611  0.018414  0.018414   \n",
            "\n",
            "             LGD_CGD       POA  \n",
            "3111    3.967074e-12  0.400169  \n",
            "7668    3.881126e-12  0.439945  \n",
            "8312    3.852892e-12  0.463279  \n",
            "8471    1.442790e-12  0.057946  \n",
            "8820    1.391069e-12  0.000000  \n",
            "9823    1.411531e-12  0.391726  \n",
            "10755   3.769417e-12  0.147346  \n",
            "12263   2.723133e-12  0.285416  \n",
            "13824   1.380950e-12  0.141101  \n",
            "18648   3.378401e-12  0.284438  \n",
            "19799   3.687751e-12  0.351373  \n",
            "20819   3.378401e-12  0.284438  \n",
            "20886   3.353824e-12  0.344821  \n",
            "21621   1.293124e-12  0.195559  \n",
            "21890   3.403157e-12  0.342927  \n",
            "23477   3.453216e-12  0.000000  \n",
            "24186   4.911131e-11  0.534330  \n",
            "24277   3.555554e-12  0.514213  \n",
            "25320   3.687751e-12  0.351373  \n",
            "25366   3.687751e-12  0.351373  \n",
            "25645   1.293124e-12  0.195559  \n",
            "27436   3.403157e-12  0.342927  \n",
            "29351   3.378401e-12  0.284438  \n",
            "30586   1.380950e-12  0.141101  \n",
            "31167   3.403157e-12  0.342927  \n",
            "31663   4.666437e-11  0.342927  \n",
            "33043   1.237698e-12  0.197226  \n",
            "34067   3.095000e-12  0.101878  \n",
            "34359   1.237698e-12  0.197226  \n",
            "35947   1.202074e-12  0.118534  \n",
            "...              ...       ...  \n",
            "335416  5.841528e-12  0.476255  \n",
            "335560  5.841528e-12  0.476255  \n",
            "342527  5.632123e-12  0.421719  \n",
            "345368  5.470016e-12  0.501301  \n",
            "351255  2.003975e-12  0.010734  \n",
            "357920  5.122132e-12  0.324437  \n",
            "365568  4.938516e-12  0.490485  \n",
            "366827  5.011159e-12  0.555698  \n",
            "367001  4.974705e-12  0.594315  \n",
            "372781  4.796373e-12  0.440175  \n",
            "374498  1.757181e-12  0.118481  \n",
            "375912  4.658322e-12  0.465475  \n",
            "382240  1.681866e-12  0.295288  \n",
            "382326  1.681866e-12  0.295288  \n",
            "383036  4.491331e-12  0.352288  \n",
            "383249  4.491331e-12  0.352288  \n",
            "383633  1.681866e-12  0.295288  \n",
            "383927  4.491331e-12  0.352288  \n",
            "385542  1.621575e-12  0.100959  \n",
            "387018  4.394025e-12  0.475228  \n",
            "387638  4.458659e-12  0.000000  \n",
            "387974  1.633458e-12  0.173765  \n",
            "388311  4.426224e-12  0.421309  \n",
            "389561  4.114572e-12  0.017237  \n",
            "390076  1.518445e-12  0.111475  \n",
            "391626  4.175095e-12  0.522661  \n",
            "392588  2.041367e-12  0.154848  \n",
            "392655  4.236509e-12  0.496774  \n",
            "393324  1.574902e-12  0.090815  \n",
            "401365  3.996144e-12  0.406524  \n",
            "\n",
            "[2624 rows x 8 columns]\n",
            "0        2019-07\n",
            "1        2019-08\n",
            "2        2019-09\n",
            "3        2019-10\n",
            "4        2019-07\n",
            "5        2019-08\n",
            "6        2019-09\n",
            "7        2019-10\n",
            "8        2019-11\n",
            "9        2019-12\n",
            "10       2020-01\n",
            "11       2020-02\n",
            "12       2020-03\n",
            "13       2019-07\n",
            "14       2019-08\n",
            "15       2019-09\n",
            "16       2019-10\n",
            "17       2019-07\n",
            "18       2019-08\n",
            "19       2019-09\n",
            "20       2019-10\n",
            "21       2019-11\n",
            "22       2019-12\n",
            "23       2019-07\n",
            "24       2019-08\n",
            "25       2019-09\n",
            "26       2019-10\n",
            "27       2019-11\n",
            "28       2019-12\n",
            "29       2020-01\n",
            "           ...  \n",
            "401405   2020-10\n",
            "401406   2020-11\n",
            "401407   2020-12\n",
            "401408   2021-01\n",
            "401409   2021-02\n",
            "401410   2021-03\n",
            "401411   2021-04\n",
            "401412   2021-05\n",
            "401413   2019-07\n",
            "401414   2019-08\n",
            "401415   2019-09\n",
            "401416   2019-10\n",
            "401417   2019-11\n",
            "401418   2019-12\n",
            "401419   2020-01\n",
            "401420   2020-02\n",
            "401421   2020-03\n",
            "401422   2020-04\n",
            "401423   2020-05\n",
            "401424   2020-06\n",
            "401425   2020-07\n",
            "401426   2020-08\n",
            "401427   2020-09\n",
            "401428   2020-10\n",
            "401429   2020-11\n",
            "401430   2020-12\n",
            "401431   2019-07\n",
            "401432   2019-08\n",
            "401433   2019-07\n",
            "401434   2019-08\n",
            "Name: forecast_YrMo, Length: 401435, dtype: object\n"
          ],
          "name": "stdout"
        }
      ]
    },
    {
      "cell_type": "code",
      "metadata": {
        "id": "_q7fkVunQMi8",
        "colab_type": "code",
        "colab": {}
      },
      "source": [
        "# df_forecast_sum = df_forecast_28.groupby(['forecast_YrMo'])['pd_vintage_component','pd_age_component','pd_time_component','pa_vint_component','pd_ssn_component','pa_age_component','pa_time_component','pa_ssn_component','PD','adj_PD','PA','adj_PA','POA','LGD_CGD','gspTX_12m_LogRatio_7m_change_11m_lag', 'gspTX_22m_LogRatio_3m_lag','byAAA_9m_lag','utilization_rate','Revolve_1','IntRt_flag_GE15'].apply(lambda x : x.sum())\n",
        "df_forecast_sum.to_csv('C:\\\\Users\\\\Hu09559\\\\Documents\\\\Consumer\\\\Reserve Forecast\\\\forecast_summary_2019-9-23.csv')"
      ],
      "execution_count": 0,
      "outputs": []
    },
    {
      "cell_type": "code",
      "metadata": {
        "id": "z5IjxrqfQMjA",
        "colab_type": "code",
        "colab": {},
        "outputId": "81ae93f1-3213-46c5-88f5-3a3abf12c92e"
      },
      "source": [
        "print(df_forecast_sum['LGD_CGD'])"
      ],
      "execution_count": 0,
      "outputs": [
        {
          "output_type": "stream",
          "text": [
            "forecast_YrMo\n",
            "2019-07    5.198815e-14\n",
            "2019-08    2.733558e-14\n",
            "2019-09    5.562469e-14\n",
            "2019-10    2.933380e-13\n",
            "2019-11    1.327572e-12\n",
            "2019-12    3.374490e-12\n",
            "2020-01    5.617425e-12\n",
            "2020-02    1.185537e-11\n",
            "2020-03    3.811666e-11\n",
            "2020-04    1.019173e-09\n",
            "2020-05    2.261722e-09\n",
            "2020-06    4.362235e-10\n",
            "2020-07    1.654557e-11\n",
            "2020-08    1.053907e-12\n",
            "2020-09    2.990453e-13\n",
            "2020-10    5.465914e-13\n",
            "2020-11    2.683166e-12\n",
            "2020-12    3.598342e-11\n",
            "2021-01    6.194642e-10\n",
            "2021-02    1.126128e-08\n",
            "2021-03    1.028833e-07\n",
            "2021-04    6.911931e-07\n",
            "2021-05    1.654491e-06\n",
            "2021-06    3.905449e-06\n",
            "2021-07    5.114378e-07\n",
            "2021-08    2.355734e-08\n",
            "2021-09    1.788022e-08\n",
            "2021-10    1.162800e-08\n",
            "2021-11    8.046961e-09\n",
            "2021-12    6.715951e-09\n",
            "Freq: M, Name: LGD_CGD, dtype: float64\n"
          ],
          "name": "stdout"
        }
      ]
    },
    {
      "cell_type": "markdown",
      "metadata": {
        "id": "YCsQJI3VQMjE",
        "colab_type": "text"
      },
      "source": [
        "#### construct the balances for the non-revolving loans"
      ]
    },
    {
      "cell_type": "code",
      "metadata": {
        "id": "zWgguHVOQMjI",
        "colab_type": "code",
        "colab": {},
        "outputId": "c91bc5b7-16c5-422a-8798-a72aa0264a0f"
      },
      "source": [
        "# df_forecast_281 = df_forecast_28.loc[df_forecast_28['AcctID'].isin([113011589, 175701758]) ].reset_index()\n",
        "#\n",
        "df_forecast_28['Default_ind_90d'] = 0\n",
        "df_forecast_28.loc[(df_forecast_28['DAYS_PAST_DUE_CNT'] >= 90) | (df_forecast_28['EOMChrgOffDt'].notnull()) | (df_forecast_28['RiskCd'] >=12), 'Default_ind_90d'] = 1\n",
        "df_forecast_28['Default_ind_90d'] = df_forecast_28['Default_ind_90d'].astype(int)\n",
        "df_forecast_281 = df_forecast_28.loc[df_forecast_28.Revolve_1 ==0, ['AcctID','forecast_YrMo','PrinPayment_L6mon',\\\n",
        "                                                                    'adj_PA','adj_PD','UNPAID_BALANCE_AMT','Revolve_1','Default_ind_90d']]\n",
        "print(df_forecast_28.loc[df_forecast_28['AcctID'] == 100000170,])\n",
        "print(len(df_forecast_281['AcctID'].unique()))"
      ],
      "execution_count": 0,
      "outputs": [
        {
          "output_type": "stream",
          "text": [
            "        index     AcctID     INSTID ProdCd_YrMo_x EOMOpenDt_YrMo OpenDt_str  \\\n",
            "0  2019-10-31  100000170  100000170           PLU      31OCT2011     201110   \n",
            "1  2019-11-30  100000170  100000170           PLU      31OCT2011     201110   \n",
            "2  2019-12-31  100000170  100000170           PLU      31OCT2011     201110   \n",
            "3  2020-01-31  100000170  100000170           PLU      31OCT2011     201110   \n",
            "4  2020-02-29  100000170  100000170           PLU      31OCT2011     201110   \n",
            "5  2020-03-31  100000170  100000170           PLU      31OCT2011     201110   \n",
            "6  2020-04-30  100000170  100000170           PLU      31OCT2011     201110   \n",
            "7  2020-05-31  100000170  100000170           PLU      31OCT2011     201110   \n",
            "8  2020-06-30  100000170  100000170           PLU      31OCT2011     201110   \n",
            "9  2020-07-31  100000170  100000170           PLU      31OCT2011     201110   \n",
            "10 2020-08-31  100000170  100000170           PLU      31OCT2011     201110   \n",
            "11 2020-09-30  100000170  100000170           PLU      31OCT2011     201110   \n",
            "12 2020-10-31  100000170  100000170           PLU      31OCT2011     201110   \n",
            "13 2020-11-30  100000170  100000170           PLU      31OCT2011     201110   \n",
            "14 2020-12-31  100000170  100000170           PLU      31OCT2011     201110   \n",
            "15 2021-01-31  100000170  100000170           PLU      31OCT2011     201110   \n",
            "16 2021-02-28  100000170  100000170           PLU      31OCT2011     201110   \n",
            "17 2021-03-31  100000170  100000170           PLU      31OCT2011     201110   \n",
            "18 2021-04-30  100000170  100000170           PLU      31OCT2011     201110   \n",
            "19 2021-05-31  100000170  100000170           PLU      31OCT2011     201110   \n",
            "20 2021-06-30  100000170  100000170           PLU      31OCT2011     201110   \n",
            "21 2021-07-31  100000170  100000170           PLU      31OCT2011     201110   \n",
            "22 2021-08-31  100000170  100000170           PLU      31OCT2011     201110   \n",
            "23 2021-09-30  100000170  100000170           PLU      31OCT2011     201110   \n",
            "24 2021-10-31  100000170  100000170           PLU      31OCT2011     201110   \n",
            "\n",
            "   EOMMaturityDt_YrMo MaturityDate_mon  Term_Origin  EFFECTIVE_INTEREST_RT  \\\n",
            "0           31OCT2021          2021-10         24.0                    8.0   \n",
            "1           31OCT2021          2021-10         24.0                    8.0   \n",
            "2           31OCT2021          2021-10         24.0                    8.0   \n",
            "3           31OCT2021          2021-10         24.0                    8.0   \n",
            "4           31OCT2021          2021-10         24.0                    8.0   \n",
            "5           31OCT2021          2021-10         24.0                    8.0   \n",
            "6           31OCT2021          2021-10         24.0                    8.0   \n",
            "7           31OCT2021          2021-10         24.0                    8.0   \n",
            "8           31OCT2021          2021-10         24.0                    8.0   \n",
            "9           31OCT2021          2021-10         24.0                    8.0   \n",
            "10          31OCT2021          2021-10         24.0                    8.0   \n",
            "11          31OCT2021          2021-10         24.0                    8.0   \n",
            "12          31OCT2021          2021-10         24.0                    8.0   \n",
            "13          31OCT2021          2021-10         24.0                    8.0   \n",
            "14          31OCT2021          2021-10         24.0                    8.0   \n",
            "15          31OCT2021          2021-10         24.0                    8.0   \n",
            "16          31OCT2021          2021-10         24.0                    8.0   \n",
            "17          31OCT2021          2021-10         24.0                    8.0   \n",
            "18          31OCT2021          2021-10         24.0                    8.0   \n",
            "19          31OCT2021          2021-10         24.0                    8.0   \n",
            "20          31OCT2021          2021-10         24.0                    8.0   \n",
            "21          31OCT2021          2021-10         24.0                    8.0   \n",
            "22          31OCT2021          2021-10         24.0                    8.0   \n",
            "23          31OCT2021          2021-10         24.0                    8.0   \n",
            "24          31OCT2021          2021-10         24.0                    8.0   \n",
            "\n",
            "         ...        Age  Revolve_1      LGD       LGD_CGD    adj_PD    adj_PA  \\\n",
            "0        ...         96          1 -39.3052  8.510483e-18  0.000487  0.003166   \n",
            "1        ...         97          1 -37.7351  4.091419e-17  0.000586  0.002841   \n",
            "2        ...         98          1 -36.7886  1.054136e-16  0.000689  0.003221   \n",
            "3        ...         99          1 -36.1949  1.908755e-16  0.000641  0.002978   \n",
            "4        ...        100          1 -35.4336  4.086620e-16  0.000561  0.002798   \n",
            "5        ...        101          1 -34.1844  1.425287e-15  0.000566  0.003516   \n",
            "6        ...        102          1 -30.8802  3.880797e-14  0.000529  0.002942   \n",
            "7        ...        103          1 -29.9621  9.718765e-14  0.000650  0.002948   \n",
            "8        ...        104          1 -31.5881  1.911919e-14  0.000573  0.003254   \n",
            "9        ...        105          1 -34.6559  8.894820e-16  0.000629  0.002966   \n",
            "10       ...        106          1 -37.3855  5.803667e-17  0.000635  0.003165   \n",
            "11       ...        107          1 -38.4436  2.014479e-17  0.000632  0.003155   \n",
            "12       ...        108          1 -37.8149  3.777356e-17  0.000668  0.003185   \n",
            "13       ...        109          1 -35.9892  2.344617e-16  0.000837  0.002841   \n",
            "14       ...        110          1 -33.3607  3.248282e-15  0.000968  0.003221   \n",
            "15       ...        111          1 -30.3412  6.652762e-14  0.000865  0.002978   \n",
            "16       ...        112          1  -27.398  1.262371e-12  0.000716  0.002798   \n",
            "17       ...        113          1 -24.9033  1.529860e-11  0.000676  0.003516   \n",
            "18       ...        114          1 -22.9346  1.095559e-10  0.000594  0.002942   \n",
            "19       ...        115          1 -21.4382  4.892174e-10  0.000694  0.002948   \n",
            "20       ...        116          1 -20.4498  1.314451e-09  0.000594  0.003254   \n",
            "21       ...        117          1 -19.8956  2.287947e-09  0.000638  0.002966   \n",
            "22       ...        118          1 -19.7579  2.625714e-09  0.000628  0.003165   \n",
            "23       ...        119          1  -19.975  2.113320e-09  0.000611  0.003155   \n",
            "24       ...        120          1 -20.3595  1.438666e-09  0.000627  0.003185   \n",
            "\n",
            "         POD   cum_POD       POA Default_ind_90d  \n",
            "0   0.003653  0.003653  0.996347               0  \n",
            "1   0.003427  0.007080  0.992920               0  \n",
            "2   0.003910  0.010990  0.989010               0  \n",
            "3   0.003619  0.014609  0.985391               0  \n",
            "4   0.003359  0.017968  0.982032               0  \n",
            "5   0.004082  0.022049  0.977951               0  \n",
            "6   0.003472  0.025521  0.974479               0  \n",
            "7   0.003598  0.029118  0.970882               0  \n",
            "8   0.003827  0.032945  0.967055               0  \n",
            "9   0.003595  0.036540  0.963460               0  \n",
            "10  0.003799  0.040339  0.959661               0  \n",
            "11  0.003788  0.044127  0.955873               0  \n",
            "12  0.003853  0.047980  0.952020               0  \n",
            "13  0.003678  0.051658  0.948342               0  \n",
            "14  0.004189  0.055847  0.944153               0  \n",
            "15  0.003844  0.059691  0.940309               0  \n",
            "16  0.003514  0.063204  0.936796               0  \n",
            "17  0.004192  0.067397  0.932603               0  \n",
            "18  0.003536  0.070933  0.929067               0  \n",
            "19  0.003642  0.074575  0.925425               0  \n",
            "20  0.003848  0.078423  0.921577               0  \n",
            "21  0.003605  0.082027  0.917973               0  \n",
            "22  0.003793  0.085820  0.914180               0  \n",
            "23  0.003766  0.089587  0.910413               0  \n",
            "24  0.003812  0.093399  0.906601               0  \n",
            "\n",
            "[25 rows x 81 columns]\n",
            "5972\n"
          ],
          "name": "stdout"
        }
      ]
    },
    {
      "cell_type": "code",
      "metadata": {
        "id": "K-d77dmqQMjK",
        "colab_type": "code",
        "colab": {},
        "outputId": "46e0561f-f404-4bc9-ed03-25761e50629e"
      },
      "source": [
        "%%time\n",
        "\n",
        "df_forecast_281['count'] = 1\n",
        "df_forecast_281['periods'] = df_forecast_281.groupby(['AcctID'])['count'].cumsum()\n",
        "df_forecast_281['principal_pay'] = np.maximum(0, df_forecast_281['PrinPayment_L6mon'] * \\\n",
        "                                                  (1-df_forecast_281['adj_PA']-df_forecast_281['adj_PD']))\n",
        "\n",
        "df_forecast_281.loc[df_forecast_281['periods'] == 1, 'last_period_balance'] = df_forecast_281['UNPAID_BALANCE_AMT']\n",
        "df_forecast_281.loc[df_forecast_281['periods'] == 1, 'beg_balance'] =df_forecast_281['UNPAID_BALANCE_AMT']\n",
        "# np.maximum(0,(df_forecast_281['UNPAID_BALANCE_AMT'] - df_forecast_281['principal_pay']) *\\\n",
        "# (1-df_forecast_281['adj_PA']-df_forecast_281['adj_PD'] ))\n",
        "\n",
        "df_forecast_281.loc[df_forecast_281['periods'] == 1, 'POA'] = (1-df_forecast_281['adj_PA']-df_forecast_281['adj_PD'] )\n",
        "\n",
        "acctid_list = df_forecast_281['AcctID'].unique()\n",
        "# print(len(acctid_list))\n",
        "# acctid_list = [113011589, 175701758]\n",
        "# acctid_list = [124702455]\n",
        "\n",
        "k = pd.DataFrame()\n",
        "for id in acctid_list:\n",
        "    g = df_forecast_281.loc[df_forecast_281.AcctID == id, ].reset_index(drop = True)\n",
        "#     print(id)\n",
        "    for j in range(1,len(g)):\n",
        "        balance = g.loc[j -1 ,'last_period_balance'] \n",
        "        g.loc[j,'POA'] = g.loc[j-1, 'POA'] - g.loc[j, 'adj_PD'] - g.loc[j, 'adj_PA']\n",
        "        g.loc[j,'principal_pay'] = np.maximum(0, g.loc[j, 'PrinPayment_L6mon'] * g.loc[j,'POA'])\n",
        "        g.loc[j,'beg_balance'] = np.maximum(0,balance * g.loc[j-1,'POA'] - g.loc[j-1,'principal_pay'])\n",
        "        g.loc[j, 'last_period_balance'] = g.loc[j, 'beg_balance']\n",
        "#         g.loc[j, 'last_period_balance'] = balance\n",
        "\n",
        "    k = k.append(g, ignore_index = True)\n",
        "\n",
        "# print(k)\n"
      ],
      "execution_count": 0,
      "outputs": [
        {
          "output_type": "stream",
          "text": [
            "Wall time: 10min 54s\n"
          ],
          "name": "stdout"
        }
      ]
    },
    {
      "cell_type": "code",
      "metadata": {
        "id": "yvKolJJOQMjO",
        "colab_type": "code",
        "colab": {},
        "outputId": "3b949394-f15d-4d97-c932-f8982d470073"
      },
      "source": [
        "k.to_csv('C:\\\\Users\\\\Hu09559\\\\Documents\\\\Consumer\\\\Reserve Forecast\\\\all_nonRevov_2019-10-17.csv')"
      ],
      "execution_count": 0,
      "outputs": [
        {
          "output_type": "error",
          "ename": "KeyboardInterrupt",
          "evalue": "",
          "traceback": [
            "\u001b[1;31m---------------------------------------------------------------------------\u001b[0m",
            "\u001b[1;31mKeyboardInterrupt\u001b[0m                         Traceback (most recent call last)",
            "\u001b[1;32m<ipython-input-61-ab9c4fb6889c>\u001b[0m in \u001b[0;36m<module>\u001b[1;34m()\u001b[0m\n\u001b[1;32m----> 1\u001b[1;33m \u001b[0mk\u001b[0m\u001b[1;33m.\u001b[0m\u001b[0mto_csv\u001b[0m\u001b[1;33m(\u001b[0m\u001b[1;34m'C:\\\\Users\\\\Hu09559\\\\Documents\\\\Consumer\\\\Reserve Forecast\\\\all_nonRevov_2019-10-17.csv'\u001b[0m\u001b[1;33m)\u001b[0m\u001b[1;33m\u001b[0m\u001b[0m\n\u001b[0m",
            "\u001b[1;32mC:\\ProgramData\\Anaconda3\\lib\\site-packages\\pandas\\core\\frame.py\u001b[0m in \u001b[0;36mto_csv\u001b[1;34m(self, path_or_buf, sep, na_rep, float_format, columns, header, index, index_label, mode, encoding, compression, quoting, quotechar, line_terminator, chunksize, tupleize_cols, date_format, doublequote, escapechar, decimal)\u001b[0m\n\u001b[0;32m   1401\u001b[0m                                      \u001b[0mdoublequote\u001b[0m\u001b[1;33m=\u001b[0m\u001b[0mdoublequote\u001b[0m\u001b[1;33m,\u001b[0m\u001b[1;33m\u001b[0m\u001b[0m\n\u001b[0;32m   1402\u001b[0m                                      escapechar=escapechar, decimal=decimal)\n\u001b[1;32m-> 1403\u001b[1;33m         \u001b[0mformatter\u001b[0m\u001b[1;33m.\u001b[0m\u001b[0msave\u001b[0m\u001b[1;33m(\u001b[0m\u001b[1;33m)\u001b[0m\u001b[1;33m\u001b[0m\u001b[0m\n\u001b[0m\u001b[0;32m   1404\u001b[0m \u001b[1;33m\u001b[0m\u001b[0m\n\u001b[0;32m   1405\u001b[0m         \u001b[1;32mif\u001b[0m \u001b[0mpath_or_buf\u001b[0m \u001b[1;32mis\u001b[0m \u001b[1;32mNone\u001b[0m\u001b[1;33m:\u001b[0m\u001b[1;33m\u001b[0m\u001b[0m\n",
            "\u001b[1;32mC:\\ProgramData\\Anaconda3\\lib\\site-packages\\pandas\\io\\formats\\format.py\u001b[0m in \u001b[0;36msave\u001b[1;34m(self)\u001b[0m\n\u001b[0;32m   1590\u001b[0m                 \u001b[0mself\u001b[0m\u001b[1;33m.\u001b[0m\u001b[0mwriter\u001b[0m \u001b[1;33m=\u001b[0m \u001b[0mcsv\u001b[0m\u001b[1;33m.\u001b[0m\u001b[0mwriter\u001b[0m\u001b[1;33m(\u001b[0m\u001b[0mf\u001b[0m\u001b[1;33m,\u001b[0m \u001b[1;33m**\u001b[0m\u001b[0mwriter_kwargs\u001b[0m\u001b[1;33m)\u001b[0m\u001b[1;33m\u001b[0m\u001b[0m\n\u001b[0;32m   1591\u001b[0m \u001b[1;33m\u001b[0m\u001b[0m\n\u001b[1;32m-> 1592\u001b[1;33m             \u001b[0mself\u001b[0m\u001b[1;33m.\u001b[0m\u001b[0m_save\u001b[0m\u001b[1;33m(\u001b[0m\u001b[1;33m)\u001b[0m\u001b[1;33m\u001b[0m\u001b[0m\n\u001b[0m\u001b[0;32m   1593\u001b[0m \u001b[1;33m\u001b[0m\u001b[0m\n\u001b[0;32m   1594\u001b[0m         \u001b[1;32mfinally\u001b[0m\u001b[1;33m:\u001b[0m\u001b[1;33m\u001b[0m\u001b[0m\n",
            "\u001b[1;32mC:\\ProgramData\\Anaconda3\\lib\\site-packages\\pandas\\io\\formats\\format.py\u001b[0m in \u001b[0;36m_save\u001b[1;34m(self)\u001b[0m\n\u001b[0;32m   1691\u001b[0m                 \u001b[1;32mbreak\u001b[0m\u001b[1;33m\u001b[0m\u001b[0m\n\u001b[0;32m   1692\u001b[0m \u001b[1;33m\u001b[0m\u001b[0m\n\u001b[1;32m-> 1693\u001b[1;33m             \u001b[0mself\u001b[0m\u001b[1;33m.\u001b[0m\u001b[0m_save_chunk\u001b[0m\u001b[1;33m(\u001b[0m\u001b[0mstart_i\u001b[0m\u001b[1;33m,\u001b[0m \u001b[0mend_i\u001b[0m\u001b[1;33m)\u001b[0m\u001b[1;33m\u001b[0m\u001b[0m\n\u001b[0m\u001b[0;32m   1694\u001b[0m \u001b[1;33m\u001b[0m\u001b[0m\n\u001b[0;32m   1695\u001b[0m     \u001b[1;32mdef\u001b[0m \u001b[0m_save_chunk\u001b[0m\u001b[1;33m(\u001b[0m\u001b[0mself\u001b[0m\u001b[1;33m,\u001b[0m \u001b[0mstart_i\u001b[0m\u001b[1;33m,\u001b[0m \u001b[0mend_i\u001b[0m\u001b[1;33m)\u001b[0m\u001b[1;33m:\u001b[0m\u001b[1;33m\u001b[0m\u001b[0m\n",
            "\u001b[1;32mC:\\ProgramData\\Anaconda3\\lib\\site-packages\\pandas\\io\\formats\\format.py\u001b[0m in \u001b[0;36m_save_chunk\u001b[1;34m(self, start_i, end_i)\u001b[0m\n\u001b[0;32m   1717\u001b[0m                                         quoting=self.quoting)\n\u001b[0;32m   1718\u001b[0m \u001b[1;33m\u001b[0m\u001b[0m\n\u001b[1;32m-> 1719\u001b[1;33m         \u001b[0mlib\u001b[0m\u001b[1;33m.\u001b[0m\u001b[0mwrite_csv_rows\u001b[0m\u001b[1;33m(\u001b[0m\u001b[0mself\u001b[0m\u001b[1;33m.\u001b[0m\u001b[0mdata\u001b[0m\u001b[1;33m,\u001b[0m \u001b[0mix\u001b[0m\u001b[1;33m,\u001b[0m \u001b[0mself\u001b[0m\u001b[1;33m.\u001b[0m\u001b[0mnlevels\u001b[0m\u001b[1;33m,\u001b[0m \u001b[0mself\u001b[0m\u001b[1;33m.\u001b[0m\u001b[0mcols\u001b[0m\u001b[1;33m,\u001b[0m \u001b[0mself\u001b[0m\u001b[1;33m.\u001b[0m\u001b[0mwriter\u001b[0m\u001b[1;33m)\u001b[0m\u001b[1;33m\u001b[0m\u001b[0m\n\u001b[0m\u001b[0;32m   1720\u001b[0m \u001b[1;33m\u001b[0m\u001b[0m\n\u001b[0;32m   1721\u001b[0m \u001b[1;33m\u001b[0m\u001b[0m\n",
            "\u001b[1;32mpandas\\_libs\\lib.pyx\u001b[0m in \u001b[0;36mpandas._libs.lib.write_csv_rows\u001b[1;34m()\u001b[0m\n",
            "\u001b[1;32mpandas/_libs/period.pyx\u001b[0m in \u001b[0;36mpandas._libs.period._Period.__str__ (pandas\\_libs\\period.c:17077)\u001b[1;34m()\u001b[0m\n",
            "\u001b[1;32mpandas/_libs/period.pyx\u001b[0m in \u001b[0;36mpandas._libs.period._Period.__unicode__ (pandas\\_libs\\period.c:17625)\u001b[1;34m()\u001b[0m\n",
            "\u001b[1;32mpandas/_libs/period.pyx\u001b[0m in \u001b[0;36mpandas._libs.period.period_format (pandas\\_libs\\period.c:5273)\u001b[1;34m()\u001b[0m\n",
            "\u001b[1;32mpandas/_libs/period.pyx\u001b[0m in \u001b[0;36mpandas._libs.period._period_strftime (pandas\\_libs\\period.c:5346)\u001b[1;34m()\u001b[0m\n",
            "\u001b[1;32mC:\\ProgramData\\Anaconda3\\lib\\importlib\\_bootstrap.py\u001b[0m in \u001b[0;36m_find_and_load\u001b[1;34m(name, import_)\u001b[0m\n",
            "\u001b[1;32mC:\\ProgramData\\Anaconda3\\lib\\importlib\\_bootstrap.py\u001b[0m in \u001b[0;36m_find_and_load_unlocked\u001b[1;34m(name, import_)\u001b[0m\n",
            "\u001b[1;32mC:\\ProgramData\\Anaconda3\\lib\\importlib\\_bootstrap.py\u001b[0m in \u001b[0;36m_find_spec\u001b[1;34m(name, path, target)\u001b[0m\n",
            "\u001b[1;32mC:\\ProgramData\\Anaconda3\\lib\\importlib\\_bootstrap_external.py\u001b[0m in \u001b[0;36mfind_spec\u001b[1;34m(cls, fullname, path, target)\u001b[0m\n",
            "\u001b[1;32mC:\\ProgramData\\Anaconda3\\lib\\importlib\\_bootstrap_external.py\u001b[0m in \u001b[0;36m_get_spec\u001b[1;34m(cls, fullname, path, target)\u001b[0m\n",
            "\u001b[1;32mC:\\ProgramData\\Anaconda3\\lib\\importlib\\_bootstrap_external.py\u001b[0m in \u001b[0;36mfind_spec\u001b[1;34m(self, fullname, target)\u001b[0m\n",
            "\u001b[1;32mC:\\ProgramData\\Anaconda3\\lib\\importlib\\_bootstrap_external.py\u001b[0m in \u001b[0;36m_path_stat\u001b[1;34m(path)\u001b[0m\n",
            "\u001b[1;31mKeyboardInterrupt\u001b[0m: "
          ]
        }
      ]
    },
    {
      "cell_type": "code",
      "metadata": {
        "scrolled": true,
        "id": "kCARNWlJQMjQ",
        "colab_type": "code",
        "colab": {},
        "outputId": "6e7901d0-9385-42e4-d902-32401124a1fd"
      },
      "source": [
        "print(k.loc[k.AcctID == 100000170,])\n",
        "# print (k)\n",
        "# ['AcctID','forecast_YrMo','end_balance','last_period_balance','principal_pay']"
      ],
      "execution_count": 0,
      "outputs": [
        {
          "output_type": "stream",
          "text": [
            "Empty DataFrame\n",
            "Columns: [AcctID, forecast_YrMo, PrinPayment_L6mon, adj_PA, adj_PD, UNPAID_BALANCE_AMT, Revolve_1, Default_ind_90d, count, periods, principal_pay, last_period_balance, beg_balance, POA]\n",
            "Index: []\n"
          ],
          "name": "stdout"
        }
      ]
    },
    {
      "cell_type": "code",
      "metadata": {
        "id": "KlPOoQEDQMjZ",
        "colab_type": "code",
        "colab": {},
        "outputId": "5ffcd857-16b3-48f1-8ba5-4a794004cc60"
      },
      "source": [
        "print(df_forecast_28.columns[df_forecast_28.columns.str.contains('Open')])\n",
        "# print(df_forecast_28[['AcctID','forecast_YrMo']])\n",
        "print(data_snapshot.columns[data_snapshot.columns.str.contains('Open')])"
      ],
      "execution_count": 0,
      "outputs": [
        {
          "output_type": "stream",
          "text": [
            "Index(['EOMOpenDt_YrMo', 'OpenDt_str', 'OpenAmt_YrMo', 'OpenDt_Dt',\n",
            "       'OpenDt_YrMo', 'OpenAmt_YrMo'],\n",
            "      dtype='object')\n",
            "Index(['EOMOpenDt_YrMo', 'OpenAmt_Origin', 'OpenAmt_YrMo', 'EOMOpenDt_Min',\n",
            "       'OpenDt_Dt', 'OpenDt_YrMo', 'OpenDt_str'],\n",
            "      dtype='object')\n"
          ],
          "name": "stdout"
        }
      ]
    },
    {
      "cell_type": "code",
      "metadata": {
        "collapsed": true,
        "scrolled": true,
        "id": "MumLYOZGQMjg",
        "colab_type": "code",
        "colab": {}
      },
      "source": [
        "# get additional variables that will be used in the definition for default\n",
        "# default_data = data_snapshot_1[['INSTID', 'DAYS_PAST_DUE_CNT', 'EOMChrgOffDt', 'RiskCd','OpenAmt_YrMo']]\n",
        "# k1 = pd.merge(k, default_data, left_on = 'AcctID', right_on = 'INSTID', how ='left')\n",
        "# print(data_snapshot_1.columns)\n",
        "# print (default_data)"
      ],
      "execution_count": 0,
      "outputs": []
    },
    {
      "cell_type": "code",
      "metadata": {
        "id": "400DhRH_QMjj",
        "colab_type": "code",
        "colab": {},
        "outputId": "90ff34ec-439c-4f54-91fc-c2ea6781e66c"
      },
      "source": [
        "\n",
        "# Determine EAD\n",
        "data_forecast_281 = k\n",
        "data_forecast_281['EAD'] = data_forecast_281['last_period_balance']\n",
        "\n",
        "# Define default loans and default loans are treated differently and the adj_PD will be set to 1 for default loans\n",
        "# data_forecast_281['Default_ind_90d'] = 0\n",
        "# data_forecast_281.loc[(data_forecast_281['DAYS_PAST_DUE_CNT'] >= 90) | (data_forecast_281['EOMChrgOffDt'].notnull()) | (data_forecast_281['RiskCd'] >=12), 'Default_ind_90d'] = 1\n",
        "# data_forecast_281['Default_ind_90d'] = data_forecast_281['Default_ind_90d'].astype(int)\n",
        "# data_forecast_281['Default_ind_90d'] = (data_forecast_281[\"DAYS_PAST_DUE_CNT\"] >= 90) | (data_forecast_281[\"EOMChrgOffDt\"].notnull()) | (data_forecast_281['RiskCd'] >=12) \n",
        "\n",
        "df_forecast_282 = df_forecast_28.loc[df_forecast_28.Revolve_1 == 1, ]\n",
        "\n",
        "df_ccf = pd.read_excel(\"W:\\\\Corporate\\\\20368\\\\DFAST_Enterprise_Credit_Loss_Stress_Testing_Models\\\\Consumer Models\\\\SAS_MIP\\\\ConsumerOther\\\\Documentation\\\\ConsumerOther_Models_forSAS_MIP_20190521.xlsx\",\n",
        "                           sheetname='Utilization_table')\n",
        "df_ccf.rename(columns = {'Utilization_Rate':'ccf_EAD'}, inplace = True)\n",
        "print(df_ccf.ccf_EAD.dtype)\n",
        "\n",
        "df_forecast_283 = pd.merge(df_forecast_282, df_ccf,  left_on = 'forecast_mon', right_on = 'Age_mon', how = 'left')\n",
        "\n",
        "df_forecast_283['ccf_EAD'] = df_forecast_283['ccf_EAD'].fillna(0)\n",
        "df_forecast_284 = df_forecast_283[['AcctID','forecast_YrMo','PrinPayment_L6mon','OpenAmt_YrMo','adj_PA','adj_PD','UNPAID_BALANCE_AMT','Revolve_1','ccf_EAD','Default_ind_90d']]\n",
        "#There is one additional column with 'OpenAmt_YrMo'\n",
        "# df_forecast_284.drop([4], axis = 1)\n",
        "\n",
        "\n",
        "df_forecast_284['EAD'] =df_forecast_284['OpenAmt_YrMo'] * df_forecast_284['ccf_EAD']\n",
        "df_forecast_284 = df_forecast_284[['AcctID', 'forecast_YrMo', 'EAD','ccf_EAD']]\n",
        "df_forecast_281 = data_forecast_281[['AcctID', 'forecast_YrMo', 'EAD']]\n",
        "\n",
        "\n",
        "df_forecast_29 = df_forecast_281.append(df_forecast_284, ignore_index = True)\n",
        "df_forecast_29.sort_values(by=['AcctID','forecast_YrMo'], inplace=True)\n",
        "\n",
        "\n",
        "\n",
        "df_forecast_30 = pd.merge(df_forecast_28, df_forecast_29, on = ['AcctID', 'forecast_YrMo'], how = 'left')\n",
        "\n",
        "df_forecast_sum = df_forecast_30.groupby(['forecast_YrMo'])['PD','adj_PD','PA','adj_PA','POA','LGD_CGD','EAD'].apply(lambda x : x.sum())\n",
        "# print(df_forecast_sum)\n"
      ],
      "execution_count": 0,
      "outputs": [
        {
          "output_type": "stream",
          "text": [
            "float64\n"
          ],
          "name": "stdout"
        },
        {
          "output_type": "stream",
          "text": [
            "C:\\ProgramData\\Anaconda3\\lib\\site-packages\\ipykernel_launcher.py:27: SettingWithCopyWarning: \n",
            "A value is trying to be set on a copy of a slice from a DataFrame.\n",
            "Try using .loc[row_indexer,col_indexer] = value instead\n",
            "\n",
            "See the caveats in the documentation: http://pandas.pydata.org/pandas-docs/stable/indexing.html#indexing-view-versus-copy\n"
          ],
          "name": "stderr"
        }
      ]
    },
    {
      "cell_type": "code",
      "metadata": {
        "collapsed": true,
        "id": "4ECtZ-y4QMjs",
        "colab_type": "code",
        "colab": {}
      },
      "source": [
        "# print(df_forecast_30.loc[df_forecast_30.AcctID == 124905460,['AcctID','forecast_YrMo','Revolve_1','ccf_EAD','POA','last_period_balance','EAD','Default_ind_90d']])\n",
        "# print(df_forecast_30.columns)\n",
        "# print(df_forecast_282[['AcctID', 'forecast_mon', 'Age']])"
      ],
      "execution_count": 0,
      "outputs": []
    },
    {
      "cell_type": "code",
      "metadata": {
        "collapsed": true,
        "id": "hjOCDLm9QMj1",
        "colab_type": "code",
        "colab": {}
      },
      "source": [
        "# default = df_forecast_30.loc[df_forecast_30['Default_ind_90d'] == 1, ]\n",
        "# print(default)"
      ],
      "execution_count": 0,
      "outputs": []
    },
    {
      "cell_type": "code",
      "metadata": {
        "collapsed": true,
        "id": "lrEkb_cUQMj3",
        "colab_type": "code",
        "colab": {}
      },
      "source": [
        "# df_forecast_sum.to_csv('C:\\\\Users\\\\Hu09559\\\\Documents\\\\Consumer\\\\Reserve Forecast\\\\summary_forecast_EAD.csv')"
      ],
      "execution_count": 0,
      "outputs": []
    },
    {
      "cell_type": "code",
      "metadata": {
        "collapsed": true,
        "id": "rLP1_FXJQMj6",
        "colab_type": "code",
        "colab": {}
      },
      "source": [
        "# print(list(df_forecast_30.columns[df_forecast_30.columns.str.contains('Reco')]))"
      ],
      "execution_count": 0,
      "outputs": []
    },
    {
      "cell_type": "code",
      "metadata": {
        "id": "sQ1ntoZXQMj7",
        "colab_type": "code",
        "colab": {},
        "outputId": "39583c71-c620-499c-cec5-ab2b50e58c7b"
      },
      "source": [
        "print(df_forecast_30[['AcctID', 'forecast_YrMo','OpenAmt_YrMo','ccf_EAD','EAD','Default_ind_90d']])"
      ],
      "execution_count": 0,
      "outputs": [
        {
          "output_type": "stream",
          "text": [
            "           AcctID forecast_YrMo  OpenAmt_YrMo   ccf_EAD            EAD  \\\n",
            "0       100000170       2019-10       15000.0  0.405975    6089.626050   \n",
            "1       100000170       2019-11       15000.0  0.401570    6023.553690   \n",
            "2       100000170       2019-12       15000.0  0.405733    6085.992285   \n",
            "3       100000170       2020-01       15000.0  0.407117    6106.757850   \n",
            "4       100000170       2020-02       15000.0  0.405343    6080.139060   \n",
            "5       100000170       2020-03       15000.0  0.406219    6093.280620   \n",
            "6       100000170       2020-04       15000.0  0.405183    6077.746785   \n",
            "7       100000170       2020-05       15000.0  0.406071    6091.068195   \n",
            "8       100000170       2020-06       15000.0  0.407023    6105.340110   \n",
            "9       100000170       2020-07       15000.0  0.407998    6119.975865   \n",
            "10      100000170       2020-08       15000.0  0.410290    6154.346100   \n",
            "11      100000170       2020-09       15000.0  0.411828    6177.421950   \n",
            "12      100000170       2020-10       15000.0  0.412159    6182.379990   \n",
            "13      100000170       2020-11       15000.0  0.409705    6145.578870   \n",
            "14      100000170       2020-12       15000.0  0.409897    6148.449420   \n",
            "15      100000170       2021-01       15000.0  0.409253    6138.799680   \n",
            "16      100000170       2021-02       15000.0  0.412082    6181.224225   \n",
            "17      100000170       2021-03       15000.0  0.412033    6180.487860   \n",
            "18      100000170       2021-04       15000.0  0.413636    6204.538800   \n",
            "19      100000170       2021-05       15000.0  0.412442    6186.627120   \n",
            "20      100000170       2021-06       15000.0  0.411389    6170.835270   \n",
            "21      100000170       2021-07       15000.0  0.407072    6106.082565   \n",
            "22      100000170       2021-08       15000.0  0.410676    6160.147260   \n",
            "23      100000170       2021-09       15000.0  0.408275    6124.123185   \n",
            "24      100000170       2021-10       15000.0  0.409207    6138.107880   \n",
            "25      100000245       2019-10      325000.0  0.405975  131941.897750   \n",
            "26      100000245       2019-11      325000.0  0.401570  130510.329950   \n",
            "27      100000245       2019-12      325000.0  0.405733  131863.166175   \n",
            "28      100000245       2020-01      325000.0  0.407117  132313.086750   \n",
            "29      100000245       2020-02      325000.0  0.405343  131736.346300   \n",
            "...           ...           ...           ...       ...            ...   \n",
            "471349       9945       2021-02       15000.0  0.399339    5990.078460   \n",
            "471350       9945       2021-03       15000.0  0.399720    5995.796430   \n",
            "471351       9945       2021-04       15000.0  0.400015    6000.218505   \n",
            "471352       9945       2021-05       15000.0  0.400668    6010.024620   \n",
            "471353       9945       2021-06       15000.0  0.401100    6016.504335   \n",
            "471354       9945       2021-07       15000.0  0.401005    6015.077250   \n",
            "471355       9945       2021-08       15000.0  0.401724    6025.863285   \n",
            "471356       9996       2019-10       10000.0  0.406649    4066.488080   \n",
            "471357       9996       2019-11       10000.0  0.406672    4066.720420   \n",
            "471358       9996       2019-12       10000.0  0.406510    4065.099430   \n",
            "471359       9996       2020-01       10000.0  0.406340    4063.395650   \n",
            "471360       9996       2020-02       10000.0  0.406346    4063.462050   \n",
            "471361       9996       2020-03       10000.0  0.405908    4059.076710   \n",
            "471362       9996       2020-04       10000.0  0.405768    4057.677540   \n",
            "471363       9996       2020-05       10000.0  0.405378    4053.783710   \n",
            "471364       9996       2020-06       10000.0  0.405330    4053.297910   \n",
            "471365       9996       2020-07       10000.0  0.405064    4050.637300   \n",
            "471366       9996       2020-08       10000.0  0.404957    4049.570180   \n",
            "471367       9996       2020-09       10000.0  0.404136    4041.356400   \n",
            "471368       9996       2020-10       10000.0  0.403809    4038.088600   \n",
            "471369       9996       2020-11       10000.0  0.403823    4038.231730   \n",
            "471370       9996       2020-12       10000.0  0.402834    4028.344750   \n",
            "471371       9996       2021-01       10000.0  0.402986    4029.855790   \n",
            "471372       9996       2021-02       10000.0  0.403987    4039.866880   \n",
            "471373       9996       2021-03       10000.0  0.404035    4040.352030   \n",
            "471374       9996       2021-04       10000.0  0.404351    4043.512530   \n",
            "471375       9996       2021-05       10000.0  0.404236    4042.358500   \n",
            "471376       9996       2021-06       10000.0  0.403773    4037.733950   \n",
            "471377       9996       2021-07       10000.0  0.403476    4034.760420   \n",
            "471378       9996       2021-08       10000.0  0.404004    4040.041280   \n",
            "\n",
            "        Default_ind_90d  \n",
            "0                     0  \n",
            "1                     0  \n",
            "2                     0  \n",
            "3                     0  \n",
            "4                     0  \n",
            "5                     0  \n",
            "6                     0  \n",
            "7                     0  \n",
            "8                     0  \n",
            "9                     0  \n",
            "10                    0  \n",
            "11                    0  \n",
            "12                    0  \n",
            "13                    0  \n",
            "14                    0  \n",
            "15                    0  \n",
            "16                    0  \n",
            "17                    0  \n",
            "18                    0  \n",
            "19                    0  \n",
            "20                    0  \n",
            "21                    0  \n",
            "22                    0  \n",
            "23                    0  \n",
            "24                    0  \n",
            "25                    0  \n",
            "26                    0  \n",
            "27                    0  \n",
            "28                    0  \n",
            "29                    0  \n",
            "...                 ...  \n",
            "471349                0  \n",
            "471350                0  \n",
            "471351                0  \n",
            "471352                0  \n",
            "471353                0  \n",
            "471354                0  \n",
            "471355                0  \n",
            "471356                0  \n",
            "471357                0  \n",
            "471358                0  \n",
            "471359                0  \n",
            "471360                0  \n",
            "471361                0  \n",
            "471362                0  \n",
            "471363                0  \n",
            "471364                0  \n",
            "471365                0  \n",
            "471366                0  \n",
            "471367                0  \n",
            "471368                0  \n",
            "471369                0  \n",
            "471370                0  \n",
            "471371                0  \n",
            "471372                0  \n",
            "471373                0  \n",
            "471374                0  \n",
            "471375                0  \n",
            "471376                0  \n",
            "471377                0  \n",
            "471378                0  \n",
            "\n",
            "[471379 rows x 6 columns]\n"
          ],
          "name": "stdout"
        }
      ]
    },
    {
      "cell_type": "code",
      "metadata": {
        "id": "msyL3b75QMj9",
        "colab_type": "code",
        "colab": {},
        "outputId": "e4d1099e-f7e3-48d7-9ddb-faac24cb92f8"
      },
      "source": [
        "tmp = df_forecast_281[df_forecast_281['AcctID'].isin(acctid_list)]\n",
        "print(tmp)"
      ],
      "execution_count": 0,
      "outputs": [
        {
          "output_type": "stream",
          "text": [
            "Empty DataFrame\n",
            "Columns: [AcctID, forecast_YrMo, EAD, Default_ind_90d]\n",
            "Index: []\n"
          ],
          "name": "stdout"
        }
      ]
    },
    {
      "cell_type": "code",
      "metadata": {
        "id": "l0994dy-QMj_",
        "colab_type": "code",
        "colab": {},
        "outputId": "aab3ab5a-0555-43ff-fb5a-a4129902ea1f"
      },
      "source": [
        "%%time\n",
        "df_forecast_30.loc[df_forecast_30['Default_ind_90d'] == 1,'adj_PD'] = 1\n",
        "df_forecast_30['Total_Recovery'] = df_forecast_30['adj_PD']*(1-df_forecast_30['LGD_CGD']) + df_forecast_30['adj_PD']* df_forecast_30['LGD_CGD']*df_forecast_30['Recovery']\n",
        "df_forecast_30['Loss_Amt'] = df_forecast_30['EAD'] * df_forecast_30['adj_PD']*(1 - df_forecast_30['Total_Recovery'])\n",
        "# df_forecast_30.loc[df_forecast_30['index'] == '2019-07-31','Prev_Total_Loss_Amt'] = df_forecast_30['Loss_Amt']\n",
        "df_forecast_30.loc[df_forecast_30['index'] == '2019-10-30','total_loss_amt'] = df_forecast_30['Loss_Amt']\n",
        "\n",
        "df_forecast_31 = df_forecast_30[['AcctID','index','forecast_YrMo','EAD','Total_Recovery','Loss_Amt','total_loss_amt','adj_PD','adj_PA','LGD_CGD','segment_level_s',]]\n",
        "# acctid_list = [113011589, 175701758]\n",
        "acctid_list = df_forecast_31['AcctID'].unique()\n",
        "# acctid_list = list(acctid_list_0)[0:3]\n",
        "# print(df_forecast_31)\n",
        "\n",
        "\n",
        "l = pd.DataFrame()\n",
        "for id in acctid_list:\n",
        "    g = df_forecast_31.loc[df_forecast_31.AcctID == id, ].reset_index(drop = True)\n",
        "#     print(id)\n",
        "    for j in range(1,len(g)):\n",
        "#         prev_loss = g.loc[j-1 ,'total_loss_amt'] \n",
        "        g.loc[j, 'total_loss_amt'] = g.loc[j, 'Loss_Amt'] + g.loc[j-1, 'total_loss_amt']\n",
        "#         print(g.loc[j, 'Loss_Amt'], g.loc[j, 'EAD'])\n",
        "#         print(g.loc[j, 'adj_PD'])\n",
        "#         g.loc[j, 'Prev_Total_Loss_Amt'] = g.loc[j, 'total_loss_amt']\n",
        "\n",
        "    l = l.append(g, ignore_index = True)\n",
        "\n"
      ],
      "execution_count": 0,
      "outputs": [
        {
          "output_type": "stream",
          "text": [
            "Wall time: 27min 23s\n"
          ],
          "name": "stdout"
        }
      ]
    },
    {
      "cell_type": "code",
      "metadata": {
        "id": "YQF8qSmpQMkB",
        "colab_type": "code",
        "colab": {},
        "outputId": "afee8de7-653a-4697-ecf0-d832f363e228"
      },
      "source": [
        "print(l)"
      ],
      "execution_count": 0,
      "outputs": [
        {
          "output_type": "stream",
          "text": [
            "           AcctID      index forecast_YrMo            EAD  Total_Recovery  \\\n",
            "0       100000170 2019-07-31       2019-07    6225.718695        0.000480   \n",
            "1       100000170 2019-08-31       2019-08    6181.416990        0.000488   \n",
            "2       100000170 2019-09-30       2019-09    6146.230230        0.000456   \n",
            "3       100000170 2019-10-31       2019-10    6089.626050        0.000487   \n",
            "4       100000245 2019-07-31       2019-07  134890.571725        0.000480   \n",
            "5       100000245 2019-08-31       2019-08  133930.701450        0.000488   \n",
            "6       100000245 2019-09-30       2019-09  133168.321650        0.000456   \n",
            "7       100000245 2019-10-31       2019-10  131941.897750        0.000487   \n",
            "8       100000245 2019-11-30       2019-11  130510.329950        0.000586   \n",
            "9       100000245 2019-12-31       2019-12  131863.166175        0.000689   \n",
            "10      100000245 2020-01-31       2020-01  132313.086750        0.000641   \n",
            "11      100000245 2020-02-29       2020-02  131736.346300        0.000561   \n",
            "12      100000245 2020-03-31       2020-03  132021.080100        0.000566   \n",
            "13      100001161 2019-07-31       2019-07    2075.239565        0.000480   \n",
            "14      100001161 2019-08-31       2019-08    2060.472330        0.000488   \n",
            "15      100001161 2019-09-30       2019-09    2048.743410        0.000456   \n",
            "16      100001161 2019-10-31       2019-10    2029.875350        0.000487   \n",
            "17      100001250 2019-07-31       2019-07    2072.054415        0.000500   \n",
            "18      100001250 2019-08-31       2019-08    2075.239565        0.000465   \n",
            "19      100001250 2019-09-30       2019-09    2060.472330        0.000464   \n",
            "20      100001250 2019-10-31       2019-10    2048.743410        0.000465   \n",
            "21      100001250 2019-11-30       2019-11    2029.875350        0.000594   \n",
            "22      100001250 2019-12-31       2019-12    2007.851230        0.000673   \n",
            "23       10000128 2019-07-31       2019-07    2026.240170        0.000848   \n",
            "24       10000128 2019-08-31       2019-08    2026.393975        0.000841   \n",
            "25       10000128 2019-09-30       2019-09    2026.562040        0.000819   \n",
            "26       10000128 2019-10-31       2019-10    2026.504820        0.000856   \n",
            "27       10000128 2019-11-30       2019-11    2026.932965        0.001069   \n",
            "28       10000128 2019-12-31       2019-12    2022.474630        0.001256   \n",
            "29       10000128 2020-01-31       2020-01    2022.520730        0.001168   \n",
            "...           ...        ...           ...            ...             ...   \n",
            "463683   99400389 2020-10-31       2020-10   30727.894350        0.000677   \n",
            "463684   99400389 2020-11-30       2020-11   30742.247100        0.000849   \n",
            "463685   99400389 2020-12-31       2020-12   30693.998400        0.000981   \n",
            "463686   99400389 2021-01-31       2021-01   30906.121125        0.000877   \n",
            "463687   99400389 2021-02-28       2021-02   30902.439300        0.000725   \n",
            "463688   99400389 2021-03-31       2021-03   31022.694000        0.000686   \n",
            "463689   99400389 2021-04-30       2021-04   30933.135600        0.000602   \n",
            "463690   99400389 2021-05-31       2021-05   30854.176350        0.000703   \n",
            "463691       9941 2019-07-31       2019-07   20269.329650        0.000907   \n",
            "463692       9941 2019-08-31       2019-08   20224.746300        0.000900   \n",
            "463693       9941 2019-09-30       2019-09   20225.207300        0.000876   \n",
            "463694       9941 2019-10-31       2019-10   20219.662850        0.000916   \n",
            "463695       9941 2019-11-30       2019-11   20178.646050        0.001144   \n",
            "463696       9941 2019-12-31       2019-12   20171.529350        0.001344   \n",
            "463697       9941 2020-01-31       2020-01   20172.750550        0.001250   \n",
            "463698       9941 2020-02-29       2020-02   20173.234850        0.001094   \n",
            "463699       9941 2020-03-31       2020-03   20158.875400        0.001104   \n",
            "463700       9941 2020-04-30       2020-04   20175.854800        0.001033   \n",
            "463701       9941 2020-05-31       2020-05   20170.327450        0.001268   \n",
            "463702       9941 2020-06-30       2020-06   20198.519650        0.001117   \n",
            "463703       9941 2020-07-31       2020-07   20251.066000        0.001227   \n",
            "463704       9941 2020-08-31       2020-08   20317.827900        0.001239   \n",
            "463705       9941 2020-09-30       2020-09   20332.440400        0.001233   \n",
            "463706       9941 2020-10-31       2020-10   20333.602100        0.001303   \n",
            "463707       9941 2020-11-30       2020-11   20325.497150        0.001633   \n",
            "463708       9941 2020-12-31       2020-12   20316.978250        0.001887   \n",
            "463709       9945 2019-07-31       2019-07    6056.600925        0.000769   \n",
            "463710       9945 2019-08-31       2019-08    6052.140630        0.000763   \n",
            "463711       9996 2019-07-31       2019-07    4039.703930        0.000780   \n",
            "463712       9996 2019-08-31       2019-08    4050.213200        0.000774   \n",
            "\n",
            "         Loss_Amt  total_loss_amt    adj_PD    adj_PA       LGD_CGD  \n",
            "0        2.985769        2.985769  0.000480  0.002563  1.391800e-18  \n",
            "1        3.013518        5.999287  0.000488  0.002985  7.360361e-19  \n",
            "2        2.799790        8.799077  0.000456  0.002969  1.594026e-18  \n",
            "3        2.961561       11.760637  0.000487  0.003166  8.510483e-18  \n",
            "4       64.691668       64.691668  0.000480  0.002563  1.403239e-18  \n",
            "5       65.292884      129.984552  0.000488  0.002985  7.420855e-19  \n",
            "6       60.662108      190.646660  0.000456  0.002969  1.607127e-18  \n",
            "7       64.167152      254.813812  0.000487  0.003166  8.580429e-18  \n",
            "8       76.472473      331.286284  0.000586  0.002841  4.125046e-17  \n",
            "9       90.773887      422.060171  0.000689  0.003221  1.062799e-16  \n",
            "10      84.708426      506.768597  0.000641  0.002978  1.924443e-16  \n",
            "11      73.821020      580.589618  0.000561  0.002798  4.120208e-16  \n",
            "12      74.623940      655.213557  0.000566  0.003516  1.437002e-15  \n",
            "13       0.995256        0.995256  0.000480  0.002563  1.391800e-18  \n",
            "14       1.004506        1.999762  0.000488  0.002985  7.360361e-19  \n",
            "15       0.933263        2.933026  0.000456  0.002969  1.594026e-18  \n",
            "16       0.987187        3.920212  0.000487  0.003166  8.510483e-18  \n",
            "17       1.034633        1.034633  0.000500  0.002681  1.403311e-18  \n",
            "18       0.965009        1.999642  0.000465  0.002908  7.421236e-19  \n",
            "19       0.955557        2.955199  0.000464  0.003165  1.607210e-18  \n",
            "20       0.952993        3.908193  0.000465  0.003188  8.580870e-18  \n",
            "21       1.204938        5.113131  0.000594  0.003003  4.125258e-17  \n",
            "22       1.350630        6.463760  0.000673  0.003425  1.062854e-16  \n",
            "23       1.716532        1.716532  0.000848  0.003280  2.569982e-18  \n",
            "24       1.703416        3.419948  0.000841  0.003499  1.359103e-18  \n",
            "25       1.658463        5.078412  0.000819  0.003489  2.943396e-18  \n",
            "26       1.733014        6.811425  0.000856  0.003522  1.571475e-17  \n",
            "27       2.164777        8.976203  0.001069  0.003142  7.554872e-17  \n",
            "28       2.537235       11.513438  0.001256  0.003562  1.946478e-16  \n",
            "29       2.359889       13.873326  0.001168  0.003294  3.524548e-16  \n",
            "...           ...             ...       ...       ...           ...  \n",
            "463683  20.787746      286.703419  0.000677  0.003495  3.807770e-17  \n",
            "463684  26.070680      312.774098  0.000849  0.003117  2.363495e-16  \n",
            "463685  30.076217      342.850315  0.000981  0.003534  3.274436e-15  \n",
            "463686  27.079305      369.929620  0.000877  0.003268  6.706328e-14  \n",
            "463687  22.403021      392.332641  0.000725  0.003070  1.272535e-12  \n",
            "463688  21.257654      413.590295  0.000686  0.003858  1.542178e-11  \n",
            "463689  18.613764      432.204059  0.000602  0.003228  1.104380e-10  \n",
            "463690  21.680627      453.884686  0.000703  0.003234  4.931565e-10  \n",
            "463691  18.371971       18.371971  0.000907  0.003575  2.646144e-18  \n",
            "463692  18.190124       36.562094  0.000900  0.003814  1.399380e-18  \n",
            "463693  17.709082       54.271177  0.000876  0.003803  3.030625e-18  \n",
            "463694  18.500484       72.771661  0.000916  0.003839  1.618046e-17  \n",
            "463695  23.057263       95.828924  0.001144  0.003424  7.778764e-17  \n",
            "463696  27.073659      122.902582  0.001344  0.003882  2.004163e-16  \n",
            "463697  25.182538      148.085120  0.001250  0.003590  3.628999e-16  \n",
            "463698  22.045839      170.130959  0.001094  0.003372  7.769641e-16  \n",
            "463699  22.221523      192.352482  0.001104  0.004237  2.709812e-15  \n",
            "463700  20.822174      213.174655  0.001033  0.003546  7.378322e-14  \n",
            "463701  25.536468      238.711123  0.001268  0.003553  1.847769e-13  \n",
            "463702  22.541184      261.252308  0.001117  0.003922  3.635014e-14  \n",
            "463703  24.813108      286.065415  0.001227  0.003575  1.691118e-15  \n",
            "463704  25.132589      311.198004  0.001239  0.003814  1.103416e-16  \n",
            "463705  25.048791      336.246796  0.001233  0.003803  3.830004e-17  \n",
            "463706  26.459782      362.706578  0.001303  0.003839  7.181655e-17  \n",
            "463707  33.144936      395.851514  0.001633  0.003424  4.457676e-16  \n",
            "463708  38.272073      434.123587  0.001887  0.003882  6.175760e-15  \n",
            "463709   4.653449        4.653449  0.000769  0.003777  3.391744e-18  \n",
            "463710   4.614135        9.267584  0.000763  0.004029  1.793682e-18  \n",
            "463711   3.150139        3.150139  0.000780  0.003998  2.867432e-18  \n",
            "463712   3.133960        6.284099  0.000774  0.004265  1.516405e-18  \n",
            "\n",
            "[463713 rows x 10 columns]\n"
          ],
          "name": "stdout"
        }
      ]
    },
    {
      "cell_type": "code",
      "metadata": {
        "collapsed": true,
        "id": "7QKQDGiFQMkE",
        "colab_type": "code",
        "colab": {}
      },
      "source": [
        "loan2 = l\n",
        "# loan2.to_csv('C:\\\\Users\\\\Hu09559\\\\Documents\\\\Consumer\\\\Reserve Forecast\\\\two_loan_loss_snapshot.csv')\n"
      ],
      "execution_count": 0,
      "outputs": []
    },
    {
      "cell_type": "code",
      "metadata": {
        "collapsed": true,
        "id": "0bFxLAOsQMkT",
        "colab_type": "code",
        "colab": {}
      },
      "source": [
        "loan2_summary = loan2.groupby(['forecast_YrMo', 'segment_level_s'])['Loss_Amt','total_loss_amt','EAD'].apply(lambda x : x.sum())\n",
        "loan2_summary.to_csv('C:\\\\Users\\\\Hu09559\\\\Documents\\\\Consumer\\\\Reserve Forecast\\\\summary_Loss_bySegments_201910.csv')"
      ],
      "execution_count": 0,
      "outputs": []
    },
    {
      "cell_type": "code",
      "metadata": {
        "collapsed": true,
        "id": "96vYJSEmQMkV",
        "colab_type": "code",
        "colab": {}
      },
      "source": [
        "ecl_result = l\n"
      ],
      "execution_count": 0,
      "outputs": []
    },
    {
      "cell_type": "code",
      "metadata": {
        "collapsed": true,
        "id": "UlgOYKwuQMkX",
        "colab_type": "code",
        "colab": {}
      },
      "source": [
        "ecl_snapshot = ecl_result.loc[ecl_result['index'] == '2019-08-31',]\n",
        "ecl_snapshot.to_csv('C:\\\\Users\\\\Hu09559\\\\Documents\\\\Consumer\\\\Reserve Forecast\\\\ecl_snapshot_201908.csv')"
      ],
      "execution_count": 0,
      "outputs": []
    },
    {
      "cell_type": "code",
      "metadata": {
        "id": "HGx0uNS6QMkZ",
        "colab_type": "code",
        "colab": {},
        "outputId": "10d9d4eb-26b2-4341-ba41-d013acbce11d"
      },
      "source": [
        "ecl_summary = ecl_result.groupby(['forecast_YrMo'])['Loss_Amt','total_loss_amt'].apply(lambda x : x.sum())\n",
        "ecl_summary.to_csv('C:\\\\Users\\\\Hu09559\\\\Documents\\\\Consumer\\\\Reserve Forecast\\\\summary_Loss.csv')\n",
        "print(ecl_summary)"
      ],
      "execution_count": 0,
      "outputs": [
        {
          "output_type": "stream",
          "text": [
            "                    Loss_Amt  total_loss_amt\n",
            "forecast_YrMo                               \n",
            "2019-07        491221.032216    4.912210e+05\n",
            "2019-08        467684.224516    9.410500e+05\n",
            "2019-09        420224.362580    1.295802e+06\n",
            "2019-10        404006.921762    1.615409e+06\n",
            "2019-11        461215.667773    1.970257e+06\n",
            "2019-12        498696.319633    2.368525e+06\n",
            "2020-01        420699.428205    2.646739e+06\n",
            "2020-02        333859.183111    2.828354e+06\n",
            "2020-03        294480.734484    2.868386e+06\n",
            "2020-04        241126.588627    2.860442e+06\n",
            "2020-05        248685.054367    2.725611e+06\n",
            "2020-06        189851.995231    2.638590e+06\n",
            "2020-07        160081.705345    2.296121e+06\n",
            "2020-08        143262.976314    2.238915e+06\n",
            "2020-09        126107.536032    2.162726e+06\n",
            "2020-10        118052.320435    2.085798e+06\n",
            "2020-11        127534.336650    1.984719e+06\n",
            "2020-12        127319.653188    1.897248e+06\n",
            "2021-01         97050.264425    1.778308e+06\n",
            "2021-02         69984.666511    1.656991e+06\n",
            "2021-03         53377.092453    1.461212e+06\n",
            "2021-04         36365.117133    1.242437e+06\n",
            "2021-05         22690.178966    8.503178e+05\n",
            "2021-06         10964.083222    6.314833e+05\n",
            "2021-07          1790.989007    3.713815e+05\n",
            "2021-08           798.572076    3.412311e+05\n",
            "2021-09            51.383448    3.359718e+05\n",
            "2021-10            52.518341    3.320348e+05\n",
            "2021-11            63.916390    3.258301e+05\n",
            "2021-12            72.363339    3.215459e+05\n",
            "...                      ...             ...\n",
            "2030-12             0.000000    1.854928e+04\n",
            "2031-01             0.000000    1.854928e+04\n",
            "2031-02             0.000000    1.847596e+04\n",
            "2031-03             0.000000    1.842230e+04\n",
            "2031-04             0.000000    1.725149e+04\n",
            "2031-05             0.000000    1.643806e+04\n",
            "2031-06             0.000000    1.339888e+04\n",
            "2031-07             0.000000    1.196438e+04\n",
            "2031-08             0.000000    1.097744e+04\n",
            "2031-09             0.000000    9.844823e+03\n",
            "2031-10             0.000000    8.651884e+03\n",
            "2031-11             0.000000    7.936470e+03\n",
            "2031-12             0.000000    6.921790e+03\n",
            "2032-01             0.000000    5.551975e+03\n",
            "2032-02             0.000000    5.033399e+03\n",
            "2032-03             0.000000    4.009036e+03\n",
            "2032-04             0.000000    2.242014e+03\n",
            "2032-05             0.000000    6.871389e+02\n",
            "2032-06             0.000000    5.021007e+02\n",
            "2032-07             0.000000    5.021007e+02\n",
            "2032-08             0.000000    5.021007e+02\n",
            "2032-09             0.000000    5.021007e+02\n",
            "2032-10             0.000000    5.021007e+02\n",
            "2032-11             0.000000    5.021007e+02\n",
            "2032-12             0.000000    5.021007e+02\n",
            "2033-01             0.000000    5.021007e+02\n",
            "2033-02             0.000000    5.021007e+02\n",
            "2033-03             0.000000    5.021007e+02\n",
            "2033-04             0.000000    5.021007e+02\n",
            "2033-05             0.000000    5.021007e+02\n",
            "\n",
            "[167 rows x 2 columns]\n"
          ],
          "name": "stdout"
        }
      ]
    },
    {
      "cell_type": "code",
      "metadata": {
        "collapsed": true,
        "id": "ronIv2GEQMkb",
        "colab_type": "code",
        "colab": {}
      },
      "source": [
        "df_forecast_201907 = df_forecast_30.loc[df_forecast_30['index'] == '2019-Sep-30',['AcctID','forecast_YrMo','adj_PD','adj_PA','ccf_EAD','EAD','Total_Recovery','Loss_Amt']]\n",
        "df_forecast_201907.to_csv('C:\\\\Users\\\\Hu09559\\\\Documents\\\\Consumer\\\\Reserve Forecast\\\\CompareResults_withNaz201909EADSnapshot.csv')"
      ],
      "execution_count": 0,
      "outputs": []
    },
    {
      "cell_type": "code",
      "metadata": {
        "collapsed": true,
        "id": "_cBb56jSQMkc",
        "colab_type": "code",
        "colab": {}
      },
      "source": [
        "df_forecast_201907 = df_forecast_28.loc[df_forecast_28['forecast_YrMo'] == '2019-07',['AcctID','forecast_YrMo','adj_PA','adj_PD','Prev_Total_Loss_Amt']]\n",
        "df_forecast_201907.to_csv('C:\\\\Users\\\\Hu09559\\\\Documents\\\\Consumer\\\\Reserve Forecast\\\\CompareResults_withNaz2021SeptSnapshot.csv')"
      ],
      "execution_count": 0,
      "outputs": []
    },
    {
      "cell_type": "code",
      "metadata": {
        "id": "oLhS2SeSQMke",
        "colab_type": "code",
        "colab": {},
        "outputId": "6ef61559-ab72-4a89-cda2-889d67b64f45"
      },
      "source": [
        "check_tmp = df_forecast_30.loc[df_forecast_30['AcctID'] == 124702455, ['AcctID','forecast_YrMo','adj_PD','adj_PA','ccf_EAD','EAD','UNPAID_BALANCE_AMT','principal_payment','PrinPayment_L6mon']]\n",
        "print(check_tmp)"
      ],
      "execution_count": 0,
      "outputs": [
        {
          "output_type": "stream",
          "text": [
            "          AcctID forecast_YrMo    adj_PD    adj_PA  ccf_EAD            EAD  \\\n",
            "50300  124702455       2019-07  0.000783  0.033901      NaN  641036.840000   \n",
            "50301  124702455       2019-08  0.000709  0.033862      NaN  471826.489978   \n",
            "50302  124702455       2019-09  0.000652  0.029682      NaN  471864.351332   \n",
            "50303  124702455       2019-10  0.000661  0.029516      NaN  309209.638062   \n",
            "\n",
            "       UNPAID_BALANCE_AMT  principal_payment  PrinPayment_L6mon  \n",
            "50300           641036.84                NaN          157728.28  \n",
            "50301           641036.84                NaN          157728.28  \n",
            "50302           641036.84                NaN          157728.28  \n",
            "50303           641036.84                NaN          157728.28  \n"
          ],
          "name": "stdout"
        }
      ]
    },
    {
      "cell_type": "code",
      "metadata": {
        "collapsed": true,
        "id": "YZwHTGWfQMkh",
        "colab_type": "code",
        "colab": {}
      },
      "source": [
        ""
      ],
      "execution_count": 0,
      "outputs": []
    },
    {
      "cell_type": "code",
      "metadata": {
        "collapsed": true,
        "id": "g1ayrP70QMkj",
        "colab_type": "code",
        "colab": {}
      },
      "source": [
        ""
      ],
      "execution_count": 0,
      "outputs": []
    },
    {
      "cell_type": "code",
      "metadata": {
        "collapsed": true,
        "id": "nsloFxD0QMkl",
        "colab_type": "code",
        "colab": {}
      },
      "source": [
        ""
      ],
      "execution_count": 0,
      "outputs": []
    },
    {
      "cell_type": "code",
      "metadata": {
        "collapsed": true,
        "id": "QsD4mmbyQMkn",
        "colab_type": "code",
        "colab": {}
      },
      "source": [
        ""
      ],
      "execution_count": 0,
      "outputs": []
    },
    {
      "cell_type": "code",
      "metadata": {
        "collapsed": true,
        "id": "T4OAGdRZQMkp",
        "colab_type": "code",
        "colab": {}
      },
      "source": [
        ""
      ],
      "execution_count": 0,
      "outputs": []
    },
    {
      "cell_type": "code",
      "metadata": {
        "collapsed": true,
        "id": "4CzhoPShQMks",
        "colab_type": "code",
        "colab": {}
      },
      "source": [
        ""
      ],
      "execution_count": 0,
      "outputs": []
    },
    {
      "cell_type": "code",
      "metadata": {
        "collapsed": true,
        "id": "4i36LLw6QMkt",
        "colab_type": "code",
        "colab": {}
      },
      "source": [
        ""
      ],
      "execution_count": 0,
      "outputs": []
    },
    {
      "cell_type": "code",
      "metadata": {
        "collapsed": true,
        "id": "ixzgLPheQMkv",
        "colab_type": "code",
        "colab": {}
      },
      "source": [
        ""
      ],
      "execution_count": 0,
      "outputs": []
    },
    {
      "cell_type": "code",
      "metadata": {
        "collapsed": true,
        "id": "Jl6ZA9z6QMkx",
        "colab_type": "code",
        "colab": {}
      },
      "source": [
        ""
      ],
      "execution_count": 0,
      "outputs": []
    },
    {
      "cell_type": "code",
      "metadata": {
        "collapsed": true,
        "id": "y9vnPomLQMkz",
        "colab_type": "code",
        "colab": {}
      },
      "source": [
        ""
      ],
      "execution_count": 0,
      "outputs": []
    },
    {
      "cell_type": "code",
      "metadata": {
        "collapsed": true,
        "id": "GXnuCTgNQMk0",
        "colab_type": "code",
        "colab": {}
      },
      "source": [
        ""
      ],
      "execution_count": 0,
      "outputs": []
    },
    {
      "cell_type": "code",
      "metadata": {
        "collapsed": true,
        "id": "xUhKZvwNQMlJ",
        "colab_type": "code",
        "colab": {}
      },
      "source": [
        ""
      ],
      "execution_count": 0,
      "outputs": []
    },
    {
      "cell_type": "code",
      "metadata": {
        "collapsed": true,
        "id": "fJvGsqTEQMlL",
        "colab_type": "code",
        "colab": {}
      },
      "source": [
        ""
      ],
      "execution_count": 0,
      "outputs": []
    },
    {
      "cell_type": "code",
      "metadata": {
        "collapsed": true,
        "id": "ueLErINKQMlP",
        "colab_type": "code",
        "colab": {}
      },
      "source": [
        ""
      ],
      "execution_count": 0,
      "outputs": []
    },
    {
      "cell_type": "code",
      "metadata": {
        "collapsed": true,
        "id": "GdJ-EifsQMlV",
        "colab_type": "code",
        "colab": {}
      },
      "source": [
        ""
      ],
      "execution_count": 0,
      "outputs": []
    },
    {
      "cell_type": "code",
      "metadata": {
        "id": "gkxoILWXQMlY",
        "colab_type": "code",
        "colab": {},
        "outputId": "ce3997c7-f74e-48ee-8b73-a1085d84c3d0"
      },
      "source": [
        "df_forecast_28['last_period_balance'] = df_forecast_28.groupby(['AcctID'])['UNPAID_BALANCE_AMT'].shift(1)\n",
        "print(df_forecast_28[['AcctID', 'forecast_YrMo', 'UNPAID_BALANCE_AMT', 'last_period_balance']])"
      ],
      "execution_count": 0,
      "outputs": [
        {
          "output_type": "stream",
          "text": [
            "           AcctID forecast_YrMo  UNPAID_BALANCE_AMT  last_period_balance\n",
            "0       100000170       2019-07                0.00                  NaN\n",
            "1       100000170       2019-08                0.00                 0.00\n",
            "2       100000170       2019-09                0.00                 0.00\n",
            "3       100000170       2019-10                0.00                 0.00\n",
            "4       100000245       2019-07           162598.12                  NaN\n",
            "5       100000245       2019-08           162598.12            162598.12\n",
            "6       100000245       2019-09           162598.12            162598.12\n",
            "7       100000245       2019-10           162598.12            162598.12\n",
            "8       100000245       2019-11           162598.12            162598.12\n",
            "9       100000245       2019-12           162598.12            162598.12\n",
            "10      100000245       2020-01           162598.12            162598.12\n",
            "11      100000245       2020-02           162598.12            162598.12\n",
            "12      100000245       2020-03           162598.12            162598.12\n",
            "13      100001161       2019-07                0.00                  NaN\n",
            "14      100001161       2019-08                0.00                 0.00\n",
            "15      100001161       2019-09                0.00                 0.00\n",
            "16      100001161       2019-10                0.00                 0.00\n",
            "17      100001250       2019-07             4748.54                  NaN\n",
            "18      100001250       2019-08             4748.54              4748.54\n",
            "19      100001250       2019-09             4748.54              4748.54\n",
            "20      100001250       2019-10             4748.54              4748.54\n",
            "21      100001250       2019-11             4748.54              4748.54\n",
            "22      100001250       2019-12             4748.54              4748.54\n",
            "23       10000128       2019-07                0.00                  NaN\n",
            "24       10000128       2019-08                0.00                 0.00\n",
            "25       10000128       2019-09                0.00                 0.00\n",
            "26       10000128       2019-10                0.00                 0.00\n",
            "27       10000128       2019-11                0.00                 0.00\n",
            "28       10000128       2019-12                0.00                 0.00\n",
            "29       10000128       2020-01                0.00                 0.00\n",
            "...           ...           ...                 ...                  ...\n",
            "401405   99400389       2020-10             3292.72              3292.72\n",
            "401406   99400389       2020-11             3292.72              3292.72\n",
            "401407   99400389       2020-12             3292.72              3292.72\n",
            "401408   99400389       2021-01             3292.72              3292.72\n",
            "401409   99400389       2021-02             3292.72              3292.72\n",
            "401410   99400389       2021-03             3292.72              3292.72\n",
            "401411   99400389       2021-04             3292.72              3292.72\n",
            "401412   99400389       2021-05             3292.72              3292.72\n",
            "401413       9941       2019-07                0.00                  NaN\n",
            "401414       9941       2019-08                0.00                 0.00\n",
            "401415       9941       2019-09                0.00                 0.00\n",
            "401416       9941       2019-10                0.00                 0.00\n",
            "401417       9941       2019-11                0.00                 0.00\n",
            "401418       9941       2019-12                0.00                 0.00\n",
            "401419       9941       2020-01                0.00                 0.00\n",
            "401420       9941       2020-02                0.00                 0.00\n",
            "401421       9941       2020-03                0.00                 0.00\n",
            "401422       9941       2020-04                0.00                 0.00\n",
            "401423       9941       2020-05                0.00                 0.00\n",
            "401424       9941       2020-06                0.00                 0.00\n",
            "401425       9941       2020-07                0.00                 0.00\n",
            "401426       9941       2020-08                0.00                 0.00\n",
            "401427       9941       2020-09                0.00                 0.00\n",
            "401428       9941       2020-10                0.00                 0.00\n",
            "401429       9941       2020-11                0.00                 0.00\n",
            "401430       9941       2020-12                0.00                 0.00\n",
            "401431       9945       2019-07                0.00                  NaN\n",
            "401432       9945       2019-08                0.00                 0.00\n",
            "401433       9996       2019-07                0.00                  NaN\n",
            "401434       9996       2019-08                0.00                 0.00\n",
            "\n",
            "[401435 rows x 4 columns]\n"
          ],
          "name": "stdout"
        }
      ]
    },
    {
      "cell_type": "code",
      "metadata": {
        "id": "zimgt1C2QMla",
        "colab_type": "code",
        "colab": {},
        "outputId": "9503a84a-cba7-4c33-eab4-25290edfe1e2"
      },
      "source": [
        "# df_forecast_28.loc[df_forecast_28['RevolveIn'] == 1, 'current_balance'] = df_forecast_28['OpenAmt_YrMo'] * df_forecast_28['Utilization_Rate']\n",
        "# df_forecast_28['Revolve_1'] =  df_forecast_28['Revolve_1'].astype(int)\n",
        "df_forecast_28.loc[df_forecast_28['Revolve_1'] == 1, 'current_balance'] = df_forecast_28['OpenAmt_YrMo'] * df_forecast_28['Utilization_Rate']"
      ],
      "execution_count": 0,
      "outputs": [
        {
          "output_type": "error",
          "ename": "TypeError",
          "evalue": "'<' not supported between instances of 'str' and 'int'",
          "traceback": [
            "\u001b[1;31m---------------------------------------------------------------------------\u001b[0m",
            "\u001b[1;31mTypeError\u001b[0m                                 Traceback (most recent call last)",
            "\u001b[1;32m<ipython-input-914-6e843d7fee3c>\u001b[0m in \u001b[0;36m<module>\u001b[1;34m()\u001b[0m\n\u001b[0;32m      1\u001b[0m \u001b[1;31m# df_forecast_28.loc[df_forecast_28['RevolveIn'] == 1, 'current_balance'] = df_forecast_28['OpenAmt_YrMo'] * df_forecast_28['Utilization_Rate']\u001b[0m\u001b[1;33m\u001b[0m\u001b[1;33m\u001b[0m\u001b[0m\n\u001b[0;32m      2\u001b[0m \u001b[0mdf_forecast_28\u001b[0m\u001b[1;33m[\u001b[0m\u001b[1;34m'Revolve_1'\u001b[0m\u001b[1;33m]\u001b[0m \u001b[1;33m=\u001b[0m  \u001b[0mdf_forecast_28\u001b[0m\u001b[1;33m[\u001b[0m\u001b[1;34m'Revolve_1'\u001b[0m\u001b[1;33m]\u001b[0m\u001b[1;33m.\u001b[0m\u001b[0mastype\u001b[0m\u001b[1;33m(\u001b[0m\u001b[0mstr\u001b[0m\u001b[1;33m)\u001b[0m\u001b[1;33m\u001b[0m\u001b[0m\n\u001b[1;32m----> 3\u001b[1;33m \u001b[0mdf_forecast_28\u001b[0m\u001b[1;33m.\u001b[0m\u001b[0mloc\u001b[0m\u001b[1;33m[\u001b[0m\u001b[0mdf_forecast_28\u001b[0m\u001b[1;33m[\u001b[0m\u001b[1;34m'Revolve_1'\u001b[0m\u001b[1;33m]\u001b[0m \u001b[1;33m==\u001b[0m \u001b[1;34m'1'\u001b[0m\u001b[1;33m,\u001b[0m \u001b[1;34m'current_balance'\u001b[0m\u001b[1;33m]\u001b[0m \u001b[1;33m=\u001b[0m \u001b[0mdf_forecast_28\u001b[0m\u001b[1;33m[\u001b[0m\u001b[1;34m'OpenAmt_YrMo'\u001b[0m\u001b[1;33m]\u001b[0m \u001b[1;33m*\u001b[0m \u001b[0mdf_forecast_28\u001b[0m\u001b[1;33m[\u001b[0m\u001b[1;34m'Utilization_Rate'\u001b[0m\u001b[1;33m]\u001b[0m\u001b[1;33m\u001b[0m\u001b[0m\n\u001b[0m",
            "\u001b[1;32mC:\\ProgramData\\Anaconda3\\lib\\site-packages\\pandas\\core\\ops.py\u001b[0m in \u001b[0;36mf\u001b[1;34m(self, other, axis, level, fill_value)\u001b[0m\n\u001b[0;32m   1234\u001b[0m             \u001b[1;32mreturn\u001b[0m \u001b[0mself\u001b[0m\u001b[1;33m.\u001b[0m\u001b[0m_combine_frame\u001b[0m\u001b[1;33m(\u001b[0m\u001b[0mother\u001b[0m\u001b[1;33m,\u001b[0m \u001b[0mna_op\u001b[0m\u001b[1;33m,\u001b[0m \u001b[0mfill_value\u001b[0m\u001b[1;33m,\u001b[0m \u001b[0mlevel\u001b[0m\u001b[1;33m)\u001b[0m\u001b[1;33m\u001b[0m\u001b[0m\n\u001b[0;32m   1235\u001b[0m         \u001b[1;32melif\u001b[0m \u001b[0misinstance\u001b[0m\u001b[1;33m(\u001b[0m\u001b[0mother\u001b[0m\u001b[1;33m,\u001b[0m \u001b[0mABCSeries\u001b[0m\u001b[1;33m)\u001b[0m\u001b[1;33m:\u001b[0m\u001b[1;33m\u001b[0m\u001b[0m\n\u001b[1;32m-> 1236\u001b[1;33m             \u001b[1;32mreturn\u001b[0m \u001b[0mself\u001b[0m\u001b[1;33m.\u001b[0m\u001b[0m_combine_series\u001b[0m\u001b[1;33m(\u001b[0m\u001b[0mother\u001b[0m\u001b[1;33m,\u001b[0m \u001b[0mna_op\u001b[0m\u001b[1;33m,\u001b[0m \u001b[0mfill_value\u001b[0m\u001b[1;33m,\u001b[0m \u001b[0maxis\u001b[0m\u001b[1;33m,\u001b[0m \u001b[0mlevel\u001b[0m\u001b[1;33m)\u001b[0m\u001b[1;33m\u001b[0m\u001b[0m\n\u001b[0m\u001b[0;32m   1237\u001b[0m         \u001b[1;32melse\u001b[0m\u001b[1;33m:\u001b[0m\u001b[1;33m\u001b[0m\u001b[0m\n\u001b[0;32m   1238\u001b[0m             \u001b[1;32mif\u001b[0m \u001b[0mfill_value\u001b[0m \u001b[1;32mis\u001b[0m \u001b[1;32mnot\u001b[0m \u001b[1;32mNone\u001b[0m\u001b[1;33m:\u001b[0m\u001b[1;33m\u001b[0m\u001b[0m\n",
            "\u001b[1;32mC:\\ProgramData\\Anaconda3\\lib\\site-packages\\pandas\\core\\frame.py\u001b[0m in \u001b[0;36m_combine_series\u001b[1;34m(self, other, func, fill_value, axis, level)\u001b[0m\n\u001b[0;32m   3504\u001b[0m                                                    fill_value=fill_value)\n\u001b[0;32m   3505\u001b[0m         return self._combine_series_infer(other, func, level=level,\n\u001b[1;32m-> 3506\u001b[1;33m                                           fill_value=fill_value)\n\u001b[0m\u001b[0;32m   3507\u001b[0m \u001b[1;33m\u001b[0m\u001b[0m\n\u001b[0;32m   3508\u001b[0m     \u001b[1;32mdef\u001b[0m \u001b[0m_combine_series_infer\u001b[0m\u001b[1;33m(\u001b[0m\u001b[0mself\u001b[0m\u001b[1;33m,\u001b[0m \u001b[0mother\u001b[0m\u001b[1;33m,\u001b[0m \u001b[0mfunc\u001b[0m\u001b[1;33m,\u001b[0m \u001b[0mlevel\u001b[0m\u001b[1;33m=\u001b[0m\u001b[1;32mNone\u001b[0m\u001b[1;33m,\u001b[0m \u001b[0mfill_value\u001b[0m\u001b[1;33m=\u001b[0m\u001b[1;32mNone\u001b[0m\u001b[1;33m)\u001b[0m\u001b[1;33m:\u001b[0m\u001b[1;33m\u001b[0m\u001b[0m\n",
            "\u001b[1;32mC:\\ProgramData\\Anaconda3\\lib\\site-packages\\pandas\\core\\frame.py\u001b[0m in \u001b[0;36m_combine_series_infer\u001b[1;34m(self, other, func, level, fill_value)\u001b[0m\n\u001b[0;32m   3516\u001b[0m \u001b[1;33m\u001b[0m\u001b[0m\n\u001b[0;32m   3517\u001b[0m         return self._combine_match_columns(other, func, level=level,\n\u001b[1;32m-> 3518\u001b[1;33m                                            fill_value=fill_value)\n\u001b[0m\u001b[0;32m   3519\u001b[0m \u001b[1;33m\u001b[0m\u001b[0m\n\u001b[0;32m   3520\u001b[0m     \u001b[1;32mdef\u001b[0m \u001b[0m_combine_match_index\u001b[0m\u001b[1;33m(\u001b[0m\u001b[0mself\u001b[0m\u001b[1;33m,\u001b[0m \u001b[0mother\u001b[0m\u001b[1;33m,\u001b[0m \u001b[0mfunc\u001b[0m\u001b[1;33m,\u001b[0m \u001b[0mlevel\u001b[0m\u001b[1;33m=\u001b[0m\u001b[1;32mNone\u001b[0m\u001b[1;33m,\u001b[0m \u001b[0mfill_value\u001b[0m\u001b[1;33m=\u001b[0m\u001b[1;32mNone\u001b[0m\u001b[1;33m)\u001b[0m\u001b[1;33m:\u001b[0m\u001b[1;33m\u001b[0m\u001b[0m\n",
            "\u001b[1;32mC:\\ProgramData\\Anaconda3\\lib\\site-packages\\pandas\\core\\frame.py\u001b[0m in \u001b[0;36m_combine_match_columns\u001b[1;34m(self, other, func, level, fill_value)\u001b[0m\n\u001b[0;32m   3530\u001b[0m     \u001b[1;32mdef\u001b[0m \u001b[0m_combine_match_columns\u001b[0m\u001b[1;33m(\u001b[0m\u001b[0mself\u001b[0m\u001b[1;33m,\u001b[0m \u001b[0mother\u001b[0m\u001b[1;33m,\u001b[0m \u001b[0mfunc\u001b[0m\u001b[1;33m,\u001b[0m \u001b[0mlevel\u001b[0m\u001b[1;33m=\u001b[0m\u001b[1;32mNone\u001b[0m\u001b[1;33m,\u001b[0m \u001b[0mfill_value\u001b[0m\u001b[1;33m=\u001b[0m\u001b[1;32mNone\u001b[0m\u001b[1;33m)\u001b[0m\u001b[1;33m:\u001b[0m\u001b[1;33m\u001b[0m\u001b[0m\n\u001b[0;32m   3531\u001b[0m         left, right = self.align(other, join='outer', axis=1, level=level,\n\u001b[1;32m-> 3532\u001b[1;33m                                  copy=False)\n\u001b[0m\u001b[0;32m   3533\u001b[0m         \u001b[1;32mif\u001b[0m \u001b[0mfill_value\u001b[0m \u001b[1;32mis\u001b[0m \u001b[1;32mnot\u001b[0m \u001b[1;32mNone\u001b[0m\u001b[1;33m:\u001b[0m\u001b[1;33m\u001b[0m\u001b[0m\n\u001b[0;32m   3534\u001b[0m             raise NotImplementedError(\"fill_value %r not supported\" %\n",
            "\u001b[1;32mC:\\ProgramData\\Anaconda3\\lib\\site-packages\\pandas\\core\\frame.py\u001b[0m in \u001b[0;36malign\u001b[1;34m(self, other, join, axis, level, copy, fill_value, method, limit, fill_axis, broadcast_axis)\u001b[0m\n\u001b[0;32m   2726\u001b[0m                                             \u001b[0mmethod\u001b[0m\u001b[1;33m=\u001b[0m\u001b[0mmethod\u001b[0m\u001b[1;33m,\u001b[0m \u001b[0mlimit\u001b[0m\u001b[1;33m=\u001b[0m\u001b[0mlimit\u001b[0m\u001b[1;33m,\u001b[0m\u001b[1;33m\u001b[0m\u001b[0m\n\u001b[0;32m   2727\u001b[0m                                             \u001b[0mfill_axis\u001b[0m\u001b[1;33m=\u001b[0m\u001b[0mfill_axis\u001b[0m\u001b[1;33m,\u001b[0m\u001b[1;33m\u001b[0m\u001b[0m\n\u001b[1;32m-> 2728\u001b[1;33m                                             broadcast_axis=broadcast_axis)\n\u001b[0m\u001b[0;32m   2729\u001b[0m \u001b[1;33m\u001b[0m\u001b[0m\n\u001b[0;32m   2730\u001b[0m     \u001b[1;33m@\u001b[0m\u001b[0mAppender\u001b[0m\u001b[1;33m(\u001b[0m\u001b[0m_shared_docs\u001b[0m\u001b[1;33m[\u001b[0m\u001b[1;34m'reindex'\u001b[0m\u001b[1;33m]\u001b[0m \u001b[1;33m%\u001b[0m \u001b[0m_shared_doc_kwargs\u001b[0m\u001b[1;33m)\u001b[0m\u001b[1;33m\u001b[0m\u001b[0m\n",
            "\u001b[1;32mC:\\ProgramData\\Anaconda3\\lib\\site-packages\\pandas\\core\\generic.py\u001b[0m in \u001b[0;36malign\u001b[1;34m(self, other, join, axis, level, copy, fill_value, method, limit, fill_axis, broadcast_axis)\u001b[0m\n\u001b[0;32m   4935\u001b[0m                                       \u001b[0mcopy\u001b[0m\u001b[1;33m=\u001b[0m\u001b[0mcopy\u001b[0m\u001b[1;33m,\u001b[0m \u001b[0mfill_value\u001b[0m\u001b[1;33m=\u001b[0m\u001b[0mfill_value\u001b[0m\u001b[1;33m,\u001b[0m\u001b[1;33m\u001b[0m\u001b[0m\n\u001b[0;32m   4936\u001b[0m                                       \u001b[0mmethod\u001b[0m\u001b[1;33m=\u001b[0m\u001b[0mmethod\u001b[0m\u001b[1;33m,\u001b[0m \u001b[0mlimit\u001b[0m\u001b[1;33m=\u001b[0m\u001b[0mlimit\u001b[0m\u001b[1;33m,\u001b[0m\u001b[1;33m\u001b[0m\u001b[0m\n\u001b[1;32m-> 4937\u001b[1;33m                                       fill_axis=fill_axis)\n\u001b[0m\u001b[0;32m   4938\u001b[0m         \u001b[1;32melse\u001b[0m\u001b[1;33m:\u001b[0m  \u001b[1;31m# pragma: no cover\u001b[0m\u001b[1;33m\u001b[0m\u001b[0m\n\u001b[0;32m   4939\u001b[0m             \u001b[1;32mraise\u001b[0m \u001b[0mTypeError\u001b[0m\u001b[1;33m(\u001b[0m\u001b[1;34m'unsupported type: %s'\u001b[0m \u001b[1;33m%\u001b[0m \u001b[0mtype\u001b[0m\u001b[1;33m(\u001b[0m\u001b[0mother\u001b[0m\u001b[1;33m)\u001b[0m\u001b[1;33m)\u001b[0m\u001b[1;33m\u001b[0m\u001b[0m\n",
            "\u001b[1;32mC:\\ProgramData\\Anaconda3\\lib\\site-packages\\pandas\\core\\generic.py\u001b[0m in \u001b[0;36m_align_series\u001b[1;34m(self, other, join, axis, level, copy, fill_value, method, limit, fill_axis)\u001b[0m\n\u001b[0;32m   5029\u001b[0m                     join_index, lidx, ridx = self.columns.join(\n\u001b[0;32m   5030\u001b[0m                         \u001b[0mother\u001b[0m\u001b[1;33m.\u001b[0m\u001b[0mindex\u001b[0m\u001b[1;33m,\u001b[0m \u001b[0mhow\u001b[0m\u001b[1;33m=\u001b[0m\u001b[0mjoin\u001b[0m\u001b[1;33m,\u001b[0m \u001b[0mlevel\u001b[0m\u001b[1;33m=\u001b[0m\u001b[0mlevel\u001b[0m\u001b[1;33m,\u001b[0m\u001b[1;33m\u001b[0m\u001b[0m\n\u001b[1;32m-> 5031\u001b[1;33m                         return_indexers=True)\n\u001b[0m\u001b[0;32m   5032\u001b[0m \u001b[1;33m\u001b[0m\u001b[0m\n\u001b[0;32m   5033\u001b[0m                 \u001b[1;32mif\u001b[0m \u001b[0mlidx\u001b[0m \u001b[1;32mis\u001b[0m \u001b[1;32mnot\u001b[0m \u001b[1;32mNone\u001b[0m\u001b[1;33m:\u001b[0m\u001b[1;33m\u001b[0m\u001b[0m\n",
            "\u001b[1;32mC:\\ProgramData\\Anaconda3\\lib\\site-packages\\pandas\\core\\indexes\\base.py\u001b[0m in \u001b[0;36mjoin\u001b[1;34m(self, other, how, level, return_indexers, sort)\u001b[0m\n\u001b[0;32m   3031\u001b[0m             \u001b[0mthis\u001b[0m \u001b[1;33m=\u001b[0m \u001b[0mself\u001b[0m\u001b[1;33m.\u001b[0m\u001b[0mastype\u001b[0m\u001b[1;33m(\u001b[0m\u001b[1;34m'O'\u001b[0m\u001b[1;33m)\u001b[0m\u001b[1;33m\u001b[0m\u001b[0m\n\u001b[0;32m   3032\u001b[0m             \u001b[0mother\u001b[0m \u001b[1;33m=\u001b[0m \u001b[0mother\u001b[0m\u001b[1;33m.\u001b[0m\u001b[0mastype\u001b[0m\u001b[1;33m(\u001b[0m\u001b[1;34m'O'\u001b[0m\u001b[1;33m)\u001b[0m\u001b[1;33m\u001b[0m\u001b[0m\n\u001b[1;32m-> 3033\u001b[1;33m             \u001b[1;32mreturn\u001b[0m \u001b[0mthis\u001b[0m\u001b[1;33m.\u001b[0m\u001b[0mjoin\u001b[0m\u001b[1;33m(\u001b[0m\u001b[0mother\u001b[0m\u001b[1;33m,\u001b[0m \u001b[0mhow\u001b[0m\u001b[1;33m=\u001b[0m\u001b[0mhow\u001b[0m\u001b[1;33m,\u001b[0m \u001b[0mreturn_indexers\u001b[0m\u001b[1;33m=\u001b[0m\u001b[0mreturn_indexers\u001b[0m\u001b[1;33m)\u001b[0m\u001b[1;33m\u001b[0m\u001b[0m\n\u001b[0m\u001b[0;32m   3034\u001b[0m \u001b[1;33m\u001b[0m\u001b[0m\n\u001b[0;32m   3035\u001b[0m         \u001b[0m_validate_join_method\u001b[0m\u001b[1;33m(\u001b[0m\u001b[0mhow\u001b[0m\u001b[1;33m)\u001b[0m\u001b[1;33m\u001b[0m\u001b[0m\n",
            "\u001b[1;32mC:\\ProgramData\\Anaconda3\\lib\\site-packages\\pandas\\core\\indexes\\base.py\u001b[0m in \u001b[0;36mjoin\u001b[1;34m(self, other, how, level, return_indexers, sort)\u001b[0m\n\u001b[0;32m   3041\u001b[0m             \u001b[1;32mif\u001b[0m \u001b[0mself\u001b[0m\u001b[1;33m.\u001b[0m\u001b[0mis_monotonic\u001b[0m \u001b[1;32mand\u001b[0m \u001b[0mother\u001b[0m\u001b[1;33m.\u001b[0m\u001b[0mis_monotonic\u001b[0m\u001b[1;33m:\u001b[0m\u001b[1;33m\u001b[0m\u001b[0m\n\u001b[0;32m   3042\u001b[0m                 return self._join_monotonic(other, how=how,\n\u001b[1;32m-> 3043\u001b[1;33m                                             return_indexers=return_indexers)\n\u001b[0m\u001b[0;32m   3044\u001b[0m             \u001b[1;32melse\u001b[0m\u001b[1;33m:\u001b[0m\u001b[1;33m\u001b[0m\u001b[0m\n\u001b[0;32m   3045\u001b[0m                 return self._join_non_unique(other, how=how,\n",
            "\u001b[1;32mC:\\ProgramData\\Anaconda3\\lib\\site-packages\\pandas\\core\\indexes\\base.py\u001b[0m in \u001b[0;36m_join_monotonic\u001b[1;34m(self, other, how, return_indexers)\u001b[0m\n\u001b[0;32m   3306\u001b[0m                 \u001b[0mjoin_index\u001b[0m\u001b[1;33m,\u001b[0m \u001b[0mlidx\u001b[0m\u001b[1;33m,\u001b[0m \u001b[0mridx\u001b[0m \u001b[1;33m=\u001b[0m \u001b[0mself\u001b[0m\u001b[1;33m.\u001b[0m\u001b[0m_inner_indexer\u001b[0m\u001b[1;33m(\u001b[0m\u001b[0msv\u001b[0m\u001b[1;33m,\u001b[0m \u001b[0mov\u001b[0m\u001b[1;33m)\u001b[0m\u001b[1;33m\u001b[0m\u001b[0m\n\u001b[0;32m   3307\u001b[0m             \u001b[1;32melif\u001b[0m \u001b[0mhow\u001b[0m \u001b[1;33m==\u001b[0m \u001b[1;34m'outer'\u001b[0m\u001b[1;33m:\u001b[0m\u001b[1;33m\u001b[0m\u001b[0m\n\u001b[1;32m-> 3308\u001b[1;33m                 \u001b[0mjoin_index\u001b[0m\u001b[1;33m,\u001b[0m \u001b[0mlidx\u001b[0m\u001b[1;33m,\u001b[0m \u001b[0mridx\u001b[0m \u001b[1;33m=\u001b[0m \u001b[0mself\u001b[0m\u001b[1;33m.\u001b[0m\u001b[0m_outer_indexer\u001b[0m\u001b[1;33m(\u001b[0m\u001b[0msv\u001b[0m\u001b[1;33m,\u001b[0m \u001b[0mov\u001b[0m\u001b[1;33m)\u001b[0m\u001b[1;33m\u001b[0m\u001b[0m\n\u001b[0m\u001b[0;32m   3309\u001b[0m             \u001b[0mjoin_index\u001b[0m \u001b[1;33m=\u001b[0m \u001b[0mself\u001b[0m\u001b[1;33m.\u001b[0m\u001b[0m_wrap_joined_index\u001b[0m\u001b[1;33m(\u001b[0m\u001b[0mjoin_index\u001b[0m\u001b[1;33m,\u001b[0m \u001b[0mother\u001b[0m\u001b[1;33m)\u001b[0m\u001b[1;33m\u001b[0m\u001b[0m\n\u001b[0;32m   3310\u001b[0m \u001b[1;33m\u001b[0m\u001b[0m\n",
            "\u001b[1;32mpandas\\_libs\\join_helper.pxi\u001b[0m in \u001b[0;36mpandas._libs.join.outer_join_indexer_object\u001b[1;34m()\u001b[0m\n",
            "\u001b[1;31mTypeError\u001b[0m: '<' not supported between instances of 'str' and 'int'"
          ]
        }
      ]
    },
    {
      "cell_type": "code",
      "metadata": {
        "collapsed": true,
        "id": "W3kPnEHeQMle",
        "colab_type": "code",
        "colab": {}
      },
      "source": [
        "# "
      ],
      "execution_count": 0,
      "outputs": []
    },
    {
      "cell_type": "code",
      "metadata": {
        "id": "_LTsyqJaQMlg",
        "colab_type": "code",
        "colab": {},
        "outputId": "bf1b36d6-7ea8-4734-a908-da98187f7d7d"
      },
      "source": [
        "print(list(df_forecast_28))"
      ],
      "execution_count": 0,
      "outputs": [
        {
          "output_type": "stream",
          "text": [
            "['index', 'AcctID', 'INSTID', 'ProdCd_YrMo_x', 'EOMOpenDt_YrMo', 'OpenDt_str', 'EOMMaturityDt_YrMo', 'MaturityDate_mon', 'OpenAmt_YrMo', 'Term_Origin', 'EFFECTIVE_INTEREST_RT', 'RevolveIn', 'segment_level_0', 'segment_level_1', 'vintage_year', 'IntRt_flag_GE15', 'utilization_rate', 'PMT_L6MO', 'Age_mon', 'OpenDt_Dt', 'OpenDt_YrMo', 'Vintage_Days', 'MaturityDate_dt', 'NetGLOutstandingBalance', 'OpenAmt_YrMo', 'PrinPayment_L6mon', 'forecast_YrMo', 'forecast_mon', 'ssn_mon', 'Date', 'gspTX', 'itbyBAA', 'byAAA', 'gspTX_22m_LogRatio_3m_lag', 'gspTX_12m_LogRatio_7m_change_11m_lag', 'itbyBAA_24m_Diff_12m_lag', 'byAAA_9m_lag', 'pd_age_component', 'pd_age_lookup_key', 'pd_ssn_lookup_key', 'pd_ssn_component', 'pd_vint_lookup_key', 'pd_vintage_component', 'age_seg_key', 'vint_seg_key', 'ssn_seg_key', 'forecast_YrMo_1', 'time_seg_key', 'pa_age_component', '_name__x', 'pa_ssn_component', '_name__y', '_name__x', 'pa_vint_component', 'pa_time_component', '_name__y', 'PA', 'pd_time_component', 'PD', 'ProdCd_recovery', 'ProdCd_YrMo_y', 'Recovery', 'Intercept', 'ProdCd_flag_PLC', 'ProdCd_flag_PLU', 'ProdCd_flag_UNS', 'Age', 'Revolve_1', 'LGD', 'LGD_CGD', 'adj_PD', 'adj_PA', 'POD', 'cum_POD', 'POA']\n"
          ],
          "name": "stdout"
        }
      ]
    },
    {
      "cell_type": "markdown",
      "metadata": {
        "collapsed": true,
        "id": "9oIVNab1QMli",
        "colab_type": "text"
      },
      "source": [
        "#### read in the PrinPayment file prepared by Brennan"
      ]
    },
    {
      "cell_type": "code",
      "metadata": {
        "collapsed": true,
        "id": "UQaFIZm2QMlk",
        "colab_type": "code",
        "colab": {}
      },
      "source": [
        "Prin_Payment = pd.read_csv('C:\\\\Users\\\\Hu09559\\\\Documents\\\\Consumer\\\\Reserve Forecast\\\\PORTFOLIO_FLAT_PrinPayment_L6mon.csv')"
      ],
      "execution_count": 0,
      "outputs": []
    },
    {
      "cell_type": "code",
      "metadata": {
        "id": "4A_SBXMoQMll",
        "colab_type": "code",
        "colab": {},
        "outputId": "c6f65b09-2f7c-4fef-dbd9-771e8f0eaf78"
      },
      "source": [
        "# Prin_all = pd.merge(Prin_Payment, data_snapshot, on = 'INSTID', how = 'left')\n",
        "print(list(Prin_all.columns[Prin_all.columns.str.contains('Rev')]))"
      ],
      "execution_count": 0,
      "outputs": [
        {
          "output_type": "stream",
          "text": [
            "['RevolveIn', 'CI_NonRev_Ind', 'CI_Rev_Ind']\n"
          ],
          "name": "stdout"
        }
      ]
    },
    {
      "cell_type": "code",
      "metadata": {
        "id": "Vi9ACdzXQMln",
        "colab_type": "code",
        "colab": {},
        "outputId": "d7434100-e054-46d7-f998-a9e539fb3efb"
      },
      "source": [
        "print(list(Prin_all.columns))"
      ],
      "execution_count": 0,
      "outputs": [
        {
          "output_type": "stream",
          "text": [
            "['REPORTING_DT_x', 'YrMo_x', 'INSTID', 'NetGLOutstandingBalance_x', 'PrinPayment_L6mon', '_batch_var_', 'REPORTING_DT_y', 'ASOFDATE', 'YrMo_y', 'ENTITY_ID', 'WORKGROUP', 'PRODUCT_TYPE_DESC', 'PORTFOLIO_SEGMENT', 'OLD_PRODUCT_TYPE_DESC_TEMP', 'OLD_PRODUCT_TYPE_DESC', 'QFACTOR_PRODUCT', 'ACCOUNTING_METHOD', 'ASSET_TYPE_DESC', 'INSTTYPE', 'LINE_OF_BUSINESS_DESC', 'CURRENCY', 'SEGMENT_ID', 'PD_SEGMENT_ID', 'START_DT', 'SCHEDULE_START_DT', 'MATURITY_DT', 'PRINCIPAL_PAYMENT_DT', 'INTEREST_PAYMENT_DT', 'NEXT_RESET_DT', 'UNPAID_BALANCE_AMT', 'CURRENT_RT', 'EFFECTIVE_INTEREST_RT', 'MARGIN_RT', 'INDEX_REFERENCE', 'PAYMENT_AMT', 'DAYS_PAST_DUE_CNT', 'MODIFICATION_DT', 'ASSESSMENT_TYPE_DESC', 'COLLATERAL_DESC', 'PENDING_OFFER_FLG', 'DRAWDOWN_PERIOD_FLG', 'ISSUED_GUARANTEE_FLG', 'REVOLVING_FLG', 'OFF_BALANCE_AMT', 'CREDIT_LIMIT_AMT', 'DELINQUENCY_FLG', 'MOST_RECENT_DELINQUENCY_DT', 'SECTOR_DESC', 'COUNTERPARTY_TYPE', 'LOAN_STATUS_DESC', 'GEOGRAPHY_CD', 'CCF', 'INTEREST_RATE_TYPE', 'INTEREST_PAYMENT_PERIOD_CD', 'INTEREST_RESET_PERIOD_CD', 'CAPITAL_PAYMENT_PERIOD_CD', 'PAYMENT_TYPE_CD', 'DAY_BASIS_CD', 'PCD_FLG', 'TDR_FLG', 'FORECLOSURE_FLG', 'RELATED_PARTY_FLG', 'COLLATERAL_SUPPORT_FLG', 'UNCONDITIONALLY_CANCELABLE_FLG', 'ACCRUED_INTEREST_AMT', 'FEE_AMT', 'AMORTIZED_COST_AMT', 'RECOVERY_AMT', 'NONACCRUAL_STATUS_FLG', 'INTEREST_INCOME_ON_NON_ACC_AMT', 'COLLATERAL_VALUE_AMT', 'PCD_PURCHASE_AMT', 'PCD_PAR_AMT', 'PCD_INIT_ALLOW_AMT', 'PCD_PURCHASE_DT', 'CUM_OTHER_ALLOW_AMT', 'TERM0', 'state1', 'GrossOutstandingBalance', 'AcctStatusCd', 'AcctTyCd', 'AcquisitinCd_Origin', 'ProgramCd', 'Advances', 'AvgCustLTV', 'BankruptcyTyDe', 'CAConcentrationTyDe', 'CRBeacon_Origin', 'CallCd', 'Default_Flag', 'ChrgOffBalAmt', 'ChrgOffIn', 'CommitmentIn', 'EOMChrgOffDt', 'EOMCloseDt_Max', 'Closed_Flag', 'Prepay_Flag', 'ILClassCd', 'EOMMaturityDt_Origin', 'EOMMaturityDt_YrMo', 'Loan_MOB', 'EOMOpenDt_YrMo', 'FRCallDe', 'FRCallGroupDe', 'FixedRtIn', 'GrossAvailCreditAmtIncMat', 'ILLedgerCLClassCd', 'IntPayments', 'IntPrepayments', 'LoanPurposeCd', 'LoanSubPurposeCd', 'NetGLOutstandingBalance_y', 'OpenAmt_Origin', 'OpenAmt_YrMo', 'PartCarryByUsPct', 'ParticipationIn', 'PmtModeTyDe', 'PrevStmtDebtToWorthPct', 'PrevStmtNetCashFlowAmt', 'PrevStmtNetIncomeAmt', 'PrevStmtNetWorthAmt', 'PrevStmtTotalLiabilityAmt', 'PrinChargeOffAmt', 'PrinPayments', 'PrinPrepayments', 'ProdCd_Origin', 'ProdCd_YrMo', 'RenewalIn', 'RiskCd', 'RiskCd_Origin', 'RptRegionCd_Origin', 'SECSegmentDe_Origin', 'Model_Segment', 'RevolveIn', 'SECSegmentNr_YrMo', 'SECSegmentDe_YrMo', 'SECSubSegmentDe_YrMo', 'Term_Origin', 'YrMoDt', 'ZipCd', 'REV_TO_TERM_FLG', 'TERM', 'Term_Group1', 'CI_NonRev_Ind', 'CI_Rev_Ind', 'CRE_OO_Ind', 'CRE_CLD_Ind', 'Commercial_Ind', 'Commercial_Mort_Ind', 'Construction_Ind', 'Land_Ind', 'Leases_Ind', 'Service_Ind', 'Acquired_Ind_loan', 'SEC_Commercial_Ind_loan', 'SEC_Leases_Ind_loan', 'CAC_Office_Build_Ind_loan', 'CAC_Office_WHouse_Ind_loan', 'CAC_Religious_Ind_loan', 'SEC_Construction_Ind_loan', 'SEC_Land_Ind_loan', 'CAC_1_4_Fam_Ind_loan', 'CAC_Dev_Land_Ind_loan', 'CAC_Raw_Land_Ind_loan', 'Int_then_Prin_Ind', 'Prin_plus_Int_Ind', 'Int_and_Prin_Mat_Ind', 'Int_Only_Ind', 'Int_Prin_Sep_Ind', 'SEC_Other_Ind_loan', 'CAC_Other_Ind_loan', 'Int_Prim_Prin_Sec_Ind', 'Other_Pmt_Ind', 'Int_and_Prin_Sep_Ind', 'loan_rating', 'ind', 'COUNTERPARTYID', 'Remaining_Term', 'Remaining_Term2', 'Remaining_Term_Final', 'UNCONDITIONAL_CANCELLABLE', 'EVER_DELINQUENT_FLG', 'ORIG_UNPAID_BALANCE_AMT', 'FINANCIAL_DIFFICULTIES_FLG', 'CREDIT_QUALITY_INDICATOR', 'WRITE_OFF_AMT', 'DLNQ_L6MO', 'PMT_L6MO', 'INT_RT_DIFF', 'GEOGRAPHY_L3', 'GEOGRAPHY_L1', 'GEOGRAPHY_L2', 'PRODUCT_L1', 'PRODUCT_L2', 'LOB_L2', 'LOB_L1', 'VINTAGE_DESC', 'DPD_CLASS', 'prev_ECL', 'age', 'orig_date', 'orig_upb', 'upb', 'loan_eir', 'DLQSTATE', 'MONTHSSINCEDLQ', 'EVER_DELQ', 'Date_dt', 'Date_mon', 'MaturityDate_dt', 'MaturityDate_mon', 'vintage_year', 'vintage_YrMo', 'vintage_YrMo_1', 'vintage_mon', 'segment_level_0', 'segment_level_1', 'utilization_rate', 'IntRt_flag_GE15', 'OpenDt_Dt', 'OpenDt_YrMo', 'Age_mon', 'Vintage_Days', 'Vintage_Days2day']\n"
          ],
          "name": "stdout"
        }
      ]
    },
    {
      "cell_type": "markdown",
      "metadata": {
        "id": "PdLAXUwmQMlp",
        "colab_type": "text"
      },
      "source": [
        ""
      ]
    },
    {
      "cell_type": "code",
      "metadata": {
        "id": "ARBAEOskQMlq",
        "colab_type": "code",
        "colab": {},
        "outputId": "a02b06e4-9778-4f40-bf77-7cf3f143bdf3"
      },
      "source": [
        "Prin_all_0 = Prin_all[['INSTID', 'NetGLOutstandingBalance_x', 'PrinPayment_L6mon', 'RevolveIn', 'REVOLVING_FLG','PrinPayments']]\n",
        "print(Prin_all_0.head())"
      ],
      "execution_count": 0,
      "outputs": [
        {
          "output_type": "stream",
          "text": [
            "      INSTID  NetGLOutstandingBalance_x  PrinPayment_L6mon  RevolveIn  \\\n",
            "0  100000158                       0.00               6.00        NaN   \n",
            "1  100000169                       0.00               3.00        NaN   \n",
            "2  100000170                       0.00               3.00        1.0   \n",
            "3  100000183                   40000.00          -19997.00        NaN   \n",
            "4  100000245                  162598.12          -61296.06        1.0   \n",
            "\n",
            "  REVOLVING_FLG  PrinPayments  \n",
            "0           NaN           NaN  \n",
            "1           NaN           NaN  \n",
            "2             Y           0.0  \n",
            "3           NaN           NaN  \n",
            "4             Y        3225.4  \n"
          ],
          "name": "stdout"
        }
      ]
    },
    {
      "cell_type": "code",
      "metadata": {
        "id": "jEs2sMGlQMls",
        "colab_type": "code",
        "colab": {},
        "outputId": "4a98da7b-6fd1-4871-c440-ab4c046d6247"
      },
      "source": [
        "prin_miss_cnt = Prin_all_0['PrinPayments'].isnull().sum()\n",
        "print(prin_miss_cnt)\n",
        "revolving_cnt = Prin_all_0[Prin_all_0['RevolveIn'] == 1, ].shape(0)"
      ],
      "execution_count": 0,
      "outputs": [
        {
          "output_type": "stream",
          "text": [
            "37805\n"
          ],
          "name": "stdout"
        }
      ]
    },
    {
      "cell_type": "code",
      "metadata": {
        "collapsed": true,
        "id": "qeGVdMzuQMlv",
        "colab_type": "code",
        "colab": {}
      },
      "source": [
        "Prin_neg = Prin_all_0.loc[Prin_all_0['REVOLVING_FLG'] == 'Y',]"
      ],
      "execution_count": 0,
      "outputs": []
    },
    {
      "cell_type": "code",
      "metadata": {
        "id": "5U2bdiNEQMly",
        "colab_type": "code",
        "colab": {},
        "outputId": "f3cc95d2-91e9-4f76-e9e7-5f314fd5ad08"
      },
      "source": [
        "print(Prin_neg)"
      ],
      "execution_count": 0,
      "outputs": [
        {
          "output_type": "stream",
          "text": [
            "          INSTID  NetGLOutstandingBalance_x  PrinPayment_L6mon  RevolveIn  \\\n",
            "2      100000170                       0.00              3.000        1.0   \n",
            "4      100000245                  162598.12         -61296.060        1.0   \n",
            "6      100001161                       0.00          46201.075        1.0   \n",
            "7      100001250                    4748.54          -2371.270        1.0   \n",
            "9       10000128                       0.00          48314.515        1.0   \n",
            "10     100001282                    4904.81          -2449.405        1.0   \n",
            "11     100001326                       0.00           2455.405        1.0   \n",
            "14     100002407                   35000.00          50068.850        1.0   \n",
            "15     100002422                       0.00          17503.000        1.0   \n",
            "18     100003237                    2513.72          14254.175        1.0   \n",
            "21       1000114                    4905.57          -1049.730        1.0   \n",
            "22       1000127                       0.00           2455.785        1.0   \n",
            "23       1000135                       0.00              3.000        1.0   \n",
            "24       1000211                     107.47            -50.735        1.0   \n",
            "25        100025                       0.00             56.735        1.0   \n",
            "26       1000267                       0.00              3.000        1.0   \n",
            "27       1000284                     730.96           -362.480        1.0   \n",
            "28       1000328                    4951.71          -2107.375        1.0   \n",
            "29        100043                       0.00           2478.855        1.0   \n",
            "30       1000469                       0.00              3.000        1.0   \n",
            "31       1000535                    7742.04          -3868.020        1.0   \n",
            "32       1000542                     100.00           3824.020        1.0   \n",
            "33       1000561                       0.00             53.000        1.0   \n",
            "34       1000578                    8468.42          -4231.210        1.0   \n",
            "35        100065                   39085.68         -15305.630        1.0   \n",
            "36       1000671                    4742.11          17174.785        1.0   \n",
            "37     100100165                   12129.40          -3690.645        1.0   \n",
            "40     100100235                    5913.12         474843.680        1.0   \n",
            "41     100100405                    4704.93            607.095        1.0   \n",
            "42       1001007                       0.00           2355.465        1.0   \n",
            "...          ...                        ...                ...        ...   \n",
            "65609   98600333                       0.00        1048480.485        1.0   \n",
            "65610   98600355                   32934.32         -16464.160        1.0   \n",
            "65615   98601397                    2944.43          -1469.215        1.0   \n",
            "65616   98700222                       0.00           1475.215        1.0   \n",
            "65618   98700299                       0.00              3.000        1.0   \n",
            "65620   98700355                       0.00          21256.645        1.0   \n",
            "65621   98700356                       0.00              3.000        1.0   \n",
            "65622   98700372                       0.00              3.000        1.0   \n",
            "65625   98701366                   14999.53           -755.530        1.0   \n",
            "65626   98701385                    1369.62           6817.955        1.0   \n",
            "65629   98800176                   14765.74          -7379.870        1.0   \n",
            "65632   98800281                       0.00         288142.495        1.0   \n",
            "65633   98801369                       0.00              3.000        1.0   \n",
            "65640   99000186                    1366.56         135649.490        1.0   \n",
            "65641   99000304                    7558.03          -3092.735        1.0   \n",
            "65642   99000336                       0.00           3782.015        1.0   \n",
            "65645    9900130                       0.00           2925.960        1.0   \n",
            "65649    9900259                    9184.96           6019.190        1.0   \n",
            "65650    9900266                       0.00           4595.480        1.0   \n",
            "65651   99100386                       0.00              3.000        1.0   \n",
            "65656   99200285                    8462.05          -4228.025        1.0   \n",
            "65660   99300308                       0.00              3.000        1.0   \n",
            "65665   99301222                    9920.77           7042.615        1.0   \n",
            "65668   99400191                       0.00           9939.970        1.0   \n",
            "65669   99400206                    4876.75          -2435.375        1.0   \n",
            "65670   99400247                       0.00           2441.375        1.0   \n",
            "65673   99400389                    3292.72          14588.595        1.0   \n",
            "65677       9941                       0.00          19138.135        1.0   \n",
            "65678       9945                       0.00              3.000        1.0   \n",
            "65679       9996                       0.00              3.000        1.0   \n",
            "\n",
            "      REVOLVING_FLG  \n",
            "2                 Y  \n",
            "4                 Y  \n",
            "6                 Y  \n",
            "7                 Y  \n",
            "9                 Y  \n",
            "10                Y  \n",
            "11                Y  \n",
            "14                Y  \n",
            "15                Y  \n",
            "18                Y  \n",
            "21                Y  \n",
            "22                Y  \n",
            "23                Y  \n",
            "24                Y  \n",
            "25                Y  \n",
            "26                Y  \n",
            "27                Y  \n",
            "28                Y  \n",
            "29                Y  \n",
            "30                Y  \n",
            "31                Y  \n",
            "32                Y  \n",
            "33                Y  \n",
            "34                Y  \n",
            "35                Y  \n",
            "36                Y  \n",
            "37                Y  \n",
            "40                Y  \n",
            "41                Y  \n",
            "42                Y  \n",
            "...             ...  \n",
            "65609             Y  \n",
            "65610             Y  \n",
            "65615             Y  \n",
            "65616             Y  \n",
            "65618             Y  \n",
            "65620             Y  \n",
            "65621             Y  \n",
            "65622             Y  \n",
            "65625             Y  \n",
            "65626             Y  \n",
            "65629             Y  \n",
            "65632             Y  \n",
            "65633             Y  \n",
            "65640             Y  \n",
            "65641             Y  \n",
            "65642             Y  \n",
            "65645             Y  \n",
            "65649             Y  \n",
            "65650             Y  \n",
            "65651             Y  \n",
            "65656             Y  \n",
            "65660             Y  \n",
            "65665             Y  \n",
            "65668             Y  \n",
            "65669             Y  \n",
            "65670             Y  \n",
            "65673             Y  \n",
            "65677             Y  \n",
            "65678             Y  \n",
            "65679             Y  \n",
            "\n",
            "[21932 rows x 5 columns]\n"
          ],
          "name": "stdout"
        }
      ]
    },
    {
      "cell_type": "code",
      "metadata": {
        "id": "k-7t-6QkQMl3",
        "colab_type": "code",
        "colab": {},
        "outputId": "e5f60db3-8744-442f-8577-6e3b50c032b4"
      },
      "source": [
        "for sheet in df_lookups.sheets():\n",
        "    print (sheet.name)"
      ],
      "execution_count": 0,
      "outputs": [
        {
          "output_type": "stream",
          "text": [
            "forecast_logic_NonRev\n",
            "Models\n",
            "LGD_recovery_table\n",
            "Utilization_table\n",
            "PA_age\n",
            "PA_ssn\n",
            "PA_vintage\n",
            "PA_time\n",
            "PD_Vintage\n",
            "PD_Age\n",
            "PD_Ssn\n",
            "logic for defining two-tier seg\n"
          ],
          "name": "stdout"
        }
      ]
    },
    {
      "cell_type": "code",
      "metadata": {
        "collapsed": true,
        "id": "gaxp0GjIQMl4",
        "colab_type": "code",
        "colab": {}
      },
      "source": [
        ""
      ],
      "execution_count": 0,
      "outputs": []
    },
    {
      "cell_type": "code",
      "metadata": {
        "collapsed": true,
        "id": "Ggr99SCBQMl6",
        "colab_type": "code",
        "colab": {}
      },
      "source": [
        ""
      ],
      "execution_count": 0,
      "outputs": []
    },
    {
      "cell_type": "code",
      "metadata": {
        "collapsed": true,
        "id": "4yPCJuv3QMl9",
        "colab_type": "code",
        "colab": {}
      },
      "source": [
        ""
      ],
      "execution_count": 0,
      "outputs": []
    },
    {
      "cell_type": "code",
      "metadata": {
        "collapsed": true,
        "id": "-1OFuRTnQMmD",
        "colab_type": "code",
        "colab": {}
      },
      "source": [
        ""
      ],
      "execution_count": 0,
      "outputs": []
    },
    {
      "cell_type": "code",
      "metadata": {
        "collapsed": true,
        "id": "piI6giHGQMmJ",
        "colab_type": "code",
        "colab": {}
      },
      "source": [
        ""
      ],
      "execution_count": 0,
      "outputs": []
    },
    {
      "cell_type": "code",
      "metadata": {
        "collapsed": true,
        "id": "dNbRHGXCQMmL",
        "colab_type": "code",
        "colab": {}
      },
      "source": [
        ""
      ],
      "execution_count": 0,
      "outputs": []
    },
    {
      "cell_type": "code",
      "metadata": {
        "collapsed": true,
        "id": "gyqzwmjZQMmM",
        "colab_type": "code",
        "colab": {}
      },
      "source": [
        ""
      ],
      "execution_count": 0,
      "outputs": []
    },
    {
      "cell_type": "code",
      "metadata": {
        "collapsed": true,
        "id": "IXXp8PSUQMmO",
        "colab_type": "code",
        "colab": {}
      },
      "source": [
        ""
      ],
      "execution_count": 0,
      "outputs": []
    },
    {
      "cell_type": "code",
      "metadata": {
        "collapsed": true,
        "id": "IPd_BZRCQMmQ",
        "colab_type": "code",
        "colab": {}
      },
      "source": [
        ""
      ],
      "execution_count": 0,
      "outputs": []
    },
    {
      "cell_type": "code",
      "metadata": {
        "collapsed": true,
        "id": "tKtCC5r6QMmS",
        "colab_type": "code",
        "colab": {}
      },
      "source": [
        ""
      ],
      "execution_count": 0,
      "outputs": []
    },
    {
      "cell_type": "code",
      "metadata": {
        "collapsed": true,
        "id": "B_o_wOSxQMmT",
        "colab_type": "code",
        "colab": {}
      },
      "source": [
        ""
      ],
      "execution_count": 0,
      "outputs": []
    },
    {
      "cell_type": "code",
      "metadata": {
        "collapsed": true,
        "id": "kqRop8qDQMmc",
        "colab_type": "code",
        "colab": {}
      },
      "source": [
        ""
      ],
      "execution_count": 0,
      "outputs": []
    },
    {
      "cell_type": "code",
      "metadata": {
        "collapsed": true,
        "id": "pBSfu-4yQMme",
        "colab_type": "code",
        "colab": {}
      },
      "source": [
        ""
      ],
      "execution_count": 0,
      "outputs": []
    }
  ]
}